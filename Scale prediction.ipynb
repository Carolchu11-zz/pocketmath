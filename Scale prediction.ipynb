{
 "cells": [
  {
   "cell_type": "code",
   "execution_count": 1,
   "metadata": {
    "collapsed": true
   },
   "outputs": [],
   "source": [
    "import pandas as pd\n",
    "import numpy as np\n",
    "from sklearn.cluster import KMeans\n",
    "import matplotlib.pyplot as plt\n",
    "import matplotlib.cm as cm\n",
    "import seaborn as sn\n",
    "%matplotlib inline"
   ]
  },
  {
   "cell_type": "code",
   "execution_count": 2,
   "metadata": {
    "collapsed": true
   },
   "outputs": [],
   "source": [
    "data = pd.read_csv('/Users/carol/Documents/data/Carousell/app_selection_logging_july_06.csv')"
   ]
  },
  {
   "cell_type": "code",
   "execution_count": 47,
   "metadata": {
    "collapsed": false
   },
   "outputs": [
    {
     "data": {
      "text/html": [
       "<div>\n",
       "<table border=\"1\" class=\"dataframe\">\n",
       "  <thead>\n",
       "    <tr style=\"text-align: right;\">\n",
       "      <th></th>\n",
       "      <th>publisher</th>\n",
       "      <th>city</th>\n",
       "      <th>brand</th>\n",
       "      <th>model</th>\n",
       "      <th>day_of_week</th>\n",
       "      <th>hour_of_day_utc</th>\n",
       "      <th>carousell_uniques</th>\n",
       "      <th>total_uniques</th>\n",
       "      <th>total_impressions</th>\n",
       "      <th>hit_rate</th>\n",
       "    </tr>\n",
       "  </thead>\n",
       "  <tbody>\n",
       "    <tr>\n",
       "      <th>0</th>\n",
       "      <td>360 Battery - Battery Saver</td>\n",
       "      <td>14;kuala lumpur</td>\n",
       "      <td>Samsung</td>\n",
       "      <td>SM-N9005</td>\n",
       "      <td>4</td>\n",
       "      <td>10</td>\n",
       "      <td>15</td>\n",
       "      <td>99</td>\n",
       "      <td>6148</td>\n",
       "      <td>0.151515</td>\n",
       "    </tr>\n",
       "    <tr>\n",
       "      <th>1</th>\n",
       "      <td>360 Battery - Battery Saver</td>\n",
       "      <td>14;kuala lumpur</td>\n",
       "      <td>Samsung</td>\n",
       "      <td>SM-N9005</td>\n",
       "      <td>4</td>\n",
       "      <td>12</td>\n",
       "      <td>15</td>\n",
       "      <td>97</td>\n",
       "      <td>7790</td>\n",
       "      <td>0.154639</td>\n",
       "    </tr>\n",
       "    <tr>\n",
       "      <th>2</th>\n",
       "      <td>360 Battery - Battery Saver</td>\n",
       "      <td>14;kuala lumpur</td>\n",
       "      <td>Samsung</td>\n",
       "      <td>SM-N9005</td>\n",
       "      <td>4</td>\n",
       "      <td>6</td>\n",
       "      <td>15</td>\n",
       "      <td>101</td>\n",
       "      <td>6577</td>\n",
       "      <td>0.148515</td>\n",
       "    </tr>\n",
       "    <tr>\n",
       "      <th>3</th>\n",
       "      <td>360 Battery - Battery Saver</td>\n",
       "      <td>14;kuala lumpur</td>\n",
       "      <td>Samsung</td>\n",
       "      <td>SM-N9005</td>\n",
       "      <td>4</td>\n",
       "      <td>9</td>\n",
       "      <td>12</td>\n",
       "      <td>90</td>\n",
       "      <td>5867</td>\n",
       "      <td>0.133333</td>\n",
       "    </tr>\n",
       "    <tr>\n",
       "      <th>4</th>\n",
       "      <td>360 Battery - Battery Saver</td>\n",
       "      <td>14;kuala lumpur</td>\n",
       "      <td>Samsung</td>\n",
       "      <td>SM-N9005</td>\n",
       "      <td>4</td>\n",
       "      <td>2</td>\n",
       "      <td>12</td>\n",
       "      <td>69</td>\n",
       "      <td>3322</td>\n",
       "      <td>0.173913</td>\n",
       "    </tr>\n",
       "    <tr>\n",
       "      <th>5</th>\n",
       "      <td>360 Battery - Battery Saver</td>\n",
       "      <td>14;kuala lumpur</td>\n",
       "      <td>Samsung</td>\n",
       "      <td>SM-N9005</td>\n",
       "      <td>4</td>\n",
       "      <td>11</td>\n",
       "      <td>12</td>\n",
       "      <td>93</td>\n",
       "      <td>7611</td>\n",
       "      <td>0.129032</td>\n",
       "    </tr>\n",
       "    <tr>\n",
       "      <th>6</th>\n",
       "      <td>360 Battery - Battery Saver</td>\n",
       "      <td>14;kuala lumpur</td>\n",
       "      <td>Samsung</td>\n",
       "      <td>SM-N9005</td>\n",
       "      <td>4</td>\n",
       "      <td>7</td>\n",
       "      <td>11</td>\n",
       "      <td>86</td>\n",
       "      <td>6381</td>\n",
       "      <td>0.127907</td>\n",
       "    </tr>\n",
       "    <tr>\n",
       "      <th>7</th>\n",
       "      <td>360 Battery - Battery Saver</td>\n",
       "      <td>14;kuala lumpur</td>\n",
       "      <td>Samsung</td>\n",
       "      <td>SM-N9005</td>\n",
       "      <td>4</td>\n",
       "      <td>17</td>\n",
       "      <td>10</td>\n",
       "      <td>44</td>\n",
       "      <td>1778</td>\n",
       "      <td>0.227273</td>\n",
       "    </tr>\n",
       "    <tr>\n",
       "      <th>8</th>\n",
       "      <td>360 Battery - Battery Saver</td>\n",
       "      <td>14;kuala lumpur</td>\n",
       "      <td>Samsung</td>\n",
       "      <td>SM-N9005</td>\n",
       "      <td>4</td>\n",
       "      <td>3</td>\n",
       "      <td>10</td>\n",
       "      <td>69</td>\n",
       "      <td>2995</td>\n",
       "      <td>0.144928</td>\n",
       "    </tr>\n",
       "    <tr>\n",
       "      <th>9</th>\n",
       "      <td>360 Battery - Battery Saver</td>\n",
       "      <td>14;kuala lumpur</td>\n",
       "      <td>Samsung</td>\n",
       "      <td>SM-N9005</td>\n",
       "      <td>4</td>\n",
       "      <td>13</td>\n",
       "      <td>10</td>\n",
       "      <td>84</td>\n",
       "      <td>7664</td>\n",
       "      <td>0.119048</td>\n",
       "    </tr>\n",
       "    <tr>\n",
       "      <th>10</th>\n",
       "      <td>360 Battery - Battery Saver</td>\n",
       "      <td>14;kuala lumpur</td>\n",
       "      <td>Samsung</td>\n",
       "      <td>SM-N9005</td>\n",
       "      <td>4</td>\n",
       "      <td>14</td>\n",
       "      <td>10</td>\n",
       "      <td>84</td>\n",
       "      <td>7656</td>\n",
       "      <td>0.119048</td>\n",
       "    </tr>\n",
       "    <tr>\n",
       "      <th>11</th>\n",
       "      <td>360 Battery - Battery Saver</td>\n",
       "      <td>14;kuala lumpur</td>\n",
       "      <td>Samsung</td>\n",
       "      <td>SM-N9005</td>\n",
       "      <td>4</td>\n",
       "      <td>8</td>\n",
       "      <td>9</td>\n",
       "      <td>70</td>\n",
       "      <td>4663</td>\n",
       "      <td>0.128571</td>\n",
       "    </tr>\n",
       "    <tr>\n",
       "      <th>12</th>\n",
       "      <td>360 Battery - Battery Saver</td>\n",
       "      <td>14;kuala lumpur</td>\n",
       "      <td>Samsung</td>\n",
       "      <td>SM-N9005</td>\n",
       "      <td>4</td>\n",
       "      <td>0</td>\n",
       "      <td>9</td>\n",
       "      <td>65</td>\n",
       "      <td>1806</td>\n",
       "      <td>0.138462</td>\n",
       "    </tr>\n",
       "    <tr>\n",
       "      <th>13</th>\n",
       "      <td>360 Battery - Battery Saver</td>\n",
       "      <td>14;kuala lumpur</td>\n",
       "      <td>Samsung</td>\n",
       "      <td>SM-N9208</td>\n",
       "      <td>4</td>\n",
       "      <td>14</td>\n",
       "      <td>9</td>\n",
       "      <td>60</td>\n",
       "      <td>2083</td>\n",
       "      <td>0.150000</td>\n",
       "    </tr>\n",
       "    <tr>\n",
       "      <th>14</th>\n",
       "      <td>360 Battery - Battery Saver</td>\n",
       "      <td>14;kuala lumpur</td>\n",
       "      <td>Samsung</td>\n",
       "      <td>SM-N9005</td>\n",
       "      <td>4</td>\n",
       "      <td>5</td>\n",
       "      <td>9</td>\n",
       "      <td>79</td>\n",
       "      <td>7123</td>\n",
       "      <td>0.113924</td>\n",
       "    </tr>\n",
       "    <tr>\n",
       "      <th>15</th>\n",
       "      <td>360 Battery - Battery Saver</td>\n",
       "      <td>14;kuala lumpur</td>\n",
       "      <td>Samsung</td>\n",
       "      <td>SM-N9005</td>\n",
       "      <td>4</td>\n",
       "      <td>15</td>\n",
       "      <td>8</td>\n",
       "      <td>75</td>\n",
       "      <td>10143</td>\n",
       "      <td>0.106667</td>\n",
       "    </tr>\n",
       "    <tr>\n",
       "      <th>16</th>\n",
       "      <td>360 Battery - Battery Saver</td>\n",
       "      <td>14;kuala lumpur</td>\n",
       "      <td>Samsung</td>\n",
       "      <td>SM-N9208</td>\n",
       "      <td>4</td>\n",
       "      <td>6</td>\n",
       "      <td>8</td>\n",
       "      <td>58</td>\n",
       "      <td>1330</td>\n",
       "      <td>0.137931</td>\n",
       "    </tr>\n",
       "    <tr>\n",
       "      <th>17</th>\n",
       "      <td>360 Battery - Battery Saver</td>\n",
       "      <td>14;kuala lumpur</td>\n",
       "      <td>Samsung</td>\n",
       "      <td>SM-N9005</td>\n",
       "      <td>4</td>\n",
       "      <td>4</td>\n",
       "      <td>8</td>\n",
       "      <td>71</td>\n",
       "      <td>3908</td>\n",
       "      <td>0.112676</td>\n",
       "    </tr>\n",
       "    <tr>\n",
       "      <th>18</th>\n",
       "      <td>360 Battery - Battery Saver</td>\n",
       "      <td>14;kuala lumpur</td>\n",
       "      <td>Samsung</td>\n",
       "      <td>SM-N9208</td>\n",
       "      <td>4</td>\n",
       "      <td>12</td>\n",
       "      <td>8</td>\n",
       "      <td>58</td>\n",
       "      <td>2047</td>\n",
       "      <td>0.137931</td>\n",
       "    </tr>\n",
       "    <tr>\n",
       "      <th>19</th>\n",
       "      <td>360 Battery - Battery Saver</td>\n",
       "      <td>10;petaling jaya</td>\n",
       "      <td>Samsung</td>\n",
       "      <td>SM-N9005</td>\n",
       "      <td>4</td>\n",
       "      <td>12</td>\n",
       "      <td>7</td>\n",
       "      <td>25</td>\n",
       "      <td>2523</td>\n",
       "      <td>0.280000</td>\n",
       "    </tr>\n",
       "    <tr>\n",
       "      <th>20</th>\n",
       "      <td>360 Battery - Battery Saver</td>\n",
       "      <td>14;kuala lumpur</td>\n",
       "      <td>Samsung</td>\n",
       "      <td>SM-N9208</td>\n",
       "      <td>4</td>\n",
       "      <td>13</td>\n",
       "      <td>7</td>\n",
       "      <td>57</td>\n",
       "      <td>1588</td>\n",
       "      <td>0.122807</td>\n",
       "    </tr>\n",
       "    <tr>\n",
       "      <th>21</th>\n",
       "      <td>360 Battery - Battery Saver</td>\n",
       "      <td>14;kuala lumpur</td>\n",
       "      <td>Samsung</td>\n",
       "      <td>SM-N9005</td>\n",
       "      <td>4</td>\n",
       "      <td>20</td>\n",
       "      <td>7</td>\n",
       "      <td>32</td>\n",
       "      <td>1451</td>\n",
       "      <td>0.218750</td>\n",
       "    </tr>\n",
       "    <tr>\n",
       "      <th>22</th>\n",
       "      <td>360 Battery - Battery Saver</td>\n",
       "      <td>14;kuala lumpur</td>\n",
       "      <td>Samsung</td>\n",
       "      <td>SM-N9005</td>\n",
       "      <td>4</td>\n",
       "      <td>1</td>\n",
       "      <td>7</td>\n",
       "      <td>61</td>\n",
       "      <td>2460</td>\n",
       "      <td>0.114754</td>\n",
       "    </tr>\n",
       "    <tr>\n",
       "      <th>23</th>\n",
       "      <td>360 Battery - Battery Saver</td>\n",
       "      <td>14;kuala lumpur</td>\n",
       "      <td>Samsung</td>\n",
       "      <td>SM-N9005</td>\n",
       "      <td>4</td>\n",
       "      <td>16</td>\n",
       "      <td>7</td>\n",
       "      <td>47</td>\n",
       "      <td>4362</td>\n",
       "      <td>0.148936</td>\n",
       "    </tr>\n",
       "    <tr>\n",
       "      <th>24</th>\n",
       "      <td>360 Battery - Battery Saver</td>\n",
       "      <td>14;kuala lumpur</td>\n",
       "      <td>Samsung</td>\n",
       "      <td>SM-N9208</td>\n",
       "      <td>4</td>\n",
       "      <td>15</td>\n",
       "      <td>7</td>\n",
       "      <td>47</td>\n",
       "      <td>1850</td>\n",
       "      <td>0.148936</td>\n",
       "    </tr>\n",
       "    <tr>\n",
       "      <th>25</th>\n",
       "      <td>360 Battery - Battery Saver</td>\n",
       "      <td>10;petaling jaya</td>\n",
       "      <td>Samsung</td>\n",
       "      <td>SM-N9005</td>\n",
       "      <td>4</td>\n",
       "      <td>14</td>\n",
       "      <td>6</td>\n",
       "      <td>21</td>\n",
       "      <td>2133</td>\n",
       "      <td>0.285714</td>\n",
       "    </tr>\n",
       "    <tr>\n",
       "      <th>26</th>\n",
       "      <td>360 Battery - Battery Saver</td>\n",
       "      <td>10;petaling jaya</td>\n",
       "      <td>Samsung</td>\n",
       "      <td>SM-N9005</td>\n",
       "      <td>4</td>\n",
       "      <td>9</td>\n",
       "      <td>6</td>\n",
       "      <td>24</td>\n",
       "      <td>1129</td>\n",
       "      <td>0.250000</td>\n",
       "    </tr>\n",
       "    <tr>\n",
       "      <th>27</th>\n",
       "      <td>360 Battery - Battery Saver</td>\n",
       "      <td>10;petaling jaya</td>\n",
       "      <td>Samsung</td>\n",
       "      <td>SM-N9005</td>\n",
       "      <td>4</td>\n",
       "      <td>23</td>\n",
       "      <td>6</td>\n",
       "      <td>13</td>\n",
       "      <td>1691</td>\n",
       "      <td>0.461538</td>\n",
       "    </tr>\n",
       "    <tr>\n",
       "      <th>28</th>\n",
       "      <td>360 Battery - Battery Saver</td>\n",
       "      <td>14;kuala lumpur</td>\n",
       "      <td>Samsung</td>\n",
       "      <td>SM-N9005</td>\n",
       "      <td>4</td>\n",
       "      <td>21</td>\n",
       "      <td>5</td>\n",
       "      <td>32</td>\n",
       "      <td>882</td>\n",
       "      <td>0.156250</td>\n",
       "    </tr>\n",
       "    <tr>\n",
       "      <th>29</th>\n",
       "      <td>360 Battery - Battery Saver</td>\n",
       "      <td>14;kuala lumpur</td>\n",
       "      <td>Samsung</td>\n",
       "      <td>SM-N9005</td>\n",
       "      <td>4</td>\n",
       "      <td>18</td>\n",
       "      <td>5</td>\n",
       "      <td>28</td>\n",
       "      <td>763</td>\n",
       "      <td>0.178571</td>\n",
       "    </tr>\n",
       "    <tr>\n",
       "      <th>...</th>\n",
       "      <td>...</td>\n",
       "      <td>...</td>\n",
       "      <td>...</td>\n",
       "      <td>...</td>\n",
       "      <td>...</td>\n",
       "      <td>...</td>\n",
       "      <td>...</td>\n",
       "      <td>...</td>\n",
       "      <td>...</td>\n",
       "      <td>...</td>\n",
       "    </tr>\n",
       "    <tr>\n",
       "      <th>107087</th>\n",
       "      <td>z camera</td>\n",
       "      <td>14;batu settlement</td>\n",
       "      <td>OPPO</td>\n",
       "      <td>A37f</td>\n",
       "      <td>4</td>\n",
       "      <td>2</td>\n",
       "      <td>1</td>\n",
       "      <td>1</td>\n",
       "      <td>11</td>\n",
       "      <td>1.000000</td>\n",
       "    </tr>\n",
       "    <tr>\n",
       "      <th>107088</th>\n",
       "      <td>z camera</td>\n",
       "      <td>04;melaka</td>\n",
       "      <td>Samsung</td>\n",
       "      <td>SM-A510F</td>\n",
       "      <td>4</td>\n",
       "      <td>12</td>\n",
       "      <td>1</td>\n",
       "      <td>1</td>\n",
       "      <td>7</td>\n",
       "      <td>1.000000</td>\n",
       "    </tr>\n",
       "    <tr>\n",
       "      <th>107089</th>\n",
       "      <td>z camera</td>\n",
       "      <td>11;kuala terengganu</td>\n",
       "      <td>Vivo</td>\n",
       "      <td>Y35</td>\n",
       "      <td>4</td>\n",
       "      <td>5</td>\n",
       "      <td>1</td>\n",
       "      <td>1</td>\n",
       "      <td>11</td>\n",
       "      <td>1.000000</td>\n",
       "    </tr>\n",
       "    <tr>\n",
       "      <th>107090</th>\n",
       "      <td>z camera</td>\n",
       "      <td>10;klang</td>\n",
       "      <td>Samsung</td>\n",
       "      <td>GT-I9205</td>\n",
       "      <td>4</td>\n",
       "      <td>10</td>\n",
       "      <td>1</td>\n",
       "      <td>2</td>\n",
       "      <td>37</td>\n",
       "      <td>0.500000</td>\n",
       "    </tr>\n",
       "    <tr>\n",
       "      <th>107091</th>\n",
       "      <td>z camera</td>\n",
       "      <td>10;petaling jaya</td>\n",
       "      <td>Huawei</td>\n",
       "      <td>LON-L29</td>\n",
       "      <td>4</td>\n",
       "      <td>16</td>\n",
       "      <td>1</td>\n",
       "      <td>2</td>\n",
       "      <td>6</td>\n",
       "      <td>0.500000</td>\n",
       "    </tr>\n",
       "    <tr>\n",
       "      <th>107092</th>\n",
       "      <td>z camera</td>\n",
       "      <td>10;petaling jaya</td>\n",
       "      <td>Asus</td>\n",
       "      <td>T00G</td>\n",
       "      <td>4</td>\n",
       "      <td>13</td>\n",
       "      <td>1</td>\n",
       "      <td>5</td>\n",
       "      <td>59</td>\n",
       "      <td>0.200000</td>\n",
       "    </tr>\n",
       "    <tr>\n",
       "      <th>107093</th>\n",
       "      <td>z camera</td>\n",
       "      <td>01;johor bahru</td>\n",
       "      <td>Samsung</td>\n",
       "      <td>SM-G935F</td>\n",
       "      <td>4</td>\n",
       "      <td>18</td>\n",
       "      <td>1</td>\n",
       "      <td>4</td>\n",
       "      <td>44</td>\n",
       "      <td>0.250000</td>\n",
       "    </tr>\n",
       "    <tr>\n",
       "      <th>107094</th>\n",
       "      <td>z camera</td>\n",
       "      <td>14;kuala lumpur</td>\n",
       "      <td>Samsung</td>\n",
       "      <td>SM-G920I</td>\n",
       "      <td>4</td>\n",
       "      <td>12</td>\n",
       "      <td>1</td>\n",
       "      <td>1</td>\n",
       "      <td>4</td>\n",
       "      <td>1.000000</td>\n",
       "    </tr>\n",
       "    <tr>\n",
       "      <th>107095</th>\n",
       "      <td>z camera</td>\n",
       "      <td>10;petaling jaya</td>\n",
       "      <td>Samsung</td>\n",
       "      <td>GT-P5220</td>\n",
       "      <td>4</td>\n",
       "      <td>13</td>\n",
       "      <td>1</td>\n",
       "      <td>1</td>\n",
       "      <td>3</td>\n",
       "      <td>1.000000</td>\n",
       "    </tr>\n",
       "    <tr>\n",
       "      <th>107096</th>\n",
       "      <td>z camera</td>\n",
       "      <td>10;seri kembangan</td>\n",
       "      <td>OPPO</td>\n",
       "      <td>A1601</td>\n",
       "      <td>4</td>\n",
       "      <td>10</td>\n",
       "      <td>1</td>\n",
       "      <td>4</td>\n",
       "      <td>40</td>\n",
       "      <td>0.250000</td>\n",
       "    </tr>\n",
       "    <tr>\n",
       "      <th>107097</th>\n",
       "      <td>z camera</td>\n",
       "      <td>10;bandar utama</td>\n",
       "      <td>Huawei</td>\n",
       "      <td>P9 Plus Dual SIM TD-LTE</td>\n",
       "      <td>4</td>\n",
       "      <td>21</td>\n",
       "      <td>1</td>\n",
       "      <td>2</td>\n",
       "      <td>12</td>\n",
       "      <td>0.500000</td>\n",
       "    </tr>\n",
       "    <tr>\n",
       "      <th>107098</th>\n",
       "      <td>z camera</td>\n",
       "      <td>10;puchong</td>\n",
       "      <td>Samsung</td>\n",
       "      <td>SM-J700F</td>\n",
       "      <td>4</td>\n",
       "      <td>5</td>\n",
       "      <td>1</td>\n",
       "      <td>3</td>\n",
       "      <td>56</td>\n",
       "      <td>0.333333</td>\n",
       "    </tr>\n",
       "    <tr>\n",
       "      <th>107099</th>\n",
       "      <td>z camera</td>\n",
       "      <td>10;seri kembangan</td>\n",
       "      <td>ZTE</td>\n",
       "      <td>Blade V0720</td>\n",
       "      <td>4</td>\n",
       "      <td>11</td>\n",
       "      <td>1</td>\n",
       "      <td>1</td>\n",
       "      <td>6</td>\n",
       "      <td>1.000000</td>\n",
       "    </tr>\n",
       "    <tr>\n",
       "      <th>107100</th>\n",
       "      <td>z camera</td>\n",
       "      <td>10;shah alam</td>\n",
       "      <td>OPPO</td>\n",
       "      <td>X9009</td>\n",
       "      <td>4</td>\n",
       "      <td>11</td>\n",
       "      <td>1</td>\n",
       "      <td>9</td>\n",
       "      <td>120</td>\n",
       "      <td>0.111111</td>\n",
       "    </tr>\n",
       "    <tr>\n",
       "      <th>107101</th>\n",
       "      <td>z camera</td>\n",
       "      <td>14;kuala lumpur</td>\n",
       "      <td>Samsung</td>\n",
       "      <td>GT-I9505</td>\n",
       "      <td>4</td>\n",
       "      <td>4</td>\n",
       "      <td>1</td>\n",
       "      <td>4</td>\n",
       "      <td>17</td>\n",
       "      <td>0.250000</td>\n",
       "    </tr>\n",
       "    <tr>\n",
       "      <th>107102</th>\n",
       "      <td>z camera</td>\n",
       "      <td>10;shah alam</td>\n",
       "      <td>Samsung</td>\n",
       "      <td>SM-G750A</td>\n",
       "      <td>4</td>\n",
       "      <td>4</td>\n",
       "      <td>1</td>\n",
       "      <td>2</td>\n",
       "      <td>12</td>\n",
       "      <td>0.500000</td>\n",
       "    </tr>\n",
       "    <tr>\n",
       "      <th>107103</th>\n",
       "      <td>z camera</td>\n",
       "      <td>01;ulu tiram</td>\n",
       "      <td>Huawei</td>\n",
       "      <td>MHA-L29</td>\n",
       "      <td>4</td>\n",
       "      <td>4</td>\n",
       "      <td>1</td>\n",
       "      <td>1</td>\n",
       "      <td>1</td>\n",
       "      <td>1.000000</td>\n",
       "    </tr>\n",
       "    <tr>\n",
       "      <th>107104</th>\n",
       "      <td>z camera</td>\n",
       "      <td>10;shah alam</td>\n",
       "      <td>Samsung</td>\n",
       "      <td>SM-G900F</td>\n",
       "      <td>4</td>\n",
       "      <td>2</td>\n",
       "      <td>1</td>\n",
       "      <td>4</td>\n",
       "      <td>34</td>\n",
       "      <td>0.250000</td>\n",
       "    </tr>\n",
       "    <tr>\n",
       "      <th>107105</th>\n",
       "      <td>z camera</td>\n",
       "      <td>10;kajang</td>\n",
       "      <td>OPPO</td>\n",
       "      <td>R7f</td>\n",
       "      <td>4</td>\n",
       "      <td>23</td>\n",
       "      <td>1</td>\n",
       "      <td>1</td>\n",
       "      <td>1</td>\n",
       "      <td>1.000000</td>\n",
       "    </tr>\n",
       "    <tr>\n",
       "      <th>107106</th>\n",
       "      <td>z camera</td>\n",
       "      <td>07;lebuh downing</td>\n",
       "      <td>Samsung</td>\n",
       "      <td>SM-A800F</td>\n",
       "      <td>4</td>\n",
       "      <td>13</td>\n",
       "      <td>1</td>\n",
       "      <td>1</td>\n",
       "      <td>5</td>\n",
       "      <td>1.000000</td>\n",
       "    </tr>\n",
       "    <tr>\n",
       "      <th>107107</th>\n",
       "      <td>z camera</td>\n",
       "      <td>10;batu caves</td>\n",
       "      <td>OPPO</td>\n",
       "      <td>R7Plusf</td>\n",
       "      <td>4</td>\n",
       "      <td>4</td>\n",
       "      <td>1</td>\n",
       "      <td>1</td>\n",
       "      <td>3</td>\n",
       "      <td>1.000000</td>\n",
       "    </tr>\n",
       "    <tr>\n",
       "      <th>107108</th>\n",
       "      <td>z camera</td>\n",
       "      <td>06;kuantan</td>\n",
       "      <td>Vivo</td>\n",
       "      <td>V3Max</td>\n",
       "      <td>4</td>\n",
       "      <td>23</td>\n",
       "      <td>1</td>\n",
       "      <td>2</td>\n",
       "      <td>8</td>\n",
       "      <td>0.500000</td>\n",
       "    </tr>\n",
       "    <tr>\n",
       "      <th>107109</th>\n",
       "      <td>z camera</td>\n",
       "      <td>14;kuala lumpur</td>\n",
       "      <td>Samsung</td>\n",
       "      <td>SM-T715Y</td>\n",
       "      <td>4</td>\n",
       "      <td>19</td>\n",
       "      <td>1</td>\n",
       "      <td>3</td>\n",
       "      <td>11</td>\n",
       "      <td>0.333333</td>\n",
       "    </tr>\n",
       "    <tr>\n",
       "      <th>107110</th>\n",
       "      <td>z camera</td>\n",
       "      <td>10;klang</td>\n",
       "      <td>Samsung</td>\n",
       "      <td>GT-N7100</td>\n",
       "      <td>4</td>\n",
       "      <td>7</td>\n",
       "      <td>1</td>\n",
       "      <td>3</td>\n",
       "      <td>18</td>\n",
       "      <td>0.333333</td>\n",
       "    </tr>\n",
       "    <tr>\n",
       "      <th>107111</th>\n",
       "      <td>z camera</td>\n",
       "      <td>10;petaling jaya</td>\n",
       "      <td>Xiaomi</td>\n",
       "      <td>Note 1LTE</td>\n",
       "      <td>4</td>\n",
       "      <td>16</td>\n",
       "      <td>1</td>\n",
       "      <td>7</td>\n",
       "      <td>17</td>\n",
       "      <td>0.142857</td>\n",
       "    </tr>\n",
       "    <tr>\n",
       "      <th>107112</th>\n",
       "      <td>z camera</td>\n",
       "      <td>06;kuantan</td>\n",
       "      <td>Samsung</td>\n",
       "      <td>SM-N9005</td>\n",
       "      <td>4</td>\n",
       "      <td>14</td>\n",
       "      <td>1</td>\n",
       "      <td>3</td>\n",
       "      <td>45</td>\n",
       "      <td>0.333333</td>\n",
       "    </tr>\n",
       "    <tr>\n",
       "      <th>107113</th>\n",
       "      <td>z camera</td>\n",
       "      <td>10;bandar utama</td>\n",
       "      <td>Vivo</td>\n",
       "      <td>V3</td>\n",
       "      <td>4</td>\n",
       "      <td>16</td>\n",
       "      <td>1</td>\n",
       "      <td>2</td>\n",
       "      <td>7</td>\n",
       "      <td>0.500000</td>\n",
       "    </tr>\n",
       "    <tr>\n",
       "      <th>107114</th>\n",
       "      <td>z camera</td>\n",
       "      <td>13;miri</td>\n",
       "      <td>Vivo</td>\n",
       "      <td>V3Max</td>\n",
       "      <td>4</td>\n",
       "      <td>13</td>\n",
       "      <td>1</td>\n",
       "      <td>2</td>\n",
       "      <td>11</td>\n",
       "      <td>0.500000</td>\n",
       "    </tr>\n",
       "    <tr>\n",
       "      <th>107115</th>\n",
       "      <td>z camera</td>\n",
       "      <td>07;lebuh downing</td>\n",
       "      <td>Vivo</td>\n",
       "      <td>Y35</td>\n",
       "      <td>4</td>\n",
       "      <td>16</td>\n",
       "      <td>1</td>\n",
       "      <td>3</td>\n",
       "      <td>6</td>\n",
       "      <td>0.333333</td>\n",
       "    </tr>\n",
       "    <tr>\n",
       "      <th>107116</th>\n",
       "      <td>z camera</td>\n",
       "      <td>10;petaling jaya</td>\n",
       "      <td>Alcatel</td>\n",
       "      <td>5010D</td>\n",
       "      <td>4</td>\n",
       "      <td>21</td>\n",
       "      <td>1</td>\n",
       "      <td>5</td>\n",
       "      <td>20</td>\n",
       "      <td>0.200000</td>\n",
       "    </tr>\n",
       "  </tbody>\n",
       "</table>\n",
       "<p>107117 rows × 10 columns</p>\n",
       "</div>"
      ],
      "text/plain": [
       "                          publisher                 city    brand  \\\n",
       "0       360 Battery - Battery Saver      14;kuala lumpur  Samsung   \n",
       "1       360 Battery - Battery Saver      14;kuala lumpur  Samsung   \n",
       "2       360 Battery - Battery Saver      14;kuala lumpur  Samsung   \n",
       "3       360 Battery - Battery Saver      14;kuala lumpur  Samsung   \n",
       "4       360 Battery - Battery Saver      14;kuala lumpur  Samsung   \n",
       "5       360 Battery - Battery Saver      14;kuala lumpur  Samsung   \n",
       "6       360 Battery - Battery Saver      14;kuala lumpur  Samsung   \n",
       "7       360 Battery - Battery Saver      14;kuala lumpur  Samsung   \n",
       "8       360 Battery - Battery Saver      14;kuala lumpur  Samsung   \n",
       "9       360 Battery - Battery Saver      14;kuala lumpur  Samsung   \n",
       "10      360 Battery - Battery Saver      14;kuala lumpur  Samsung   \n",
       "11      360 Battery - Battery Saver      14;kuala lumpur  Samsung   \n",
       "12      360 Battery - Battery Saver      14;kuala lumpur  Samsung   \n",
       "13      360 Battery - Battery Saver      14;kuala lumpur  Samsung   \n",
       "14      360 Battery - Battery Saver      14;kuala lumpur  Samsung   \n",
       "15      360 Battery - Battery Saver      14;kuala lumpur  Samsung   \n",
       "16      360 Battery - Battery Saver      14;kuala lumpur  Samsung   \n",
       "17      360 Battery - Battery Saver      14;kuala lumpur  Samsung   \n",
       "18      360 Battery - Battery Saver      14;kuala lumpur  Samsung   \n",
       "19      360 Battery - Battery Saver     10;petaling jaya  Samsung   \n",
       "20      360 Battery - Battery Saver      14;kuala lumpur  Samsung   \n",
       "21      360 Battery - Battery Saver      14;kuala lumpur  Samsung   \n",
       "22      360 Battery - Battery Saver      14;kuala lumpur  Samsung   \n",
       "23      360 Battery - Battery Saver      14;kuala lumpur  Samsung   \n",
       "24      360 Battery - Battery Saver      14;kuala lumpur  Samsung   \n",
       "25      360 Battery - Battery Saver     10;petaling jaya  Samsung   \n",
       "26      360 Battery - Battery Saver     10;petaling jaya  Samsung   \n",
       "27      360 Battery - Battery Saver     10;petaling jaya  Samsung   \n",
       "28      360 Battery - Battery Saver      14;kuala lumpur  Samsung   \n",
       "29      360 Battery - Battery Saver      14;kuala lumpur  Samsung   \n",
       "...                             ...                  ...      ...   \n",
       "107087                     z camera   14;batu settlement     OPPO   \n",
       "107088                     z camera            04;melaka  Samsung   \n",
       "107089                     z camera  11;kuala terengganu     Vivo   \n",
       "107090                     z camera             10;klang  Samsung   \n",
       "107091                     z camera     10;petaling jaya   Huawei   \n",
       "107092                     z camera     10;petaling jaya     Asus   \n",
       "107093                     z camera       01;johor bahru  Samsung   \n",
       "107094                     z camera      14;kuala lumpur  Samsung   \n",
       "107095                     z camera     10;petaling jaya  Samsung   \n",
       "107096                     z camera    10;seri kembangan     OPPO   \n",
       "107097                     z camera      10;bandar utama   Huawei   \n",
       "107098                     z camera           10;puchong  Samsung   \n",
       "107099                     z camera    10;seri kembangan      ZTE   \n",
       "107100                     z camera         10;shah alam     OPPO   \n",
       "107101                     z camera      14;kuala lumpur  Samsung   \n",
       "107102                     z camera         10;shah alam  Samsung   \n",
       "107103                     z camera         01;ulu tiram   Huawei   \n",
       "107104                     z camera         10;shah alam  Samsung   \n",
       "107105                     z camera            10;kajang     OPPO   \n",
       "107106                     z camera     07;lebuh downing  Samsung   \n",
       "107107                     z camera        10;batu caves     OPPO   \n",
       "107108                     z camera           06;kuantan     Vivo   \n",
       "107109                     z camera      14;kuala lumpur  Samsung   \n",
       "107110                     z camera             10;klang  Samsung   \n",
       "107111                     z camera     10;petaling jaya   Xiaomi   \n",
       "107112                     z camera           06;kuantan  Samsung   \n",
       "107113                     z camera      10;bandar utama     Vivo   \n",
       "107114                     z camera              13;miri     Vivo   \n",
       "107115                     z camera     07;lebuh downing     Vivo   \n",
       "107116                     z camera     10;petaling jaya  Alcatel   \n",
       "\n",
       "                          model  day_of_week  hour_of_day_utc  \\\n",
       "0                      SM-N9005            4               10   \n",
       "1                      SM-N9005            4               12   \n",
       "2                      SM-N9005            4                6   \n",
       "3                      SM-N9005            4                9   \n",
       "4                      SM-N9005            4                2   \n",
       "5                      SM-N9005            4               11   \n",
       "6                      SM-N9005            4                7   \n",
       "7                      SM-N9005            4               17   \n",
       "8                      SM-N9005            4                3   \n",
       "9                      SM-N9005            4               13   \n",
       "10                     SM-N9005            4               14   \n",
       "11                     SM-N9005            4                8   \n",
       "12                     SM-N9005            4                0   \n",
       "13                     SM-N9208            4               14   \n",
       "14                     SM-N9005            4                5   \n",
       "15                     SM-N9005            4               15   \n",
       "16                     SM-N9208            4                6   \n",
       "17                     SM-N9005            4                4   \n",
       "18                     SM-N9208            4               12   \n",
       "19                     SM-N9005            4               12   \n",
       "20                     SM-N9208            4               13   \n",
       "21                     SM-N9005            4               20   \n",
       "22                     SM-N9005            4                1   \n",
       "23                     SM-N9005            4               16   \n",
       "24                     SM-N9208            4               15   \n",
       "25                     SM-N9005            4               14   \n",
       "26                     SM-N9005            4                9   \n",
       "27                     SM-N9005            4               23   \n",
       "28                     SM-N9005            4               21   \n",
       "29                     SM-N9005            4               18   \n",
       "...                         ...          ...              ...   \n",
       "107087                     A37f            4                2   \n",
       "107088                 SM-A510F            4               12   \n",
       "107089                      Y35            4                5   \n",
       "107090                 GT-I9205            4               10   \n",
       "107091                  LON-L29            4               16   \n",
       "107092                     T00G            4               13   \n",
       "107093                 SM-G935F            4               18   \n",
       "107094                 SM-G920I            4               12   \n",
       "107095                 GT-P5220            4               13   \n",
       "107096                    A1601            4               10   \n",
       "107097  P9 Plus Dual SIM TD-LTE            4               21   \n",
       "107098                 SM-J700F            4                5   \n",
       "107099              Blade V0720            4               11   \n",
       "107100                    X9009            4               11   \n",
       "107101                 GT-I9505            4                4   \n",
       "107102                 SM-G750A            4                4   \n",
       "107103                  MHA-L29            4                4   \n",
       "107104                 SM-G900F            4                2   \n",
       "107105                      R7f            4               23   \n",
       "107106                 SM-A800F            4               13   \n",
       "107107                  R7Plusf            4                4   \n",
       "107108                    V3Max            4               23   \n",
       "107109                 SM-T715Y            4               19   \n",
       "107110                 GT-N7100            4                7   \n",
       "107111                Note 1LTE            4               16   \n",
       "107112                 SM-N9005            4               14   \n",
       "107113                       V3            4               16   \n",
       "107114                    V3Max            4               13   \n",
       "107115                      Y35            4               16   \n",
       "107116                    5010D            4               21   \n",
       "\n",
       "        carousell_uniques  total_uniques  total_impressions  hit_rate  \n",
       "0                      15             99               6148  0.151515  \n",
       "1                      15             97               7790  0.154639  \n",
       "2                      15            101               6577  0.148515  \n",
       "3                      12             90               5867  0.133333  \n",
       "4                      12             69               3322  0.173913  \n",
       "5                      12             93               7611  0.129032  \n",
       "6                      11             86               6381  0.127907  \n",
       "7                      10             44               1778  0.227273  \n",
       "8                      10             69               2995  0.144928  \n",
       "9                      10             84               7664  0.119048  \n",
       "10                     10             84               7656  0.119048  \n",
       "11                      9             70               4663  0.128571  \n",
       "12                      9             65               1806  0.138462  \n",
       "13                      9             60               2083  0.150000  \n",
       "14                      9             79               7123  0.113924  \n",
       "15                      8             75              10143  0.106667  \n",
       "16                      8             58               1330  0.137931  \n",
       "17                      8             71               3908  0.112676  \n",
       "18                      8             58               2047  0.137931  \n",
       "19                      7             25               2523  0.280000  \n",
       "20                      7             57               1588  0.122807  \n",
       "21                      7             32               1451  0.218750  \n",
       "22                      7             61               2460  0.114754  \n",
       "23                      7             47               4362  0.148936  \n",
       "24                      7             47               1850  0.148936  \n",
       "25                      6             21               2133  0.285714  \n",
       "26                      6             24               1129  0.250000  \n",
       "27                      6             13               1691  0.461538  \n",
       "28                      5             32                882  0.156250  \n",
       "29                      5             28                763  0.178571  \n",
       "...                   ...            ...                ...       ...  \n",
       "107087                  1              1                 11  1.000000  \n",
       "107088                  1              1                  7  1.000000  \n",
       "107089                  1              1                 11  1.000000  \n",
       "107090                  1              2                 37  0.500000  \n",
       "107091                  1              2                  6  0.500000  \n",
       "107092                  1              5                 59  0.200000  \n",
       "107093                  1              4                 44  0.250000  \n",
       "107094                  1              1                  4  1.000000  \n",
       "107095                  1              1                  3  1.000000  \n",
       "107096                  1              4                 40  0.250000  \n",
       "107097                  1              2                 12  0.500000  \n",
       "107098                  1              3                 56  0.333333  \n",
       "107099                  1              1                  6  1.000000  \n",
       "107100                  1              9                120  0.111111  \n",
       "107101                  1              4                 17  0.250000  \n",
       "107102                  1              2                 12  0.500000  \n",
       "107103                  1              1                  1  1.000000  \n",
       "107104                  1              4                 34  0.250000  \n",
       "107105                  1              1                  1  1.000000  \n",
       "107106                  1              1                  5  1.000000  \n",
       "107107                  1              1                  3  1.000000  \n",
       "107108                  1              2                  8  0.500000  \n",
       "107109                  1              3                 11  0.333333  \n",
       "107110                  1              3                 18  0.333333  \n",
       "107111                  1              7                 17  0.142857  \n",
       "107112                  1              3                 45  0.333333  \n",
       "107113                  1              2                  7  0.500000  \n",
       "107114                  1              2                 11  0.500000  \n",
       "107115                  1              3                  6  0.333333  \n",
       "107116                  1              5                 20  0.200000  \n",
       "\n",
       "[107117 rows x 10 columns]"
      ]
     },
     "execution_count": 47,
     "metadata": {},
     "output_type": "execute_result"
    }
   ],
   "source": [
    "data"
   ]
  },
  {
   "cell_type": "markdown",
   "metadata": {},
   "source": [
    "## Select publisher DU Battery Saver - Battery Charger & Battery Life to do statistical analysis(for other publisher, the method is similar)"
   ]
  },
  {
   "cell_type": "code",
   "execution_count": 3,
   "metadata": {
    "collapsed": true
   },
   "outputs": [],
   "source": [
    "du = data[data['publisher'] == 'DU Battery Saver - Battery Charger & Battery Life']"
   ]
  },
  {
   "cell_type": "code",
   "execution_count": 4,
   "metadata": {
    "collapsed": false
   },
   "outputs": [
    {
     "data": {
      "text/html": [
       "<div>\n",
       "<table border=\"1\" class=\"dataframe\">\n",
       "  <thead>\n",
       "    <tr style=\"text-align: right;\">\n",
       "      <th></th>\n",
       "      <th>day_of_week</th>\n",
       "      <th>hour_of_day_utc</th>\n",
       "      <th>carousell_uniques</th>\n",
       "      <th>total_uniques</th>\n",
       "      <th>total_impressions</th>\n",
       "      <th>hit_rate</th>\n",
       "    </tr>\n",
       "  </thead>\n",
       "  <tbody>\n",
       "    <tr>\n",
       "      <th>count</th>\n",
       "      <td>7197.000000</td>\n",
       "      <td>7197.000000</td>\n",
       "      <td>7197.000000</td>\n",
       "      <td>7197.000000</td>\n",
       "      <td>7197.000000</td>\n",
       "      <td>7197.000000</td>\n",
       "    </tr>\n",
       "    <tr>\n",
       "      <th>mean</th>\n",
       "      <td>3.999861</td>\n",
       "      <td>11.754064</td>\n",
       "      <td>1.560372</td>\n",
       "      <td>11.074059</td>\n",
       "      <td>17.986939</td>\n",
       "      <td>0.457713</td>\n",
       "    </tr>\n",
       "    <tr>\n",
       "      <th>std</th>\n",
       "      <td>0.011788</td>\n",
       "      <td>6.932662</td>\n",
       "      <td>2.092796</td>\n",
       "      <td>21.492509</td>\n",
       "      <td>38.672408</td>\n",
       "      <td>0.372840</td>\n",
       "    </tr>\n",
       "    <tr>\n",
       "      <th>min</th>\n",
       "      <td>3.000000</td>\n",
       "      <td>0.000000</td>\n",
       "      <td>1.000000</td>\n",
       "      <td>1.000000</td>\n",
       "      <td>1.000000</td>\n",
       "      <td>0.012821</td>\n",
       "    </tr>\n",
       "    <tr>\n",
       "      <th>25%</th>\n",
       "      <td>4.000000</td>\n",
       "      <td>6.000000</td>\n",
       "      <td>1.000000</td>\n",
       "      <td>1.000000</td>\n",
       "      <td>2.000000</td>\n",
       "      <td>0.125000</td>\n",
       "    </tr>\n",
       "    <tr>\n",
       "      <th>50%</th>\n",
       "      <td>4.000000</td>\n",
       "      <td>12.000000</td>\n",
       "      <td>1.000000</td>\n",
       "      <td>4.000000</td>\n",
       "      <td>5.000000</td>\n",
       "      <td>0.333333</td>\n",
       "    </tr>\n",
       "    <tr>\n",
       "      <th>75%</th>\n",
       "      <td>4.000000</td>\n",
       "      <td>18.000000</td>\n",
       "      <td>1.000000</td>\n",
       "      <td>11.000000</td>\n",
       "      <td>17.000000</td>\n",
       "      <td>1.000000</td>\n",
       "    </tr>\n",
       "    <tr>\n",
       "      <th>max</th>\n",
       "      <td>4.000000</td>\n",
       "      <td>23.000000</td>\n",
       "      <td>39.000000</td>\n",
       "      <td>280.000000</td>\n",
       "      <td>492.000000</td>\n",
       "      <td>1.000000</td>\n",
       "    </tr>\n",
       "  </tbody>\n",
       "</table>\n",
       "</div>"
      ],
      "text/plain": [
       "       day_of_week  hour_of_day_utc  carousell_uniques  total_uniques  \\\n",
       "count  7197.000000      7197.000000        7197.000000    7197.000000   \n",
       "mean      3.999861        11.754064           1.560372      11.074059   \n",
       "std       0.011788         6.932662           2.092796      21.492509   \n",
       "min       3.000000         0.000000           1.000000       1.000000   \n",
       "25%       4.000000         6.000000           1.000000       1.000000   \n",
       "50%       4.000000        12.000000           1.000000       4.000000   \n",
       "75%       4.000000        18.000000           1.000000      11.000000   \n",
       "max       4.000000        23.000000          39.000000     280.000000   \n",
       "\n",
       "       total_impressions     hit_rate  \n",
       "count        7197.000000  7197.000000  \n",
       "mean           17.986939     0.457713  \n",
       "std            38.672408     0.372840  \n",
       "min             1.000000     0.012821  \n",
       "25%             2.000000     0.125000  \n",
       "50%             5.000000     0.333333  \n",
       "75%            17.000000     1.000000  \n",
       "max           492.000000     1.000000  "
      ]
     },
     "execution_count": 4,
     "metadata": {},
     "output_type": "execute_result"
    }
   ],
   "source": [
    "du.describe()"
   ]
  },
  {
   "cell_type": "markdown",
   "metadata": {},
   "source": [
    "## Clustering for publisher DU Battery Saver - Battery Charger & Battery Life"
   ]
  },
  {
   "cell_type": "markdown",
   "metadata": {},
   "source": [
    "### Select features for clustering"
   ]
  },
  {
   "cell_type": "code",
   "execution_count": 5,
   "metadata": {
    "collapsed": true
   },
   "outputs": [],
   "source": [
    "df_du = du[['publisher', 'brand', 'city', 'model']]"
   ]
  },
  {
   "cell_type": "code",
   "execution_count": 6,
   "metadata": {
    "collapsed": false
   },
   "outputs": [
    {
     "data": {
      "text/html": [
       "<div>\n",
       "<table border=\"1\" class=\"dataframe\">\n",
       "  <thead>\n",
       "    <tr style=\"text-align: right;\">\n",
       "      <th></th>\n",
       "      <th>publisher</th>\n",
       "      <th>brand</th>\n",
       "      <th>city</th>\n",
       "      <th>model</th>\n",
       "    </tr>\n",
       "  </thead>\n",
       "  <tbody>\n",
       "    <tr>\n",
       "      <th>16561</th>\n",
       "      <td>DU Battery Saver - Battery Charger &amp; Battery Life</td>\n",
       "      <td>Samsung</td>\n",
       "      <td>14;kuala lumpur</td>\n",
       "      <td>SM-N9005</td>\n",
       "    </tr>\n",
       "    <tr>\n",
       "      <th>16562</th>\n",
       "      <td>DU Battery Saver - Battery Charger &amp; Battery Life</td>\n",
       "      <td>Samsung</td>\n",
       "      <td>14;kuala lumpur</td>\n",
       "      <td>SM-N9005</td>\n",
       "    </tr>\n",
       "    <tr>\n",
       "      <th>16563</th>\n",
       "      <td>DU Battery Saver - Battery Charger &amp; Battery Life</td>\n",
       "      <td>Samsung</td>\n",
       "      <td>14;kuala lumpur</td>\n",
       "      <td>SM-N9005</td>\n",
       "    </tr>\n",
       "    <tr>\n",
       "      <th>16564</th>\n",
       "      <td>DU Battery Saver - Battery Charger &amp; Battery Life</td>\n",
       "      <td>Samsung</td>\n",
       "      <td>14;kuala lumpur</td>\n",
       "      <td>SM-N9005</td>\n",
       "    </tr>\n",
       "    <tr>\n",
       "      <th>16565</th>\n",
       "      <td>DU Battery Saver - Battery Charger &amp; Battery Life</td>\n",
       "      <td>Samsung</td>\n",
       "      <td>14;kuala lumpur</td>\n",
       "      <td>SM-N9005</td>\n",
       "    </tr>\n",
       "    <tr>\n",
       "      <th>16566</th>\n",
       "      <td>DU Battery Saver - Battery Charger &amp; Battery Life</td>\n",
       "      <td>Samsung</td>\n",
       "      <td>14;kuala lumpur</td>\n",
       "      <td>SM-N9005</td>\n",
       "    </tr>\n",
       "    <tr>\n",
       "      <th>16567</th>\n",
       "      <td>DU Battery Saver - Battery Charger &amp; Battery Life</td>\n",
       "      <td>Samsung</td>\n",
       "      <td>14;kuala lumpur</td>\n",
       "      <td>SM-N9005</td>\n",
       "    </tr>\n",
       "    <tr>\n",
       "      <th>16568</th>\n",
       "      <td>DU Battery Saver - Battery Charger &amp; Battery Life</td>\n",
       "      <td>Samsung</td>\n",
       "      <td>14;kuala lumpur</td>\n",
       "      <td>SM-N9005</td>\n",
       "    </tr>\n",
       "    <tr>\n",
       "      <th>16569</th>\n",
       "      <td>DU Battery Saver - Battery Charger &amp; Battery Life</td>\n",
       "      <td>Samsung</td>\n",
       "      <td>14;kuala lumpur</td>\n",
       "      <td>SM-N9005</td>\n",
       "    </tr>\n",
       "    <tr>\n",
       "      <th>16570</th>\n",
       "      <td>DU Battery Saver - Battery Charger &amp; Battery Life</td>\n",
       "      <td>Samsung</td>\n",
       "      <td>14;kuala lumpur</td>\n",
       "      <td>SM-N9005</td>\n",
       "    </tr>\n",
       "    <tr>\n",
       "      <th>16571</th>\n",
       "      <td>DU Battery Saver - Battery Charger &amp; Battery Life</td>\n",
       "      <td>Samsung</td>\n",
       "      <td>14;kuala lumpur</td>\n",
       "      <td>SM-N9005</td>\n",
       "    </tr>\n",
       "    <tr>\n",
       "      <th>16572</th>\n",
       "      <td>DU Battery Saver - Battery Charger &amp; Battery Life</td>\n",
       "      <td>Samsung</td>\n",
       "      <td>14;kuala lumpur</td>\n",
       "      <td>SM-N9005</td>\n",
       "    </tr>\n",
       "    <tr>\n",
       "      <th>16573</th>\n",
       "      <td>DU Battery Saver - Battery Charger &amp; Battery Life</td>\n",
       "      <td>Samsung</td>\n",
       "      <td>14;kuala lumpur</td>\n",
       "      <td>SM-N9005</td>\n",
       "    </tr>\n",
       "    <tr>\n",
       "      <th>16574</th>\n",
       "      <td>DU Battery Saver - Battery Charger &amp; Battery Life</td>\n",
       "      <td>Samsung</td>\n",
       "      <td>14;kuala lumpur</td>\n",
       "      <td>SM-N9005</td>\n",
       "    </tr>\n",
       "    <tr>\n",
       "      <th>16575</th>\n",
       "      <td>DU Battery Saver - Battery Charger &amp; Battery Life</td>\n",
       "      <td>Samsung</td>\n",
       "      <td>14;kuala lumpur</td>\n",
       "      <td>SM-N9005</td>\n",
       "    </tr>\n",
       "    <tr>\n",
       "      <th>16576</th>\n",
       "      <td>DU Battery Saver - Battery Charger &amp; Battery Life</td>\n",
       "      <td>Samsung</td>\n",
       "      <td>14;kuala lumpur</td>\n",
       "      <td>SM-N9005</td>\n",
       "    </tr>\n",
       "    <tr>\n",
       "      <th>16577</th>\n",
       "      <td>DU Battery Saver - Battery Charger &amp; Battery Life</td>\n",
       "      <td>Samsung</td>\n",
       "      <td>14;kuala lumpur</td>\n",
       "      <td>SM-N9005</td>\n",
       "    </tr>\n",
       "    <tr>\n",
       "      <th>16578</th>\n",
       "      <td>DU Battery Saver - Battery Charger &amp; Battery Life</td>\n",
       "      <td>Samsung</td>\n",
       "      <td>14;kuala lumpur</td>\n",
       "      <td>SM-N9005</td>\n",
       "    </tr>\n",
       "    <tr>\n",
       "      <th>16579</th>\n",
       "      <td>DU Battery Saver - Battery Charger &amp; Battery Life</td>\n",
       "      <td>Samsung</td>\n",
       "      <td>14;kuala lumpur</td>\n",
       "      <td>SM-N9005</td>\n",
       "    </tr>\n",
       "    <tr>\n",
       "      <th>16580</th>\n",
       "      <td>DU Battery Saver - Battery Charger &amp; Battery Life</td>\n",
       "      <td>Samsung</td>\n",
       "      <td>14;kuala lumpur</td>\n",
       "      <td>SM-N9005</td>\n",
       "    </tr>\n",
       "    <tr>\n",
       "      <th>16581</th>\n",
       "      <td>DU Battery Saver - Battery Charger &amp; Battery Life</td>\n",
       "      <td>Samsung</td>\n",
       "      <td>14;kuala lumpur</td>\n",
       "      <td>SM-N9005</td>\n",
       "    </tr>\n",
       "    <tr>\n",
       "      <th>16582</th>\n",
       "      <td>DU Battery Saver - Battery Charger &amp; Battery Life</td>\n",
       "      <td>Samsung</td>\n",
       "      <td>14;kuala lumpur</td>\n",
       "      <td>SM-N9005</td>\n",
       "    </tr>\n",
       "    <tr>\n",
       "      <th>16583</th>\n",
       "      <td>DU Battery Saver - Battery Charger &amp; Battery Life</td>\n",
       "      <td>Samsung</td>\n",
       "      <td>14;kuala lumpur</td>\n",
       "      <td>SM-N9005</td>\n",
       "    </tr>\n",
       "    <tr>\n",
       "      <th>16584</th>\n",
       "      <td>DU Battery Saver - Battery Charger &amp; Battery Life</td>\n",
       "      <td>Samsung</td>\n",
       "      <td>14;kuala lumpur</td>\n",
       "      <td>SM-N9005</td>\n",
       "    </tr>\n",
       "    <tr>\n",
       "      <th>16585</th>\n",
       "      <td>DU Battery Saver - Battery Charger &amp; Battery Life</td>\n",
       "      <td>Generic</td>\n",
       "      <td>14;kuala lumpur</td>\n",
       "      <td>Android 5.1</td>\n",
       "    </tr>\n",
       "    <tr>\n",
       "      <th>16586</th>\n",
       "      <td>DU Battery Saver - Battery Charger &amp; Battery Life</td>\n",
       "      <td>Generic</td>\n",
       "      <td>14;kuala lumpur</td>\n",
       "      <td>Android 5.1</td>\n",
       "    </tr>\n",
       "    <tr>\n",
       "      <th>16587</th>\n",
       "      <td>DU Battery Saver - Battery Charger &amp; Battery Life</td>\n",
       "      <td>Lenovo</td>\n",
       "      <td>14;kuala lumpur</td>\n",
       "      <td>A889</td>\n",
       "    </tr>\n",
       "    <tr>\n",
       "      <th>16588</th>\n",
       "      <td>DU Battery Saver - Battery Charger &amp; Battery Life</td>\n",
       "      <td>Generic</td>\n",
       "      <td>14;kuala lumpur</td>\n",
       "      <td>Android 5.1</td>\n",
       "    </tr>\n",
       "    <tr>\n",
       "      <th>16589</th>\n",
       "      <td>DU Battery Saver - Battery Charger &amp; Battery Life</td>\n",
       "      <td>Generic</td>\n",
       "      <td>14;kuala lumpur</td>\n",
       "      <td>Android 6.0</td>\n",
       "    </tr>\n",
       "    <tr>\n",
       "      <th>16590</th>\n",
       "      <td>DU Battery Saver - Battery Charger &amp; Battery Life</td>\n",
       "      <td>Samsung</td>\n",
       "      <td>10;petaling jaya</td>\n",
       "      <td>SM-N9005</td>\n",
       "    </tr>\n",
       "    <tr>\n",
       "      <th>...</th>\n",
       "      <td>...</td>\n",
       "      <td>...</td>\n",
       "      <td>...</td>\n",
       "      <td>...</td>\n",
       "    </tr>\n",
       "    <tr>\n",
       "      <th>23728</th>\n",
       "      <td>DU Battery Saver - Battery Charger &amp; Battery Life</td>\n",
       "      <td>Samsung</td>\n",
       "      <td>10;petaling jaya</td>\n",
       "      <td>GT-I9505</td>\n",
       "    </tr>\n",
       "    <tr>\n",
       "      <th>23729</th>\n",
       "      <td>DU Battery Saver - Battery Charger &amp; Battery Life</td>\n",
       "      <td>Samsung</td>\n",
       "      <td>10;ampang</td>\n",
       "      <td>SM-N910G</td>\n",
       "    </tr>\n",
       "    <tr>\n",
       "      <th>23730</th>\n",
       "      <td>DU Battery Saver - Battery Charger &amp; Battery Life</td>\n",
       "      <td>Asus</td>\n",
       "      <td>12;kota kinabalu</td>\n",
       "      <td>T00G</td>\n",
       "    </tr>\n",
       "    <tr>\n",
       "      <th>23731</th>\n",
       "      <td>DU Battery Saver - Battery Charger &amp; Battery Life</td>\n",
       "      <td>Xiaomi</td>\n",
       "      <td>13;sibu</td>\n",
       "      <td>Redmi Note 3</td>\n",
       "    </tr>\n",
       "    <tr>\n",
       "      <th>23732</th>\n",
       "      <td>DU Battery Saver - Battery Charger &amp; Battery Life</td>\n",
       "      <td>Xiaomi</td>\n",
       "      <td>01;johor bahru</td>\n",
       "      <td>Redmi Note 3</td>\n",
       "    </tr>\n",
       "    <tr>\n",
       "      <th>23733</th>\n",
       "      <td>DU Battery Saver - Battery Charger &amp; Battery Life</td>\n",
       "      <td>Lenovo</td>\n",
       "      <td>10;petaling jaya</td>\n",
       "      <td>K80M</td>\n",
       "    </tr>\n",
       "    <tr>\n",
       "      <th>23734</th>\n",
       "      <td>DU Battery Saver - Battery Charger &amp; Battery Life</td>\n",
       "      <td>OPPO</td>\n",
       "      <td>10;shah alam</td>\n",
       "      <td>CPH1605</td>\n",
       "    </tr>\n",
       "    <tr>\n",
       "      <th>23735</th>\n",
       "      <td>DU Battery Saver - Battery Charger &amp; Battery Life</td>\n",
       "      <td>Xiaomi</td>\n",
       "      <td>10;petaling jaya</td>\n",
       "      <td>Redmi Note 3</td>\n",
       "    </tr>\n",
       "    <tr>\n",
       "      <th>23736</th>\n",
       "      <td>DU Battery Saver - Battery Charger &amp; Battery Life</td>\n",
       "      <td>OPPO</td>\n",
       "      <td>14;kuala lumpur</td>\n",
       "      <td>N5116</td>\n",
       "    </tr>\n",
       "    <tr>\n",
       "      <th>23737</th>\n",
       "      <td>DU Battery Saver - Battery Charger &amp; Battery Life</td>\n",
       "      <td>Samsung</td>\n",
       "      <td>10;petaling jaya</td>\n",
       "      <td>GT-N7100</td>\n",
       "    </tr>\n",
       "    <tr>\n",
       "      <th>23738</th>\n",
       "      <td>DU Battery Saver - Battery Charger &amp; Battery Life</td>\n",
       "      <td>Generic</td>\n",
       "      <td>14;kuala lumpur</td>\n",
       "      <td>Android 5.0</td>\n",
       "    </tr>\n",
       "    <tr>\n",
       "      <th>23739</th>\n",
       "      <td>DU Battery Saver - Battery Charger &amp; Battery Life</td>\n",
       "      <td>Samsung</td>\n",
       "      <td>10;batu caves</td>\n",
       "      <td>SM-G7102</td>\n",
       "    </tr>\n",
       "    <tr>\n",
       "      <th>23740</th>\n",
       "      <td>DU Battery Saver - Battery Charger &amp; Battery Life</td>\n",
       "      <td>Huawei</td>\n",
       "      <td>14;kuala lumpur</td>\n",
       "      <td>H30-U10</td>\n",
       "    </tr>\n",
       "    <tr>\n",
       "      <th>23741</th>\n",
       "      <td>DU Battery Saver - Battery Charger &amp; Battery Life</td>\n",
       "      <td>Xiaomi</td>\n",
       "      <td>13;sibu</td>\n",
       "      <td>Redmi Note 3</td>\n",
       "    </tr>\n",
       "    <tr>\n",
       "      <th>23742</th>\n",
       "      <td>DU Battery Saver - Battery Charger &amp; Battery Life</td>\n",
       "      <td>Samsung</td>\n",
       "      <td>14;kuala lumpur</td>\n",
       "      <td>GT-I9505</td>\n",
       "    </tr>\n",
       "    <tr>\n",
       "      <th>23743</th>\n",
       "      <td>DU Battery Saver - Battery Charger &amp; Battery Life</td>\n",
       "      <td>Asus</td>\n",
       "      <td>14;kuala lumpur</td>\n",
       "      <td>X013D</td>\n",
       "    </tr>\n",
       "    <tr>\n",
       "      <th>23744</th>\n",
       "      <td>DU Battery Saver - Battery Charger &amp; Battery Life</td>\n",
       "      <td>Asus</td>\n",
       "      <td>13;miri</td>\n",
       "      <td>T00J</td>\n",
       "    </tr>\n",
       "    <tr>\n",
       "      <th>23745</th>\n",
       "      <td>DU Battery Saver - Battery Charger &amp; Battery Life</td>\n",
       "      <td>SonyEricsson</td>\n",
       "      <td>10;petaling jaya</td>\n",
       "      <td>C6603</td>\n",
       "    </tr>\n",
       "    <tr>\n",
       "      <th>23746</th>\n",
       "      <td>DU Battery Saver - Battery Charger &amp; Battery Life</td>\n",
       "      <td>Huawei</td>\n",
       "      <td>14;kuala lumpur</td>\n",
       "      <td>ALE-L21</td>\n",
       "    </tr>\n",
       "    <tr>\n",
       "      <th>23747</th>\n",
       "      <td>DU Battery Saver - Battery Charger &amp; Battery Life</td>\n",
       "      <td>Samsung</td>\n",
       "      <td>10;puchong</td>\n",
       "      <td>SM-N910C</td>\n",
       "    </tr>\n",
       "    <tr>\n",
       "      <th>23748</th>\n",
       "      <td>DU Battery Saver - Battery Charger &amp; Battery Life</td>\n",
       "      <td>Samsung</td>\n",
       "      <td>14;kuala lumpur</td>\n",
       "      <td>SM-N910C</td>\n",
       "    </tr>\n",
       "    <tr>\n",
       "      <th>23749</th>\n",
       "      <td>DU Battery Saver - Battery Charger &amp; Battery Life</td>\n",
       "      <td>Lenovo</td>\n",
       "      <td>10;batu caves</td>\n",
       "      <td>P1ma40</td>\n",
       "    </tr>\n",
       "    <tr>\n",
       "      <th>23750</th>\n",
       "      <td>DU Battery Saver - Battery Charger &amp; Battery Life</td>\n",
       "      <td>Xiaomi</td>\n",
       "      <td>13;bintulu</td>\n",
       "      <td>Redmi Note 2</td>\n",
       "    </tr>\n",
       "    <tr>\n",
       "      <th>23751</th>\n",
       "      <td>DU Battery Saver - Battery Charger &amp; Battery Life</td>\n",
       "      <td>OPPO</td>\n",
       "      <td>10;petaling jaya</td>\n",
       "      <td>A11w</td>\n",
       "    </tr>\n",
       "    <tr>\n",
       "      <th>23752</th>\n",
       "      <td>DU Battery Saver - Battery Charger &amp; Battery Life</td>\n",
       "      <td>Leagoo</td>\n",
       "      <td>10;petaling jaya</td>\n",
       "      <td>Lead6</td>\n",
       "    </tr>\n",
       "    <tr>\n",
       "      <th>23753</th>\n",
       "      <td>DU Battery Saver - Battery Charger &amp; Battery Life</td>\n",
       "      <td>Lenovo</td>\n",
       "      <td>04;melaka</td>\n",
       "      <td>A916</td>\n",
       "    </tr>\n",
       "    <tr>\n",
       "      <th>23754</th>\n",
       "      <td>DU Battery Saver - Battery Charger &amp; Battery Life</td>\n",
       "      <td>Xiaomi</td>\n",
       "      <td>05;seremban</td>\n",
       "      <td>Redmi Note 2</td>\n",
       "    </tr>\n",
       "    <tr>\n",
       "      <th>23755</th>\n",
       "      <td>DU Battery Saver - Battery Charger &amp; Battery Life</td>\n",
       "      <td>Samsung</td>\n",
       "      <td>14;kuala lumpur</td>\n",
       "      <td>GT-N7105</td>\n",
       "    </tr>\n",
       "    <tr>\n",
       "      <th>23756</th>\n",
       "      <td>DU Battery Saver - Battery Charger &amp; Battery Life</td>\n",
       "      <td>Lenovo</td>\n",
       "      <td>14;kuala lumpur</td>\n",
       "      <td>S898t+</td>\n",
       "    </tr>\n",
       "    <tr>\n",
       "      <th>23757</th>\n",
       "      <td>DU Battery Saver - Battery Charger &amp; Battery Life</td>\n",
       "      <td>Lenovo</td>\n",
       "      <td>10;seri kembangan</td>\n",
       "      <td>A7000</td>\n",
       "    </tr>\n",
       "  </tbody>\n",
       "</table>\n",
       "<p>7197 rows × 4 columns</p>\n",
       "</div>"
      ],
      "text/plain": [
       "                                               publisher         brand  \\\n",
       "16561  DU Battery Saver - Battery Charger & Battery Life       Samsung   \n",
       "16562  DU Battery Saver - Battery Charger & Battery Life       Samsung   \n",
       "16563  DU Battery Saver - Battery Charger & Battery Life       Samsung   \n",
       "16564  DU Battery Saver - Battery Charger & Battery Life       Samsung   \n",
       "16565  DU Battery Saver - Battery Charger & Battery Life       Samsung   \n",
       "16566  DU Battery Saver - Battery Charger & Battery Life       Samsung   \n",
       "16567  DU Battery Saver - Battery Charger & Battery Life       Samsung   \n",
       "16568  DU Battery Saver - Battery Charger & Battery Life       Samsung   \n",
       "16569  DU Battery Saver - Battery Charger & Battery Life       Samsung   \n",
       "16570  DU Battery Saver - Battery Charger & Battery Life       Samsung   \n",
       "16571  DU Battery Saver - Battery Charger & Battery Life       Samsung   \n",
       "16572  DU Battery Saver - Battery Charger & Battery Life       Samsung   \n",
       "16573  DU Battery Saver - Battery Charger & Battery Life       Samsung   \n",
       "16574  DU Battery Saver - Battery Charger & Battery Life       Samsung   \n",
       "16575  DU Battery Saver - Battery Charger & Battery Life       Samsung   \n",
       "16576  DU Battery Saver - Battery Charger & Battery Life       Samsung   \n",
       "16577  DU Battery Saver - Battery Charger & Battery Life       Samsung   \n",
       "16578  DU Battery Saver - Battery Charger & Battery Life       Samsung   \n",
       "16579  DU Battery Saver - Battery Charger & Battery Life       Samsung   \n",
       "16580  DU Battery Saver - Battery Charger & Battery Life       Samsung   \n",
       "16581  DU Battery Saver - Battery Charger & Battery Life       Samsung   \n",
       "16582  DU Battery Saver - Battery Charger & Battery Life       Samsung   \n",
       "16583  DU Battery Saver - Battery Charger & Battery Life       Samsung   \n",
       "16584  DU Battery Saver - Battery Charger & Battery Life       Samsung   \n",
       "16585  DU Battery Saver - Battery Charger & Battery Life       Generic   \n",
       "16586  DU Battery Saver - Battery Charger & Battery Life       Generic   \n",
       "16587  DU Battery Saver - Battery Charger & Battery Life        Lenovo   \n",
       "16588  DU Battery Saver - Battery Charger & Battery Life       Generic   \n",
       "16589  DU Battery Saver - Battery Charger & Battery Life       Generic   \n",
       "16590  DU Battery Saver - Battery Charger & Battery Life       Samsung   \n",
       "...                                                  ...           ...   \n",
       "23728  DU Battery Saver - Battery Charger & Battery Life       Samsung   \n",
       "23729  DU Battery Saver - Battery Charger & Battery Life       Samsung   \n",
       "23730  DU Battery Saver - Battery Charger & Battery Life          Asus   \n",
       "23731  DU Battery Saver - Battery Charger & Battery Life        Xiaomi   \n",
       "23732  DU Battery Saver - Battery Charger & Battery Life        Xiaomi   \n",
       "23733  DU Battery Saver - Battery Charger & Battery Life        Lenovo   \n",
       "23734  DU Battery Saver - Battery Charger & Battery Life          OPPO   \n",
       "23735  DU Battery Saver - Battery Charger & Battery Life        Xiaomi   \n",
       "23736  DU Battery Saver - Battery Charger & Battery Life          OPPO   \n",
       "23737  DU Battery Saver - Battery Charger & Battery Life       Samsung   \n",
       "23738  DU Battery Saver - Battery Charger & Battery Life       Generic   \n",
       "23739  DU Battery Saver - Battery Charger & Battery Life       Samsung   \n",
       "23740  DU Battery Saver - Battery Charger & Battery Life        Huawei   \n",
       "23741  DU Battery Saver - Battery Charger & Battery Life        Xiaomi   \n",
       "23742  DU Battery Saver - Battery Charger & Battery Life       Samsung   \n",
       "23743  DU Battery Saver - Battery Charger & Battery Life          Asus   \n",
       "23744  DU Battery Saver - Battery Charger & Battery Life          Asus   \n",
       "23745  DU Battery Saver - Battery Charger & Battery Life  SonyEricsson   \n",
       "23746  DU Battery Saver - Battery Charger & Battery Life        Huawei   \n",
       "23747  DU Battery Saver - Battery Charger & Battery Life       Samsung   \n",
       "23748  DU Battery Saver - Battery Charger & Battery Life       Samsung   \n",
       "23749  DU Battery Saver - Battery Charger & Battery Life        Lenovo   \n",
       "23750  DU Battery Saver - Battery Charger & Battery Life        Xiaomi   \n",
       "23751  DU Battery Saver - Battery Charger & Battery Life          OPPO   \n",
       "23752  DU Battery Saver - Battery Charger & Battery Life        Leagoo   \n",
       "23753  DU Battery Saver - Battery Charger & Battery Life        Lenovo   \n",
       "23754  DU Battery Saver - Battery Charger & Battery Life        Xiaomi   \n",
       "23755  DU Battery Saver - Battery Charger & Battery Life       Samsung   \n",
       "23756  DU Battery Saver - Battery Charger & Battery Life        Lenovo   \n",
       "23757  DU Battery Saver - Battery Charger & Battery Life        Lenovo   \n",
       "\n",
       "                    city         model  \n",
       "16561    14;kuala lumpur      SM-N9005  \n",
       "16562    14;kuala lumpur      SM-N9005  \n",
       "16563    14;kuala lumpur      SM-N9005  \n",
       "16564    14;kuala lumpur      SM-N9005  \n",
       "16565    14;kuala lumpur      SM-N9005  \n",
       "16566    14;kuala lumpur      SM-N9005  \n",
       "16567    14;kuala lumpur      SM-N9005  \n",
       "16568    14;kuala lumpur      SM-N9005  \n",
       "16569    14;kuala lumpur      SM-N9005  \n",
       "16570    14;kuala lumpur      SM-N9005  \n",
       "16571    14;kuala lumpur      SM-N9005  \n",
       "16572    14;kuala lumpur      SM-N9005  \n",
       "16573    14;kuala lumpur      SM-N9005  \n",
       "16574    14;kuala lumpur      SM-N9005  \n",
       "16575    14;kuala lumpur      SM-N9005  \n",
       "16576    14;kuala lumpur      SM-N9005  \n",
       "16577    14;kuala lumpur      SM-N9005  \n",
       "16578    14;kuala lumpur      SM-N9005  \n",
       "16579    14;kuala lumpur      SM-N9005  \n",
       "16580    14;kuala lumpur      SM-N9005  \n",
       "16581    14;kuala lumpur      SM-N9005  \n",
       "16582    14;kuala lumpur      SM-N9005  \n",
       "16583    14;kuala lumpur      SM-N9005  \n",
       "16584    14;kuala lumpur      SM-N9005  \n",
       "16585    14;kuala lumpur   Android 5.1  \n",
       "16586    14;kuala lumpur   Android 5.1  \n",
       "16587    14;kuala lumpur          A889  \n",
       "16588    14;kuala lumpur   Android 5.1  \n",
       "16589    14;kuala lumpur   Android 6.0  \n",
       "16590   10;petaling jaya      SM-N9005  \n",
       "...                  ...           ...  \n",
       "23728   10;petaling jaya      GT-I9505  \n",
       "23729          10;ampang      SM-N910G  \n",
       "23730   12;kota kinabalu          T00G  \n",
       "23731            13;sibu  Redmi Note 3  \n",
       "23732     01;johor bahru  Redmi Note 3  \n",
       "23733   10;petaling jaya          K80M  \n",
       "23734       10;shah alam       CPH1605  \n",
       "23735   10;petaling jaya  Redmi Note 3  \n",
       "23736    14;kuala lumpur         N5116  \n",
       "23737   10;petaling jaya      GT-N7100  \n",
       "23738    14;kuala lumpur   Android 5.0  \n",
       "23739      10;batu caves      SM-G7102  \n",
       "23740    14;kuala lumpur       H30-U10  \n",
       "23741            13;sibu  Redmi Note 3  \n",
       "23742    14;kuala lumpur      GT-I9505  \n",
       "23743    14;kuala lumpur         X013D  \n",
       "23744            13;miri          T00J  \n",
       "23745   10;petaling jaya         C6603  \n",
       "23746    14;kuala lumpur       ALE-L21  \n",
       "23747         10;puchong      SM-N910C  \n",
       "23748    14;kuala lumpur      SM-N910C  \n",
       "23749      10;batu caves        P1ma40  \n",
       "23750         13;bintulu  Redmi Note 2  \n",
       "23751   10;petaling jaya          A11w  \n",
       "23752   10;petaling jaya         Lead6  \n",
       "23753          04;melaka          A916  \n",
       "23754        05;seremban  Redmi Note 2  \n",
       "23755    14;kuala lumpur      GT-N7105  \n",
       "23756    14;kuala lumpur        S898t+  \n",
       "23757  10;seri kembangan         A7000  \n",
       "\n",
       "[7197 rows x 4 columns]"
      ]
     },
     "execution_count": 6,
     "metadata": {},
     "output_type": "execute_result"
    }
   ],
   "source": [
    "df_du"
   ]
  },
  {
   "cell_type": "code",
   "execution_count": 7,
   "metadata": {
    "collapsed": true
   },
   "outputs": [],
   "source": [
    "def convert(dataframe, colname, fraction, number):\n",
    "    g = dataframe.groupby(colname).count()\n",
    "    g = g.reset_index()\n",
    "    g = g.sort('publisher', ascending = False)\n",
    "    g.index = range(len(g))\n",
    "    s = 0\n",
    "    i = 0\n",
    "    l = []\n",
    "    while s < len(dataframe) * fraction and len(l) < number:\n",
    "        l.append(g[colname][i])\n",
    "        s += g['publisher'][i]\n",
    "        i += 1\n",
    "    return l"
   ]
  },
  {
   "cell_type": "code",
   "execution_count": 8,
   "metadata": {
    "collapsed": false
   },
   "outputs": [
    {
     "name": "stderr",
     "output_type": "stream",
     "text": [
      "/Users/carol/anaconda/lib/python2.7/site-packages/ipykernel/__main__.py:4: FutureWarning: sort(columns=....) is deprecated, use sort_values(by=.....)\n"
     ]
    }
   ],
   "source": [
    "l_brand = convert(df_du, 'brand', 0.9, 15)\n",
    "l_model = convert(df_du, 'model', 0.9, 15)\n",
    "l_city = convert(df_du, 'city', 0.9, 15)"
   ]
  },
  {
   "cell_type": "code",
   "execution_count": 9,
   "metadata": {
    "collapsed": false
   },
   "outputs": [
    {
     "name": "stderr",
     "output_type": "stream",
     "text": [
      "/Users/carol/anaconda/lib/python2.7/site-packages/pandas/core/indexing.py:141: SettingWithCopyWarning: \n",
      "A value is trying to be set on a copy of a slice from a DataFrame\n",
      "\n",
      "See the caveats in the documentation: http://pandas.pydata.org/pandas-docs/stable/indexing.html#indexing-view-versus-copy\n",
      "  self._setitem_with_indexer(indexer, value)\n",
      "/Users/carol/anaconda/lib/python2.7/site-packages/ipykernel/__main__.py:1: SettingWithCopyWarning: \n",
      "A value is trying to be set on a copy of a slice from a DataFrame\n",
      "\n",
      "See the caveats in the documentation: http://pandas.pydata.org/pandas-docs/stable/indexing.html#indexing-view-versus-copy\n",
      "  if __name__ == '__main__':\n",
      "/Users/carol/anaconda/lib/python2.7/site-packages/ipykernel/__main__.py:2: SettingWithCopyWarning: \n",
      "A value is trying to be set on a copy of a slice from a DataFrame\n",
      "\n",
      "See the caveats in the documentation: http://pandas.pydata.org/pandas-docs/stable/indexing.html#indexing-view-versus-copy\n",
      "  from ipykernel import kernelapp as app\n",
      "/Users/carol/anaconda/lib/python2.7/site-packages/ipykernel/__main__.py:3: SettingWithCopyWarning: \n",
      "A value is trying to be set on a copy of a slice from a DataFrame\n",
      "\n",
      "See the caveats in the documentation: http://pandas.pydata.org/pandas-docs/stable/indexing.html#indexing-view-versus-copy\n",
      "  app.launch_new_instance()\n"
     ]
    }
   ],
   "source": [
    "df_du.loc[~df_du[\"brand\"].isin(l_brand), \"brand\"] = \"Others\"\n",
    "df_du.loc[~df_du[\"model\"].isin(l_model), \"model\"] = \"Others\"\n",
    "df_du.loc[~df_du[\"city\"].isin(l_city), \"city\"] = \"Others\""
   ]
  },
  {
   "cell_type": "code",
   "execution_count": 10,
   "metadata": {
    "collapsed": false
   },
   "outputs": [
    {
     "name": "stdout",
     "output_type": "stream",
     "text": [
      "['Samsung', 'Lenovo', 'Asus', 'Xiaomi', 'Generic', 'OPPO', 'Huawei', 'Vivo', 'Sony', 'Leagoo', 'ZTE']\n",
      "['SM-N9005', 'Redmi Note 3', 'Android 5.1', 'Redmi Note 2', 'A889', 'A806', 'SM-N9208', 'Android 6.0', 'GT-N7100', 'A916', 'SM-J700F', 'S850', 'A1601', 'T00J', 'K50-t5']\n",
      "['14;kuala lumpur', '10;petaling jaya', '10;shah alam', '10;puchong', '12;kota kinabalu', '10;batu caves', '10;klang', '10;kajang', '01;johor bahru', '05;seremban', '10;seri kembangan', '06;kuantan', '04;melaka', '08;ipoh', '13;kuching']\n"
     ]
    }
   ],
   "source": [
    "print l_brand\n",
    "print l_model\n",
    "print l_city"
   ]
  },
  {
   "cell_type": "markdown",
   "metadata": {},
   "source": [
    "### Select only brand and city for clustering"
   ]
  },
  {
   "cell_type": "code",
   "execution_count": 11,
   "metadata": {
    "collapsed": true
   },
   "outputs": [],
   "source": [
    "df_bc =  du[['publisher', 'brand', 'city']]"
   ]
  },
  {
   "cell_type": "code",
   "execution_count": 12,
   "metadata": {
    "collapsed": false
   },
   "outputs": [
    {
     "name": "stderr",
     "output_type": "stream",
     "text": [
      "/Users/carol/anaconda/lib/python2.7/site-packages/ipykernel/__main__.py:1: SettingWithCopyWarning: \n",
      "A value is trying to be set on a copy of a slice from a DataFrame\n",
      "\n",
      "See the caveats in the documentation: http://pandas.pydata.org/pandas-docs/stable/indexing.html#indexing-view-versus-copy\n",
      "  if __name__ == '__main__':\n",
      "/Users/carol/anaconda/lib/python2.7/site-packages/ipykernel/__main__.py:2: SettingWithCopyWarning: \n",
      "A value is trying to be set on a copy of a slice from a DataFrame\n",
      "\n",
      "See the caveats in the documentation: http://pandas.pydata.org/pandas-docs/stable/indexing.html#indexing-view-versus-copy\n",
      "  from ipykernel import kernelapp as app\n"
     ]
    }
   ],
   "source": [
    "df_bc.loc[~df_bc[\"brand\"].isin(l_brand), \"brand\"] = \"Others\"\n",
    "df_bc.loc[~df_bc[\"city\"].isin(l_city), \"city\"] = \"Others\""
   ]
  },
  {
   "cell_type": "markdown",
   "metadata": {},
   "source": [
    "### one-hot coding for df_du"
   ]
  },
  {
   "cell_type": "code",
   "execution_count": 13,
   "metadata": {
    "collapsed": false
   },
   "outputs": [],
   "source": [
    "df = pd.get_dummies(df_du)\n",
    "df.drop('publisher_DU Battery Saver - Battery Charger & Battery Life', axis=1, inplace=True)"
   ]
  },
  {
   "cell_type": "markdown",
   "metadata": {},
   "source": [
    "### one-hot coding for df_bc"
   ]
  },
  {
   "cell_type": "code",
   "execution_count": 14,
   "metadata": {
    "collapsed": true
   },
   "outputs": [],
   "source": [
    "df_new = pd.get_dummies(df_bc)\n",
    "df_new.drop('publisher_DU Battery Saver - Battery Charger & Battery Life', axis=1, inplace=True)"
   ]
  },
  {
   "cell_type": "markdown",
   "metadata": {},
   "source": [
    "### Using Dendogram"
   ]
  },
  {
   "cell_type": "code",
   "execution_count": 15,
   "metadata": {
    "collapsed": true
   },
   "outputs": [],
   "source": [
    "from sklearn.preprocessing import StandardScaler\n",
    "scaler = StandardScaler()\n",
    "X_scaled = scaler.fit_transform(df)"
   ]
  },
  {
   "cell_type": "code",
   "execution_count": 16,
   "metadata": {
    "collapsed": true
   },
   "outputs": [],
   "source": [
    "cmap = sn.cubehelix_palette(as_cmap=True, rot=-.3, light=1)"
   ]
  },
  {
   "cell_type": "code",
   "execution_count": 17,
   "metadata": {
    "collapsed": false
   },
   "outputs": [
    {
     "name": "stderr",
     "output_type": "stream",
     "text": [
      "/Users/carol/anaconda/lib/python2.7/site-packages/matplotlib/cbook.py:136: MatplotlibDeprecationWarning: The axisbg attribute was deprecated in version 2.0. Use facecolor instead.\n",
      "  warnings.warn(message, mplDeprecation, stacklevel=1)\n"
     ]
    },
    {
     "data": {
      "text/plain": [
       "<seaborn.matrix.ClusterGrid at 0x11e14c7d0>"
      ]
     },
     "execution_count": 17,
     "metadata": {},
     "output_type": "execute_result"
    },
    {
     "data": {
      "image/png": "[encoded data removed]",
      "text/plain": [
       "<matplotlib.figure.Figure at 0x11e13df50>"
      ]
     },
     "metadata": {},
     "output_type": "display_data"
    }
   ],
   "source": [
    "sn.clustermap(X_scaled, cmap=cmap, linewidths=.5)"
   ]
  },
  {
   "cell_type": "markdown",
   "metadata": {},
   "source": [
    "### Elbow Analysis"
   ]
  },
  {
   "cell_type": "code",
   "execution_count": 18,
   "metadata": {
    "collapsed": true
   },
   "outputs": [],
   "source": [
    "cluster_range = range(1,50)\n",
    "cluster_errors = []\n",
    "\n",
    "for num_clusters in cluster_range:\n",
    "    clusters = KMeans( num_clusters )\n",
    "    clusters.fit( X_scaled )\n",
    "    cluster_errors.append( clusters.inertia_ )"
   ]
  },
  {
   "cell_type": "code",
   "execution_count": 19,
   "metadata": {
    "collapsed": true
   },
   "outputs": [],
   "source": [
    "clusters_df = pd.DataFrame( { \"num_clusters\":cluster_range, \"cluster_errors\": cluster_errors } )"
   ]
  },
  {
   "cell_type": "code",
   "execution_count": 20,
   "metadata": {
    "collapsed": false
   },
   "outputs": [
    {
     "data": {
      "text/html": [
       "<div>\n",
       "<table border=\"1\" class=\"dataframe\">\n",
       "  <thead>\n",
       "    <tr style=\"text-align: right;\">\n",
       "      <th></th>\n",
       "      <th>cluster_errors</th>\n",
       "      <th>num_clusters</th>\n",
       "    </tr>\n",
       "  </thead>\n",
       "  <tbody>\n",
       "    <tr>\n",
       "      <th>0</th>\n",
       "      <td>316668.000000</td>\n",
       "      <td>1</td>\n",
       "    </tr>\n",
       "    <tr>\n",
       "      <th>1</th>\n",
       "      <td>307154.740223</td>\n",
       "      <td>2</td>\n",
       "    </tr>\n",
       "    <tr>\n",
       "      <th>2</th>\n",
       "      <td>294027.824843</td>\n",
       "      <td>3</td>\n",
       "    </tr>\n",
       "    <tr>\n",
       "      <th>3</th>\n",
       "      <td>282398.544365</td>\n",
       "      <td>4</td>\n",
       "    </tr>\n",
       "    <tr>\n",
       "      <th>4</th>\n",
       "      <td>276184.700488</td>\n",
       "      <td>5</td>\n",
       "    </tr>\n",
       "    <tr>\n",
       "      <th>5</th>\n",
       "      <td>268760.719942</td>\n",
       "      <td>6</td>\n",
       "    </tr>\n",
       "    <tr>\n",
       "      <th>6</th>\n",
       "      <td>263047.189865</td>\n",
       "      <td>7</td>\n",
       "    </tr>\n",
       "    <tr>\n",
       "      <th>7</th>\n",
       "      <td>250263.067259</td>\n",
       "      <td>8</td>\n",
       "    </tr>\n",
       "    <tr>\n",
       "      <th>8</th>\n",
       "      <td>244610.258555</td>\n",
       "      <td>9</td>\n",
       "    </tr>\n",
       "    <tr>\n",
       "      <th>9</th>\n",
       "      <td>231649.859182</td>\n",
       "      <td>10</td>\n",
       "    </tr>\n",
       "  </tbody>\n",
       "</table>\n",
       "</div>"
      ],
      "text/plain": [
       "   cluster_errors  num_clusters\n",
       "0   316668.000000             1\n",
       "1   307154.740223             2\n",
       "2   294027.824843             3\n",
       "3   282398.544365             4\n",
       "4   276184.700488             5\n",
       "5   268760.719942             6\n",
       "6   263047.189865             7\n",
       "7   250263.067259             8\n",
       "8   244610.258555             9\n",
       "9   231649.859182            10"
      ]
     },
     "execution_count": 20,
     "metadata": {},
     "output_type": "execute_result"
    }
   ],
   "source": [
    "clusters_df[0:10]"
   ]
  },
  {
   "cell_type": "code",
   "execution_count": 21,
   "metadata": {
    "collapsed": false
   },
   "outputs": [
    {
     "data": {
      "text/plain": [
       "[<matplotlib.lines.Line2D at 0x1268488d0>]"
      ]
     },
     "execution_count": 21,
     "metadata": {},
     "output_type": "execute_result"
    },
    {
     "data": {
      "image/png": "[encoded data removed]",
      "text/plain": [
       "<matplotlib.figure.Figure at 0x1245e3110>"
      ]
     },
     "metadata": {},
     "output_type": "display_data"
    }
   ],
   "source": [
    "plt.figure(figsize=(12,6))\n",
    "plt.plot( clusters_df.num_clusters, clusters_df.cluster_errors, marker = \"o\" )"
   ]
  },
  {
   "cell_type": "markdown",
   "metadata": {},
   "source": [
    "### Elbow Analysis for df_new"
   ]
  },
  {
   "cell_type": "code",
   "execution_count": 22,
   "metadata": {
    "collapsed": true
   },
   "outputs": [],
   "source": [
    "X_scaled_new = scaler.fit_transform(df_new)"
   ]
  },
  {
   "cell_type": "code",
   "execution_count": 29,
   "metadata": {
    "collapsed": true
   },
   "outputs": [],
   "source": [
    "cluster_range = range(1,50)\n",
    "cluster_errors = []\n",
    "\n",
    "for num_clusters in cluster_range:\n",
    "    clusters = KMeans( num_clusters )\n",
    "    clusters.fit( X_scaled_new )\n",
    "    cluster_errors.append( clusters.inertia_ )"
   ]
  },
  {
   "cell_type": "code",
   "execution_count": 30,
   "metadata": {
    "collapsed": true
   },
   "outputs": [],
   "source": [
    "clusters_df_new = pd.DataFrame( { \"num_clusters\":cluster_range, \"cluster_errors\": cluster_errors } )"
   ]
  },
  {
   "cell_type": "code",
   "execution_count": 31,
   "metadata": {
    "collapsed": false
   },
   "outputs": [
    {
     "data": {
      "text/plain": [
       "[<matplotlib.lines.Line2D at 0x12a2fb750>]"
      ]
     },
     "execution_count": 31,
     "metadata": {},
     "output_type": "execute_result"
    },
    {
     "data": {
      "image/png": "[encoded data removed]",
      "text/plain": [
       "<matplotlib.figure.Figure at 0x12a2ee8d0>"
      ]
     },
     "metadata": {},
     "output_type": "display_data"
    }
   ],
   "source": [
    "plt.figure(figsize=(12,6))\n",
    "plt.plot( clusters_df_new.num_clusters, clusters_df_new.cluster_errors, marker = \"o\" )"
   ]
  },
  {
   "cell_type": "markdown",
   "metadata": {},
   "source": [
    "### Silhouette analysis for df_new"
   ]
  },
  {
   "cell_type": "code",
   "execution_count": 55,
   "metadata": {
    "collapsed": true
   },
   "outputs": [],
   "source": [
    "from sklearn.metrics import silhouette_samples, silhouette_score"
   ]
  },
  {
   "cell_type": "code",
   "execution_count": 60,
   "metadata": {
    "collapsed": false
   },
   "outputs": [
    {
     "name": "stdout",
     "output_type": "stream",
     "text": [
      "('For n_clusters =', 25, 'The average silhouette_score is :', 0.51788280807883813)\n"
     ]
    },
    {
     "data": {
      "image/png": "[encoded data removed]",
      "text/plain": [
       "<matplotlib.figure.Figure at 0x11c172bd0>"
      ]
     },
     "metadata": {},
     "output_type": "display_data"
    },
    {
     "data": {
      "text/plain": [
       "<matplotlib.figure.Figure at 0x1266386d0>"
      ]
     },
     "metadata": {},
     "output_type": "display_data"
    },
    {
     "data": {
      "text/plain": [
       "<matplotlib.figure.Figure at 0x125be7950>"
      ]
     },
     "metadata": {},
     "output_type": "display_data"
    },
    {
     "data": {
      "text/plain": [
       "<matplotlib.figure.Figure at 0x12692d290>"
      ]
     },
     "metadata": {},
     "output_type": "display_data"
    },
    {
     "data": {
      "text/plain": [
       "<matplotlib.figure.Figure at 0x12686b150>"
      ]
     },
     "metadata": {},
     "output_type": "display_data"
    },
    {
     "data": {
      "text/plain": [
       "<matplotlib.figure.Figure at 0x125e3c290>"
      ]
     },
     "metadata": {},
     "output_type": "display_data"
    },
    {
     "data": {
      "text/plain": [
       "<matplotlib.figure.Figure at 0x11bf6e810>"
      ]
     },
     "metadata": {},
     "output_type": "display_data"
    },
    {
     "data": {
      "text/plain": [
       "<matplotlib.figure.Figure at 0x11df89ed0>"
      ]
     },
     "metadata": {},
     "output_type": "display_data"
    },
    {
     "data": {
      "text/plain": [
       "<matplotlib.figure.Figure at 0x125a06590>"
      ]
     },
     "metadata": {},
     "output_type": "display_data"
    },
    {
     "data": {
      "text/plain": [
       "<matplotlib.figure.Figure at 0x11db5b150>"
      ]
     },
     "metadata": {},
     "output_type": "display_data"
    },
    {
     "data": {
      "text/plain": [
       "<matplotlib.figure.Figure at 0x138148bd0>"
      ]
     },
     "metadata": {},
     "output_type": "display_data"
    },
    {
     "data": {
      "text/plain": [
       "<matplotlib.figure.Figure at 0x12f2a59d0>"
      ]
     },
     "metadata": {},
     "output_type": "display_data"
    },
    {
     "data": {
      "text/plain": [
       "<matplotlib.figure.Figure at 0x12f2cfe50>"
      ]
     },
     "metadata": {},
     "output_type": "display_data"
    },
    {
     "data": {
      "text/plain": [
       "<matplotlib.figure.Figure at 0x134b94c50>"
      ]
     },
     "metadata": {},
     "output_type": "display_data"
    },
    {
     "data": {
      "text/plain": [
       "<matplotlib.figure.Figure at 0x134b93a50>"
      ]
     },
     "metadata": {},
     "output_type": "display_data"
    },
    {
     "data": {
      "text/plain": [
       "<matplotlib.figure.Figure at 0x12d49ee50>"
      ]
     },
     "metadata": {},
     "output_type": "display_data"
    },
    {
     "data": {
      "text/plain": [
       "<matplotlib.figure.Figure at 0x134aadf90>"
      ]
     },
     "metadata": {},
     "output_type": "display_data"
    },
    {
     "data": {
      "text/plain": [
       "<matplotlib.figure.Figure at 0x13547ed90>"
      ]
     },
     "metadata": {},
     "output_type": "display_data"
    },
    {
     "data": {
      "text/plain": [
       "<matplotlib.figure.Figure at 0x12e0e7b90>"
      ]
     },
     "metadata": {},
     "output_type": "display_data"
    },
    {
     "data": {
      "text/plain": [
       "<matplotlib.figure.Figure at 0x12f52c990>"
      ]
     },
     "metadata": {},
     "output_type": "display_data"
    },
    {
     "data": {
      "text/plain": [
       "<matplotlib.figure.Figure at 0x13277be90>"
      ]
     },
     "metadata": {},
     "output_type": "display_data"
    },
    {
     "data": {
      "text/plain": [
       "<matplotlib.figure.Figure at 0x12f348c10>"
      ]
     },
     "metadata": {},
     "output_type": "display_data"
    },
    {
     "data": {
      "text/plain": [
       "<matplotlib.figure.Figure at 0x135c4fa10>"
      ]
     },
     "metadata": {},
     "output_type": "display_data"
    },
    {
     "data": {
      "text/plain": [
       "<matplotlib.figure.Figure at 0x130effe10>"
      ]
     },
     "metadata": {},
     "output_type": "display_data"
    },
    {
     "data": {
      "text/plain": [
       "<matplotlib.figure.Figure at 0x135356f50>"
      ]
     },
     "metadata": {},
     "output_type": "display_data"
    },
    {
     "name": "stdout",
     "output_type": "stream",
     "text": [
      "('For n_clusters =', 26, 'The average silhouette_score is :', 0.56327370300061852)\n"
     ]
    },
    {
     "data": {
      "image/png": "[encoded data removed]",
      "text/plain": [
       "<matplotlib.figure.Figure at 0x13422d590>"
      ]
     },
     "metadata": {},
     "output_type": "display_data"
    },
    {
     "data": {
      "text/plain": [
       "<matplotlib.figure.Figure at 0x138564a10>"
      ]
     },
     "metadata": {},
     "output_type": "display_data"
    },
    {
     "data": {
      "text/plain": [
       "<matplotlib.figure.Figure at 0x1338a0fd0>"
      ]
     },
     "metadata": {},
     "output_type": "display_data"
    },
    {
     "data": {
      "text/plain": [
       "<matplotlib.figure.Figure at 0x12d794a90>"
      ]
     },
     "metadata": {},
     "output_type": "display_data"
    },
    {
     "data": {
      "text/plain": [
       "<matplotlib.figure.Figure at 0x134673e90>"
      ]
     },
     "metadata": {},
     "output_type": "display_data"
    },
    {
     "data": {
      "text/plain": [
       "<matplotlib.figure.Figure at 0x134c47c10>"
      ]
     },
     "metadata": {},
     "output_type": "display_data"
    },
    {
     "data": {
      "text/plain": [
       "<matplotlib.figure.Figure at 0x133807f90>"
      ]
     },
     "metadata": {},
     "output_type": "display_data"
    },
    {
     "data": {
      "text/plain": [
       "<matplotlib.figure.Figure at 0x12d880bd0>"
      ]
     },
     "metadata": {},
     "output_type": "display_data"
    },
    {
     "data": {
      "text/plain": [
       "<matplotlib.figure.Figure at 0x12e95c850>"
      ]
     },
     "metadata": {},
     "output_type": "display_data"
    },
    {
     "data": {
      "text/plain": [
       "<matplotlib.figure.Figure at 0x133824c50>"
      ]
     },
     "metadata": {},
     "output_type": "display_data"
    },
    {
     "data": {
      "text/plain": [
       "<matplotlib.figure.Figure at 0x130eddfd0>"
      ]
     },
     "metadata": {},
     "output_type": "display_data"
    },
    {
     "data": {
      "text/plain": [
       "<matplotlib.figure.Figure at 0x135c17b10>"
      ]
     },
     "metadata": {},
     "output_type": "display_data"
    },
    {
     "data": {
      "text/plain": [
       "<matplotlib.figure.Figure at 0x1356fff10>"
      ]
     },
     "metadata": {},
     "output_type": "display_data"
    },
    {
     "data": {
      "text/plain": [
       "<matplotlib.figure.Figure at 0x13580ac90>"
      ]
     },
     "metadata": {},
     "output_type": "display_data"
    },
    {
     "data": {
      "text/plain": [
       "<matplotlib.figure.Figure at 0x12e017d50>"
      ]
     },
     "metadata": {},
     "output_type": "display_data"
    },
    {
     "data": {
      "text/plain": [
       "<matplotlib.figure.Figure at 0x1343bab50>"
      ]
     },
     "metadata": {},
     "output_type": "display_data"
    },
    {
     "data": {
      "text/plain": [
       "<matplotlib.figure.Figure at 0x135b18fd0>"
      ]
     },
     "metadata": {},
     "output_type": "display_data"
    },
    {
     "data": {
      "text/plain": [
       "<matplotlib.figure.Figure at 0x135a98cd0>"
      ]
     },
     "metadata": {},
     "output_type": "display_data"
    },
    {
     "data": {
      "text/plain": [
       "<matplotlib.figure.Figure at 0x135288d90>"
      ]
     },
     "metadata": {},
     "output_type": "display_data"
    },
    {
     "data": {
      "text/plain": [
       "<matplotlib.figure.Figure at 0x134f38b90>"
      ]
     },
     "metadata": {},
     "output_type": "display_data"
    },
    {
     "data": {
      "text/plain": [
       "<matplotlib.figure.Figure at 0x12e121910>"
      ]
     },
     "metadata": {},
     "output_type": "display_data"
    },
    {
     "data": {
      "text/plain": [
       "<matplotlib.figure.Figure at 0x138430d10>"
      ]
     },
     "metadata": {},
     "output_type": "display_data"
    },
    {
     "data": {
      "text/plain": [
       "<matplotlib.figure.Figure at 0x134a47dd0>"
      ]
     },
     "metadata": {},
     "output_type": "display_data"
    },
    {
     "data": {
      "text/plain": [
       "<matplotlib.figure.Figure at 0x134fbabd0>"
      ]
     },
     "metadata": {},
     "output_type": "display_data"
    },
    {
     "data": {
      "text/plain": [
       "<matplotlib.figure.Figure at 0x134ff5950>"
      ]
     },
     "metadata": {},
     "output_type": "display_data"
    },
    {
     "data": {
      "text/plain": [
       "<matplotlib.figure.Figure at 0x135388d90>"
      ]
     },
     "metadata": {},
     "output_type": "display_data"
    },
    {
     "name": "stdout",
     "output_type": "stream",
     "text": [
      "('For n_clusters =', 27, 'The average silhouette_score is :', 0.59873801825384509)\n"
     ]
    },
    {
     "data": {
      "image/png": "[encoded data removed]",
      "text/plain": [
       "<matplotlib.figure.Figure at 0x126e110d0>"
      ]
     },
     "metadata": {},
     "output_type": "display_data"
    },
    {
     "data": {
      "text/plain": [
       "<matplotlib.figure.Figure at 0x1269fcc50>"
      ]
     },
     "metadata": {},
     "output_type": "display_data"
    },
    {
     "data": {
      "text/plain": [
       "<matplotlib.figure.Figure at 0x1343618d0>"
      ]
     },
     "metadata": {},
     "output_type": "display_data"
    },
    {
     "data": {
      "text/plain": [
       "<matplotlib.figure.Figure at 0x11bfec9d0>"
      ]
     },
     "metadata": {},
     "output_type": "display_data"
    },
    {
     "data": {
      "text/plain": [
       "<matplotlib.figure.Figure at 0x12680e850>"
      ]
     },
     "metadata": {},
     "output_type": "display_data"
    },
    {
     "data": {
      "text/plain": [
       "<matplotlib.figure.Figure at 0x11c024110>"
      ]
     },
     "metadata": {},
     "output_type": "display_data"
    },
    {
     "data": {
      "text/plain": [
       "<matplotlib.figure.Figure at 0x13458c4d0>"
      ]
     },
     "metadata": {},
     "output_type": "display_data"
    },
    {
     "data": {
      "text/plain": [
       "<matplotlib.figure.Figure at 0x11c4d8050>"
      ]
     },
     "metadata": {},
     "output_type": "display_data"
    },
    {
     "data": {
      "text/plain": [
       "<matplotlib.figure.Figure at 0x126643b50>"
      ]
     },
     "metadata": {},
     "output_type": "display_data"
    },
    {
     "data": {
      "text/plain": [
       "<matplotlib.figure.Figure at 0x121ff4ad0>"
      ]
     },
     "metadata": {},
     "output_type": "display_data"
    },
    {
     "data": {
      "text/plain": [
       "<matplotlib.figure.Figure at 0x1268a3c10>"
      ]
     },
     "metadata": {},
     "output_type": "display_data"
    },
    {
     "data": {
      "text/plain": [
       "<matplotlib.figure.Figure at 0x126ebc150>"
      ]
     },
     "metadata": {},
     "output_type": "display_data"
    },
    {
     "data": {
      "text/plain": [
       "<matplotlib.figure.Figure at 0x11c5558d0>"
      ]
     },
     "metadata": {},
     "output_type": "display_data"
    },
    {
     "data": {
      "text/plain": [
       "<matplotlib.figure.Figure at 0x11bfd6dd0>"
      ]
     },
     "metadata": {},
     "output_type": "display_data"
    },
    {
     "data": {
      "text/plain": [
       "<matplotlib.figure.Figure at 0x125d1e810>"
      ]
     },
     "metadata": {},
     "output_type": "display_data"
    },
    {
     "data": {
      "text/plain": [
       "<matplotlib.figure.Figure at 0x1356d4490>"
      ]
     },
     "metadata": {},
     "output_type": "display_data"
    },
    {
     "data": {
      "text/plain": [
       "<matplotlib.figure.Figure at 0x12d497ad0>"
      ]
     },
     "metadata": {},
     "output_type": "display_data"
    },
    {
     "data": {
      "text/plain": [
       "<matplotlib.figure.Figure at 0x1267f7e10>"
      ]
     },
     "metadata": {},
     "output_type": "display_data"
    },
    {
     "data": {
      "text/plain": [
       "<matplotlib.figure.Figure at 0x1381eda50>"
      ]
     },
     "metadata": {},
     "output_type": "display_data"
    },
    {
     "data": {
      "text/plain": [
       "<matplotlib.figure.Figure at 0x13507d8d0>"
      ]
     },
     "metadata": {},
     "output_type": "display_data"
    },
    {
     "data": {
      "text/plain": [
       "<matplotlib.figure.Figure at 0x134344c50>"
      ]
     },
     "metadata": {},
     "output_type": "display_data"
    },
    {
     "data": {
      "text/plain": [
       "<matplotlib.figure.Figure at 0x134365d10>"
      ]
     },
     "metadata": {},
     "output_type": "display_data"
    },
    {
     "data": {
      "text/plain": [
       "<matplotlib.figure.Figure at 0x1356e7d90>"
      ]
     },
     "metadata": {},
     "output_type": "display_data"
    },
    {
     "data": {
      "text/plain": [
       "<matplotlib.figure.Figure at 0x1356edad0>"
      ]
     },
     "metadata": {},
     "output_type": "display_data"
    },
    {
     "data": {
      "text/plain": [
       "<matplotlib.figure.Figure at 0x13501bb90>"
      ]
     },
     "metadata": {},
     "output_type": "display_data"
    },
    {
     "data": {
      "text/plain": [
       "<matplotlib.figure.Figure at 0x135374f10>"
      ]
     },
     "metadata": {},
     "output_type": "display_data"
    },
    {
     "data": {
      "text/plain": [
       "<matplotlib.figure.Figure at 0x132827950>"
      ]
     },
     "metadata": {},
     "output_type": "display_data"
    },
    {
     "name": "stdout",
     "output_type": "stream",
     "text": [
      "('For n_clusters =', 28, 'The average silhouette_score is :', 0.64037459903907823)\n"
     ]
    },
    {
     "data": {
      "image/png": "[encoded data removed]",
      "text/plain": [
       "<matplotlib.figure.Figure at 0x1323f6d90>"
      ]
     },
     "metadata": {},
     "output_type": "display_data"
    },
    {
     "data": {
      "text/plain": [
       "<matplotlib.figure.Figure at 0x134598b10>"
      ]
     },
     "metadata": {},
     "output_type": "display_data"
    },
    {
     "data": {
      "text/plain": [
       "<matplotlib.figure.Figure at 0x130f17e90>"
      ]
     },
     "metadata": {},
     "output_type": "display_data"
    },
    {
     "data": {
      "text/plain": [
       "<matplotlib.figure.Figure at 0x138098ed0>"
      ]
     },
     "metadata": {},
     "output_type": "display_data"
    },
    {
     "data": {
      "text/plain": [
       "<matplotlib.figure.Figure at 0x13420cf10>"
      ]
     },
     "metadata": {},
     "output_type": "display_data"
    },
    {
     "data": {
      "text/plain": [
       "<matplotlib.figure.Figure at 0x135c5cf50>"
      ]
     },
     "metadata": {},
     "output_type": "display_data"
    },
    {
     "data": {
      "text/plain": [
       "<matplotlib.figure.Figure at 0x132147f90>"
      ]
     },
     "metadata": {},
     "output_type": "display_data"
    },
    {
     "data": {
      "text/plain": [
       "<matplotlib.figure.Figure at 0x13546bfd0>"
      ]
     },
     "metadata": {},
     "output_type": "display_data"
    },
    {
     "data": {
      "text/plain": [
       "<matplotlib.figure.Figure at 0x13234ff90>"
      ]
     },
     "metadata": {},
     "output_type": "display_data"
    },
    {
     "data": {
      "text/plain": [
       "<matplotlib.figure.Figure at 0x135656fd0>"
      ]
     },
     "metadata": {},
     "output_type": "display_data"
    },
    {
     "data": {
      "text/plain": [
       "<matplotlib.figure.Figure at 0x12f204d50>"
      ]
     },
     "metadata": {},
     "output_type": "display_data"
    },
    {
     "data": {
      "text/plain": [
       "<matplotlib.figure.Figure at 0x135501d90>"
      ]
     },
     "metadata": {},
     "output_type": "display_data"
    },
    {
     "data": {
      "text/plain": [
       "<matplotlib.figure.Figure at 0x134949dd0>"
      ]
     },
     "metadata": {},
     "output_type": "display_data"
    },
    {
     "data": {
      "text/plain": [
       "<matplotlib.figure.Figure at 0x13515fe10>"
      ]
     },
     "metadata": {},
     "output_type": "display_data"
    },
    {
     "data": {
      "text/plain": [
       "<matplotlib.figure.Figure at 0x1341d8e50>"
      ]
     },
     "metadata": {},
     "output_type": "display_data"
    },
    {
     "data": {
      "text/plain": [
       "<matplotlib.figure.Figure at 0x12f3f4e90>"
      ]
     },
     "metadata": {},
     "output_type": "display_data"
    },
    {
     "data": {
      "text/plain": [
       "<matplotlib.figure.Figure at 0x12f3b38d0>"
      ]
     },
     "metadata": {},
     "output_type": "display_data"
    },
    {
     "data": {
      "text/plain": [
       "<matplotlib.figure.Figure at 0x12e172910>"
      ]
     },
     "metadata": {},
     "output_type": "display_data"
    },
    {
     "data": {
      "text/plain": [
       "<matplotlib.figure.Figure at 0x1350d5950>"
      ]
     },
     "metadata": {},
     "output_type": "display_data"
    },
    {
     "data": {
      "text/plain": [
       "<matplotlib.figure.Figure at 0x1358d7990>"
      ]
     },
     "metadata": {},
     "output_type": "display_data"
    },
    {
     "data": {
      "text/plain": [
       "<matplotlib.figure.Figure at 0x134f659d0>"
      ]
     },
     "metadata": {},
     "output_type": "display_data"
    },
    {
     "data": {
      "text/plain": [
       "<matplotlib.figure.Figure at 0x13554ea10>"
      ]
     },
     "metadata": {},
     "output_type": "display_data"
    },
    {
     "data": {
      "text/plain": [
       "<matplotlib.figure.Figure at 0x12d843a50>"
      ]
     },
     "metadata": {},
     "output_type": "display_data"
    },
    {
     "data": {
      "text/plain": [
       "<matplotlib.figure.Figure at 0x1359daa90>"
      ]
     },
     "metadata": {},
     "output_type": "display_data"
    },
    {
     "data": {
      "text/plain": [
       "<matplotlib.figure.Figure at 0x12d3f3ad0>"
      ]
     },
     "metadata": {},
     "output_type": "display_data"
    },
    {
     "data": {
      "text/plain": [
       "<matplotlib.figure.Figure at 0x12da6c410>"
      ]
     },
     "metadata": {},
     "output_type": "display_data"
    },
    {
     "data": {
      "text/plain": [
       "<matplotlib.figure.Figure at 0x13336bb50>"
      ]
     },
     "metadata": {},
     "output_type": "display_data"
    },
    {
     "data": {
      "text/plain": [
       "<matplotlib.figure.Figure at 0x12f5e5b90>"
      ]
     },
     "metadata": {},
     "output_type": "display_data"
    },
    {
     "name": "stdout",
     "output_type": "stream",
     "text": [
      "('For n_clusters =', 29, 'The average silhouette_score is :', 0.65525791637906339)\n"
     ]
    },
    {
     "data": {
      "image/png": "[encoded data removed]",
      "text/plain": [
       "<matplotlib.figure.Figure at 0x11d3a1ed0>"
      ]
     },
     "metadata": {},
     "output_type": "display_data"
    },
    {
     "data": {
      "text/plain": [
       "<matplotlib.figure.Figure at 0x13487ce50>"
      ]
     },
     "metadata": {},
     "output_type": "display_data"
    },
    {
     "data": {
      "text/plain": [
       "<matplotlib.figure.Figure at 0x134a86c90>"
      ]
     },
     "metadata": {},
     "output_type": "display_data"
    },
    {
     "data": {
      "text/plain": [
       "<matplotlib.figure.Figure at 0x13437c8d0>"
      ]
     },
     "metadata": {},
     "output_type": "display_data"
    },
    {
     "data": {
      "text/plain": [
       "<matplotlib.figure.Figure at 0x138671e10>"
      ]
     },
     "metadata": {},
     "output_type": "display_data"
    },
    {
     "data": {
      "text/plain": [
       "<matplotlib.figure.Figure at 0x126501a90>"
      ]
     },
     "metadata": {},
     "output_type": "display_data"
    },
    {
     "data": {
      "text/plain": [
       "<matplotlib.figure.Figure at 0x11c002310>"
      ]
     },
     "metadata": {},
     "output_type": "display_data"
    },
    {
     "data": {
      "text/plain": [
       "<matplotlib.figure.Figure at 0x12604d5d0>"
      ]
     },
     "metadata": {},
     "output_type": "display_data"
    },
    {
     "data": {
      "text/plain": [
       "<matplotlib.figure.Figure at 0x126664d10>"
      ]
     },
     "metadata": {},
     "output_type": "display_data"
    },
    {
     "data": {
      "text/plain": [
       "<matplotlib.figure.Figure at 0x12714b750>"
      ]
     },
     "metadata": {},
     "output_type": "display_data"
    },
    {
     "data": {
      "text/plain": [
       "<matplotlib.figure.Figure at 0x11dfda850>"
      ]
     },
     "metadata": {},
     "output_type": "display_data"
    },
    {
     "data": {
      "text/plain": [
       "<matplotlib.figure.Figure at 0x1267d4590>"
      ]
     },
     "metadata": {},
     "output_type": "display_data"
    },
    {
     "data": {
      "text/plain": [
       "<matplotlib.figure.Figure at 0x11bfdf110>"
      ]
     },
     "metadata": {},
     "output_type": "display_data"
    },
    {
     "data": {
      "text/plain": [
       "<matplotlib.figure.Figure at 0x11df96ed0>"
      ]
     },
     "metadata": {},
     "output_type": "display_data"
    },
    {
     "data": {
      "text/plain": [
       "<matplotlib.figure.Figure at 0x11df67890>"
      ]
     },
     "metadata": {},
     "output_type": "display_data"
    },
    {
     "data": {
      "text/plain": [
       "<matplotlib.figure.Figure at 0x11c1fa650>"
      ]
     },
     "metadata": {},
     "output_type": "display_data"
    },
    {
     "data": {
      "text/plain": [
       "<matplotlib.figure.Figure at 0x11befb6d0>"
      ]
     },
     "metadata": {},
     "output_type": "display_data"
    },
    {
     "data": {
      "text/plain": [
       "<matplotlib.figure.Figure at 0x11def5310>"
      ]
     },
     "metadata": {},
     "output_type": "display_data"
    },
    {
     "data": {
      "text/plain": [
       "<matplotlib.figure.Figure at 0x126755450>"
      ]
     },
     "metadata": {},
     "output_type": "display_data"
    },
    {
     "data": {
      "text/plain": [
       "<matplotlib.figure.Figure at 0x125eba3d0>"
      ]
     },
     "metadata": {},
     "output_type": "display_data"
    },
    {
     "data": {
      "text/plain": [
       "<matplotlib.figure.Figure at 0x126a15290>"
      ]
     },
     "metadata": {},
     "output_type": "display_data"
    },
    {
     "data": {
      "text/plain": [
       "<matplotlib.figure.Figure at 0x11bfa6310>"
      ]
     },
     "metadata": {},
     "output_type": "display_data"
    },
    {
     "data": {
      "text/plain": [
       "<matplotlib.figure.Figure at 0x125c22750>"
      ]
     },
     "metadata": {},
     "output_type": "display_data"
    },
    {
     "data": {
      "text/plain": [
       "<matplotlib.figure.Figure at 0x134278850>"
      ]
     },
     "metadata": {},
     "output_type": "display_data"
    },
    {
     "data": {
      "text/plain": [
       "<matplotlib.figure.Figure at 0x13899ed90>"
      ]
     },
     "metadata": {},
     "output_type": "display_data"
    },
    {
     "data": {
      "text/plain": [
       "<matplotlib.figure.Figure at 0x134db9a90>"
      ]
     },
     "metadata": {},
     "output_type": "display_data"
    },
    {
     "data": {
      "text/plain": [
       "<matplotlib.figure.Figure at 0x134da1a50>"
      ]
     },
     "metadata": {},
     "output_type": "display_data"
    },
    {
     "data": {
      "text/plain": [
       "<matplotlib.figure.Figure at 0x121dc0d50>"
      ]
     },
     "metadata": {},
     "output_type": "display_data"
    },
    {
     "data": {
      "text/plain": [
       "<matplotlib.figure.Figure at 0x134365dd0>"
      ]
     },
     "metadata": {},
     "output_type": "display_data"
    },
    {
     "name": "stdout",
     "output_type": "stream",
     "text": [
      "('For n_clusters =', 30, 'The average silhouette_score is :', 0.67136789738368552)\n"
     ]
    },
    {
     "data": {
      "image/png": "[encoded data removed]",
      "text/plain": [
       "<matplotlib.figure.Figure at 0x12f509350>"
      ]
     },
     "metadata": {},
     "output_type": "display_data"
    },
    {
     "data": {
      "text/plain": [
       "<matplotlib.figure.Figure at 0x134249d50>"
      ]
     },
     "metadata": {},
     "output_type": "display_data"
    },
    {
     "data": {
      "text/plain": [
       "<matplotlib.figure.Figure at 0x131adad90>"
      ]
     },
     "metadata": {},
     "output_type": "display_data"
    },
    {
     "data": {
      "text/plain": [
       "<matplotlib.figure.Figure at 0x135072d50>"
      ]
     },
     "metadata": {},
     "output_type": "display_data"
    },
    {
     "data": {
      "text/plain": [
       "<matplotlib.figure.Figure at 0x130f209d0>"
      ]
     },
     "metadata": {},
     "output_type": "display_data"
    },
    {
     "data": {
      "text/plain": [
       "<matplotlib.figure.Figure at 0x134ca2cd0>"
      ]
     },
     "metadata": {},
     "output_type": "display_data"
    },
    {
     "data": {
      "text/plain": [
       "<matplotlib.figure.Figure at 0x135b47950>"
      ]
     },
     "metadata": {},
     "output_type": "display_data"
    },
    {
     "data": {
      "text/plain": [
       "<matplotlib.figure.Figure at 0x1338a0990>"
      ]
     },
     "metadata": {},
     "output_type": "display_data"
    },
    {
     "data": {
      "text/plain": [
       "<matplotlib.figure.Figure at 0x13911cb90>"
      ]
     },
     "metadata": {},
     "output_type": "display_data"
    },
    {
     "data": {
      "text/plain": [
       "<matplotlib.figure.Figure at 0x135825e90>"
      ]
     },
     "metadata": {},
     "output_type": "display_data"
    },
    {
     "data": {
      "text/plain": [
       "<matplotlib.figure.Figure at 0x134ec0b10>"
      ]
     },
     "metadata": {},
     "output_type": "display_data"
    },
    {
     "data": {
      "text/plain": [
       "<matplotlib.figure.Figure at 0x135c61d90>"
      ]
     },
     "metadata": {},
     "output_type": "display_data"
    },
    {
     "data": {
      "text/plain": [
       "<matplotlib.figure.Figure at 0x13351bd50>"
      ]
     },
     "metadata": {},
     "output_type": "display_data"
    },
    {
     "data": {
      "text/plain": [
       "<matplotlib.figure.Figure at 0x134fe19d0>"
      ]
     },
     "metadata": {},
     "output_type": "display_data"
    },
    {
     "data": {
      "text/plain": [
       "<matplotlib.figure.Figure at 0x134c46cd0>"
      ]
     },
     "metadata": {},
     "output_type": "display_data"
    },
    {
     "data": {
      "text/plain": [
       "<matplotlib.figure.Figure at 0x134f39950>"
      ]
     },
     "metadata": {},
     "output_type": "display_data"
    },
    {
     "data": {
      "text/plain": [
       "<matplotlib.figure.Figure at 0x135710f10>"
      ]
     },
     "metadata": {},
     "output_type": "display_data"
    },
    {
     "data": {
      "text/plain": [
       "<matplotlib.figure.Figure at 0x1335d9b90>"
      ]
     },
     "metadata": {},
     "output_type": "display_data"
    },
    {
     "data": {
      "text/plain": [
       "<matplotlib.figure.Figure at 0x137d3ce90>"
      ]
     },
     "metadata": {},
     "output_type": "display_data"
    },
    {
     "data": {
      "text/plain": [
       "<matplotlib.figure.Figure at 0x12f2b5950>"
      ]
     },
     "metadata": {},
     "output_type": "display_data"
    },
    {
     "data": {
      "text/plain": [
       "<matplotlib.figure.Figure at 0x132823d90>"
      ]
     },
     "metadata": {},
     "output_type": "display_data"
    },
    {
     "data": {
      "text/plain": [
       "<matplotlib.figure.Figure at 0x138087d50>"
      ]
     },
     "metadata": {},
     "output_type": "display_data"
    },
    {
     "data": {
      "text/plain": [
       "<matplotlib.figure.Figure at 0x1356699d0>"
      ]
     },
     "metadata": {},
     "output_type": "display_data"
    },
    {
     "data": {
      "text/plain": [
       "<matplotlib.figure.Figure at 0x13892ccd0>"
      ]
     },
     "metadata": {},
     "output_type": "display_data"
    },
    {
     "data": {
      "text/plain": [
       "<matplotlib.figure.Figure at 0x12d569950>"
      ]
     },
     "metadata": {},
     "output_type": "display_data"
    },
    {
     "data": {
      "text/plain": [
       "<matplotlib.figure.Figure at 0x134b72f10>"
      ]
     },
     "metadata": {},
     "output_type": "display_data"
    },
    {
     "data": {
      "text/plain": [
       "<matplotlib.figure.Figure at 0x134842b90>"
      ]
     },
     "metadata": {},
     "output_type": "display_data"
    },
    {
     "data": {
      "text/plain": [
       "<matplotlib.figure.Figure at 0x12e048e90>"
      ]
     },
     "metadata": {},
     "output_type": "display_data"
    },
    {
     "data": {
      "text/plain": [
       "<matplotlib.figure.Figure at 0x135446b10>"
      ]
     },
     "metadata": {},
     "output_type": "display_data"
    },
    {
     "data": {
      "text/plain": [
       "<matplotlib.figure.Figure at 0x134546d90>"
      ]
     },
     "metadata": {},
     "output_type": "display_data"
    },
    {
     "name": "stdout",
     "output_type": "stream",
     "text": [
      "('For n_clusters =', 31, 'The average silhouette_score is :', 0.68335250163127492)\n"
     ]
    },
    {
     "data": {
      "image/png": "[encoded data removed]",
      "text/plain": [
       "<matplotlib.figure.Figure at 0x134ebd9d0>"
      ]
     },
     "metadata": {},
     "output_type": "display_data"
    },
    {
     "data": {
      "text/plain": [
       "<matplotlib.figure.Figure at 0x125cac090>"
      ]
     },
     "metadata": {},
     "output_type": "display_data"
    },
    {
     "data": {
      "text/plain": [
       "<matplotlib.figure.Figure at 0x122f26d10>"
      ]
     },
     "metadata": {},
     "output_type": "display_data"
    },
    {
     "data": {
      "text/plain": [
       "<matplotlib.figure.Figure at 0x126f52610>"
      ]
     },
     "metadata": {},
     "output_type": "display_data"
    },
    {
     "data": {
      "text/plain": [
       "<matplotlib.figure.Figure at 0x1110c64d0>"
      ]
     },
     "metadata": {},
     "output_type": "display_data"
    },
    {
     "data": {
      "text/plain": [
       "<matplotlib.figure.Figure at 0x126b55c10>"
      ]
     },
     "metadata": {},
     "output_type": "display_data"
    },
    {
     "data": {
      "text/plain": [
       "<matplotlib.figure.Figure at 0x12606fed0>"
      ]
     },
     "metadata": {},
     "output_type": "display_data"
    },
    {
     "data": {
      "text/plain": [
       "<matplotlib.figure.Figure at 0x1269897d0>"
      ]
     },
     "metadata": {},
     "output_type": "display_data"
    },
    {
     "data": {
      "text/plain": [
       "<matplotlib.figure.Figure at 0x1359acbd0>"
      ]
     },
     "metadata": {},
     "output_type": "display_data"
    },
    {
     "data": {
      "text/plain": [
       "<matplotlib.figure.Figure at 0x12f4fcf50>"
      ]
     },
     "metadata": {},
     "output_type": "display_data"
    },
    {
     "data": {
      "text/plain": [
       "<matplotlib.figure.Figure at 0x126a64390>"
      ]
     },
     "metadata": {},
     "output_type": "display_data"
    },
    {
     "data": {
      "text/plain": [
       "<matplotlib.figure.Figure at 0x1110de990>"
      ]
     },
     "metadata": {},
     "output_type": "display_data"
    },
    {
     "data": {
      "text/plain": [
       "<matplotlib.figure.Figure at 0x134ce1d90>"
      ]
     },
     "metadata": {},
     "output_type": "display_data"
    },
    {
     "data": {
      "text/plain": [
       "<matplotlib.figure.Figure at 0x11bae5a90>"
      ]
     },
     "metadata": {},
     "output_type": "display_data"
    },
    {
     "data": {
      "text/plain": [
       "<matplotlib.figure.Figure at 0x121dad6d0>"
      ]
     },
     "metadata": {},
     "output_type": "display_data"
    },
    {
     "data": {
      "text/plain": [
       "<matplotlib.figure.Figure at 0x12653cd50>"
      ]
     },
     "metadata": {},
     "output_type": "display_data"
    },
    {
     "data": {
      "text/plain": [
       "<matplotlib.figure.Figure at 0x125bf3f90>"
      ]
     },
     "metadata": {},
     "output_type": "display_data"
    },
    {
     "data": {
      "text/plain": [
       "<matplotlib.figure.Figure at 0x11e069b90>"
      ]
     },
     "metadata": {},
     "output_type": "display_data"
    },
    {
     "data": {
      "text/plain": [
       "<matplotlib.figure.Figure at 0x12200ad50>"
      ]
     },
     "metadata": {},
     "output_type": "display_data"
    },
    {
     "data": {
      "text/plain": [
       "<matplotlib.figure.Figure at 0x1386bb9d0>"
      ]
     },
     "metadata": {},
     "output_type": "display_data"
    },
    {
     "data": {
      "text/plain": [
       "<matplotlib.figure.Figure at 0x13534ac50>"
      ]
     },
     "metadata": {},
     "output_type": "display_data"
    },
    {
     "data": {
      "text/plain": [
       "<matplotlib.figure.Figure at 0x134589ed0>"
      ]
     },
     "metadata": {},
     "output_type": "display_data"
    },
    {
     "data": {
      "text/plain": [
       "<matplotlib.figure.Figure at 0x12200dad0>"
      ]
     },
     "metadata": {},
     "output_type": "display_data"
    },
    {
     "data": {
      "text/plain": [
       "<matplotlib.figure.Figure at 0x134357d50>"
      ]
     },
     "metadata": {},
     "output_type": "display_data"
    },
    {
     "data": {
      "text/plain": [
       "<matplotlib.figure.Figure at 0x134dc6fd0>"
      ]
     },
     "metadata": {},
     "output_type": "display_data"
    },
    {
     "data": {
      "text/plain": [
       "<matplotlib.figure.Figure at 0x1389bb550>"
      ]
     },
     "metadata": {},
     "output_type": "display_data"
    },
    {
     "data": {
      "text/plain": [
       "<matplotlib.figure.Figure at 0x131530b90>"
      ]
     },
     "metadata": {},
     "output_type": "display_data"
    },
    {
     "data": {
      "text/plain": [
       "<matplotlib.figure.Figure at 0x1342c1e10>"
      ]
     },
     "metadata": {},
     "output_type": "display_data"
    },
    {
     "data": {
      "text/plain": [
       "<matplotlib.figure.Figure at 0x12d793a10>"
      ]
     },
     "metadata": {},
     "output_type": "display_data"
    },
    {
     "data": {
      "text/plain": [
       "<matplotlib.figure.Figure at 0x12f27bc90>"
      ]
     },
     "metadata": {},
     "output_type": "display_data"
    },
    {
     "data": {
      "text/plain": [
       "<matplotlib.figure.Figure at 0x130f61f10>"
      ]
     },
     "metadata": {},
     "output_type": "display_data"
    },
    {
     "name": "stdout",
     "output_type": "stream",
     "text": [
      "('For n_clusters =', 32, 'The average silhouette_score is :', 0.69651835265970374)\n"
     ]
    },
    {
     "data": {
      "image/png": "[encoded data removed]",
      "text/plain": [
       "<matplotlib.figure.Figure at 0x13858cd10>"
      ]
     },
     "metadata": {},
     "output_type": "display_data"
    },
    {
     "data": {
      "text/plain": [
       "<matplotlib.figure.Figure at 0x135a73710>"
      ]
     },
     "metadata": {},
     "output_type": "display_data"
    },
    {
     "data": {
      "text/plain": [
       "<matplotlib.figure.Figure at 0x138b2cd90>"
      ]
     },
     "metadata": {},
     "output_type": "display_data"
    },
    {
     "data": {
      "text/plain": [
       "<matplotlib.figure.Figure at 0x132242cd0>"
      ]
     },
     "metadata": {},
     "output_type": "display_data"
    },
    {
     "data": {
      "text/plain": [
       "<matplotlib.figure.Figure at 0x138809ed0>"
      ]
     },
     "metadata": {},
     "output_type": "display_data"
    },
    {
     "data": {
      "text/plain": [
       "<matplotlib.figure.Figure at 0x13560de10>"
      ]
     },
     "metadata": {},
     "output_type": "display_data"
    },
    {
     "data": {
      "text/plain": [
       "<matplotlib.figure.Figure at 0x1357f4f90>"
      ]
     },
     "metadata": {},
     "output_type": "display_data"
    },
    {
     "data": {
      "text/plain": [
       "<matplotlib.figure.Figure at 0x12e0c9fd0>"
      ]
     },
     "metadata": {},
     "output_type": "display_data"
    },
    {
     "data": {
      "text/plain": [
       "<matplotlib.figure.Figure at 0x12e24e610>"
      ]
     },
     "metadata": {},
     "output_type": "display_data"
    },
    {
     "data": {
      "text/plain": [
       "<matplotlib.figure.Figure at 0x134f66a10>"
      ]
     },
     "metadata": {},
     "output_type": "display_data"
    },
    {
     "data": {
      "text/plain": [
       "<matplotlib.figure.Figure at 0x12da8a950>"
      ]
     },
     "metadata": {},
     "output_type": "display_data"
    },
    {
     "data": {
      "text/plain": [
       "<matplotlib.figure.Figure at 0x12da5cb50>"
      ]
     },
     "metadata": {},
     "output_type": "display_data"
    },
    {
     "data": {
      "text/plain": [
       "<matplotlib.figure.Figure at 0x13553fa90>"
      ]
     },
     "metadata": {},
     "output_type": "display_data"
    },
    {
     "data": {
      "text/plain": [
       "<matplotlib.figure.Figure at 0x135025c90>"
      ]
     },
     "metadata": {},
     "output_type": "display_data"
    },
    {
     "data": {
      "text/plain": [
       "<matplotlib.figure.Figure at 0x134ad3bd0>"
      ]
     },
     "metadata": {},
     "output_type": "display_data"
    },
    {
     "data": {
      "text/plain": [
       "<matplotlib.figure.Figure at 0x134c36dd0>"
      ]
     },
     "metadata": {},
     "output_type": "display_data"
    },
    {
     "data": {
      "text/plain": [
       "<matplotlib.figure.Figure at 0x1332d6d10>"
      ]
     },
     "metadata": {},
     "output_type": "display_data"
    },
    {
     "data": {
      "text/plain": [
       "<matplotlib.figure.Figure at 0x135867f10>"
      ]
     },
     "metadata": {},
     "output_type": "display_data"
    },
    {
     "data": {
      "text/plain": [
       "<matplotlib.figure.Figure at 0x13598ce50>"
      ]
     },
     "metadata": {},
     "output_type": "display_data"
    },
    {
     "data": {
      "text/plain": [
       "<matplotlib.figure.Figure at 0x136463fd0>"
      ]
     },
     "metadata": {},
     "output_type": "display_data"
    },
    {
     "data": {
      "text/plain": [
       "<matplotlib.figure.Figure at 0x136551910>"
      ]
     },
     "metadata": {},
     "output_type": "display_data"
    },
    {
     "data": {
      "text/plain": [
       "<matplotlib.figure.Figure at 0x13701be50>"
      ]
     },
     "metadata": {},
     "output_type": "display_data"
    },
    {
     "data": {
      "text/plain": [
       "<matplotlib.figure.Figure at 0x13713fa50>"
      ]
     },
     "metadata": {},
     "output_type": "display_data"
    },
    {
     "data": {
      "text/plain": [
       "<matplotlib.figure.Figure at 0x137716990>"
      ]
     },
     "metadata": {},
     "output_type": "display_data"
    },
    {
     "data": {
      "text/plain": [
       "<matplotlib.figure.Figure at 0x137830b90>"
      ]
     },
     "metadata": {},
     "output_type": "display_data"
    },
    {
     "data": {
      "text/plain": [
       "<matplotlib.figure.Figure at 0x137954ad0>"
      ]
     },
     "metadata": {},
     "output_type": "display_data"
    },
    {
     "data": {
      "text/plain": [
       "<matplotlib.figure.Figure at 0x126e83b50>"
      ]
     },
     "metadata": {},
     "output_type": "display_data"
    },
    {
     "data": {
      "text/plain": [
       "<matplotlib.figure.Figure at 0x125e02390>"
      ]
     },
     "metadata": {},
     "output_type": "display_data"
    },
    {
     "data": {
      "text/plain": [
       "<matplotlib.figure.Figure at 0x125f7d1d0>"
      ]
     },
     "metadata": {},
     "output_type": "display_data"
    },
    {
     "data": {
      "text/plain": [
       "<matplotlib.figure.Figure at 0x11c555d90>"
      ]
     },
     "metadata": {},
     "output_type": "display_data"
    },
    {
     "data": {
      "text/plain": [
       "<matplotlib.figure.Figure at 0x126569ed0>"
      ]
     },
     "metadata": {},
     "output_type": "display_data"
    },
    {
     "data": {
      "text/plain": [
       "<matplotlib.figure.Figure at 0x11df0c490>"
      ]
     },
     "metadata": {},
     "output_type": "display_data"
    },
    {
     "name": "stdout",
     "output_type": "stream",
     "text": [
      "('For n_clusters =', 33, 'The average silhouette_score is :', 0.69504480618888365)\n"
     ]
    },
    {
     "data": {
      "image/png": "[encoded data removed]",
      "text/plain": [
       "<matplotlib.figure.Figure at 0x11ba3dc10>"
      ]
     },
     "metadata": {},
     "output_type": "display_data"
    },
    {
     "data": {
      "text/plain": [
       "<matplotlib.figure.Figure at 0x11d9f3e90>"
      ]
     },
     "metadata": {},
     "output_type": "display_data"
    },
    {
     "data": {
      "text/plain": [
       "<matplotlib.figure.Figure at 0x11d3e6b50>"
      ]
     },
     "metadata": {},
     "output_type": "display_data"
    },
    {
     "data": {
      "text/plain": [
       "<matplotlib.figure.Figure at 0x1359ac610>"
      ]
     },
     "metadata": {},
     "output_type": "display_data"
    },
    {
     "data": {
      "text/plain": [
       "<matplotlib.figure.Figure at 0x11bc9ef10>"
      ]
     },
     "metadata": {},
     "output_type": "display_data"
    },
    {
     "data": {
      "text/plain": [
       "<matplotlib.figure.Figure at 0x11bfdf6d0>"
      ]
     },
     "metadata": {},
     "output_type": "display_data"
    },
    {
     "data": {
      "text/plain": [
       "<matplotlib.figure.Figure at 0x1267bcf50>"
      ]
     },
     "metadata": {},
     "output_type": "display_data"
    },
    {
     "data": {
      "text/plain": [
       "<matplotlib.figure.Figure at 0x122e094d0>"
      ]
     },
     "metadata": {},
     "output_type": "display_data"
    },
    {
     "data": {
      "text/plain": [
       "<matplotlib.figure.Figure at 0x11d4e40d0>"
      ]
     },
     "metadata": {},
     "output_type": "display_data"
    },
    {
     "data": {
      "text/plain": [
       "<matplotlib.figure.Figure at 0x11bace750>"
      ]
     },
     "metadata": {},
     "output_type": "display_data"
    },
    {
     "data": {
      "text/plain": [
       "<matplotlib.figure.Figure at 0x1347823d0>"
      ]
     },
     "metadata": {},
     "output_type": "display_data"
    },
    {
     "data": {
      "text/plain": [
       "<matplotlib.figure.Figure at 0x122007bd0>"
      ]
     },
     "metadata": {},
     "output_type": "display_data"
    },
    {
     "data": {
      "text/plain": [
       "<matplotlib.figure.Figure at 0x13235aa90>"
      ]
     },
     "metadata": {},
     "output_type": "display_data"
    },
    {
     "data": {
      "text/plain": [
       "<matplotlib.figure.Figure at 0x13814ce90>"
      ]
     },
     "metadata": {},
     "output_type": "display_data"
    },
    {
     "data": {
      "text/plain": [
       "<matplotlib.figure.Figure at 0x130f43e10>"
      ]
     },
     "metadata": {},
     "output_type": "display_data"
    },
    {
     "data": {
      "text/plain": [
       "<matplotlib.figure.Figure at 0x121dbbf90>"
      ]
     },
     "metadata": {},
     "output_type": "display_data"
    },
    {
     "data": {
      "text/plain": [
       "<matplotlib.figure.Figure at 0x13867eed0>"
      ]
     },
     "metadata": {},
     "output_type": "display_data"
    },
    {
     "data": {
      "text/plain": [
       "<matplotlib.figure.Figure at 0x134338d90>"
      ]
     },
     "metadata": {},
     "output_type": "display_data"
    },
    {
     "data": {
      "text/plain": [
       "<matplotlib.figure.Figure at 0x135ae7c50>"
      ]
     },
     "metadata": {},
     "output_type": "display_data"
    },
    {
     "data": {
      "text/plain": [
       "<matplotlib.figure.Figure at 0x134ce1e50>"
      ]
     },
     "metadata": {},
     "output_type": "display_data"
    },
    {
     "data": {
      "text/plain": [
       "<matplotlib.figure.Figure at 0x1345239d0>"
      ]
     },
     "metadata": {},
     "output_type": "display_data"
    },
    {
     "data": {
      "text/plain": [
       "<matplotlib.figure.Figure at 0x130f14f10>"
      ]
     },
     "metadata": {},
     "output_type": "display_data"
    },
    {
     "data": {
      "text/plain": [
       "<matplotlib.figure.Figure at 0x12f290dd0>"
      ]
     },
     "metadata": {},
     "output_type": "display_data"
    },
    {
     "data": {
      "text/plain": [
       "<matplotlib.figure.Figure at 0x131445c90>"
      ]
     },
     "metadata": {},
     "output_type": "display_data"
    },
    {
     "data": {
      "text/plain": [
       "<matplotlib.figure.Figure at 0x135b61b50>"
      ]
     },
     "metadata": {},
     "output_type": "display_data"
    },
    {
     "data": {
      "text/plain": [
       "<matplotlib.figure.Figure at 0x13546da10>"
      ]
     },
     "metadata": {},
     "output_type": "display_data"
    },
    {
     "data": {
      "text/plain": [
       "<matplotlib.figure.Figure at 0x13565e8d0>"
      ]
     },
     "metadata": {},
     "output_type": "display_data"
    },
    {
     "data": {
      "text/plain": [
       "<matplotlib.figure.Figure at 0x134762d90>"
      ]
     },
     "metadata": {},
     "output_type": "display_data"
    },
    {
     "data": {
      "text/plain": [
       "<matplotlib.figure.Figure at 0x135094f90>"
      ]
     },
     "metadata": {},
     "output_type": "display_data"
    },
    {
     "data": {
      "text/plain": [
       "<matplotlib.figure.Figure at 0x1381e5e50>"
      ]
     },
     "metadata": {},
     "output_type": "display_data"
    },
    {
     "data": {
      "text/plain": [
       "<matplotlib.figure.Figure at 0x1389bed10>"
      ]
     },
     "metadata": {},
     "output_type": "display_data"
    },
    {
     "data": {
      "text/plain": [
       "<matplotlib.figure.Figure at 0x1343b1bd0>"
      ]
     },
     "metadata": {},
     "output_type": "display_data"
    },
    {
     "data": {
      "text/plain": [
       "<matplotlib.figure.Figure at 0x134a3ea90>"
      ]
     },
     "metadata": {},
     "output_type": "display_data"
    },
    {
     "name": "stdout",
     "output_type": "stream",
     "text": [
      "('For n_clusters =', 34, 'The average silhouette_score is :', 0.71560223563874059)\n"
     ]
    },
    {
     "data": {
      "image/png": "[encoded data removed]",
      "text/plain": [
       "<matplotlib.figure.Figure at 0x1341ef350>"
      ]
     },
     "metadata": {},
     "output_type": "display_data"
    },
    {
     "data": {
      "text/plain": [
       "<matplotlib.figure.Figure at 0x137e4f490>"
      ]
     },
     "metadata": {},
     "output_type": "display_data"
    },
    {
     "data": {
      "text/plain": [
       "<matplotlib.figure.Figure at 0x1344dad90>"
      ]
     },
     "metadata": {},
     "output_type": "display_data"
    },
    {
     "data": {
      "text/plain": [
       "<matplotlib.figure.Figure at 0x134899910>"
      ]
     },
     "metadata": {},
     "output_type": "display_data"
    },
    {
     "data": {
      "text/plain": [
       "<matplotlib.figure.Figure at 0x132800dd0>"
      ]
     },
     "metadata": {},
     "output_type": "display_data"
    },
    {
     "data": {
      "text/plain": [
       "<matplotlib.figure.Figure at 0x137d38c10>"
      ]
     },
     "metadata": {},
     "output_type": "display_data"
    },
    {
     "data": {
      "text/plain": [
       "<matplotlib.figure.Figure at 0x13580ed90>"
      ]
     },
     "metadata": {},
     "output_type": "display_data"
    },
    {
     "data": {
      "text/plain": [
       "<matplotlib.figure.Figure at 0x12f5cbc50>"
      ]
     },
     "metadata": {},
     "output_type": "display_data"
    },
    {
     "data": {
      "text/plain": [
       "<matplotlib.figure.Figure at 0x1342e6a90>"
      ]
     },
     "metadata": {},
     "output_type": "display_data"
    },
    {
     "data": {
      "text/plain": [
       "<matplotlib.figure.Figure at 0x134efef10>"
      ]
     },
     "metadata": {},
     "output_type": "display_data"
    },
    {
     "data": {
      "text/plain": [
       "<matplotlib.figure.Figure at 0x134fd6a90>"
      ]
     },
     "metadata": {},
     "output_type": "display_data"
    },
    {
     "data": {
      "text/plain": [
       "<matplotlib.figure.Figure at 0x134cb8fd0>"
      ]
     },
     "metadata": {},
     "output_type": "display_data"
    },
    {
     "data": {
      "text/plain": [
       "<matplotlib.figure.Figure at 0x138365d90>"
      ]
     },
     "metadata": {},
     "output_type": "display_data"
    },
    {
     "data": {
      "text/plain": [
       "<matplotlib.figure.Figure at 0x13842c910>"
      ]
     },
     "metadata": {},
     "output_type": "display_data"
    },
    {
     "data": {
      "text/plain": [
       "<matplotlib.figure.Figure at 0x13337fdd0>"
      ]
     },
     "metadata": {},
     "output_type": "display_data"
    },
    {
     "data": {
      "text/plain": [
       "<matplotlib.figure.Figure at 0x11ba77890>"
      ]
     },
     "metadata": {},
     "output_type": "display_data"
    },
    {
     "data": {
      "text/plain": [
       "<matplotlib.figure.Figure at 0x11c14ff10>"
      ]
     },
     "metadata": {},
     "output_type": "display_data"
    },
    {
     "data": {
      "text/plain": [
       "<matplotlib.figure.Figure at 0x12707edd0>"
      ]
     },
     "metadata": {},
     "output_type": "display_data"
    },
    {
     "data": {
      "text/plain": [
       "<matplotlib.figure.Figure at 0x1267a6450>"
      ]
     },
     "metadata": {},
     "output_type": "display_data"
    },
    {
     "data": {
      "text/plain": [
       "<matplotlib.figure.Figure at 0x126638450>"
      ]
     },
     "metadata": {},
     "output_type": "display_data"
    },
    {
     "data": {
      "text/plain": [
       "<matplotlib.figure.Figure at 0x125d34b90>"
      ]
     },
     "metadata": {},
     "output_type": "display_data"
    },
    {
     "data": {
      "text/plain": [
       "<matplotlib.figure.Figure at 0x122008910>"
      ]
     },
     "metadata": {},
     "output_type": "display_data"
    },
    {
     "data": {
      "text/plain": [
       "<matplotlib.figure.Figure at 0x1260641d0>"
      ]
     },
     "metadata": {},
     "output_type": "display_data"
    },
    {
     "data": {
      "text/plain": [
       "<matplotlib.figure.Figure at 0x11d3cf7d0>"
      ]
     },
     "metadata": {},
     "output_type": "display_data"
    },
    {
     "data": {
      "text/plain": [
       "<matplotlib.figure.Figure at 0x125be7990>"
      ]
     },
     "metadata": {},
     "output_type": "display_data"
    },
    {
     "data": {
      "text/plain": [
       "<matplotlib.figure.Figure at 0x12f537910>"
      ]
     },
     "metadata": {},
     "output_type": "display_data"
    },
    {
     "data": {
      "text/plain": [
       "<matplotlib.figure.Figure at 0x135a73b10>"
      ]
     },
     "metadata": {},
     "output_type": "display_data"
    },
    {
     "data": {
      "text/plain": [
       "<matplotlib.figure.Figure at 0x11d9a2050>"
      ]
     },
     "metadata": {},
     "output_type": "display_data"
    },
    {
     "data": {
      "text/plain": [
       "<matplotlib.figure.Figure at 0x11c0cf510>"
      ]
     },
     "metadata": {},
     "output_type": "display_data"
    },
    {
     "data": {
      "text/plain": [
       "<matplotlib.figure.Figure at 0x11d3d92d0>"
      ]
     },
     "metadata": {},
     "output_type": "display_data"
    },
    {
     "data": {
      "text/plain": [
       "<matplotlib.figure.Figure at 0x132377ed0>"
      ]
     },
     "metadata": {},
     "output_type": "display_data"
    },
    {
     "data": {
      "text/plain": [
       "<matplotlib.figure.Figure at 0x111143b50>"
      ]
     },
     "metadata": {},
     "output_type": "display_data"
    },
    {
     "data": {
      "text/plain": [
       "<matplotlib.figure.Figure at 0x122ecbd50>"
      ]
     },
     "metadata": {},
     "output_type": "display_data"
    },
    {
     "data": {
      "text/plain": [
       "<matplotlib.figure.Figure at 0x134973f50>"
      ]
     },
     "metadata": {},
     "output_type": "display_data"
    }
   ],
   "source": [
    "cluster_range = range(25, 35)\n",
    "\n",
    "for n_clusters in cluster_range:\n",
    "    # Create a subplot with 1 row and 2 columns\n",
    "    fig, (ax1, ax2) = plt.subplots(1, 2)\n",
    "    fig.set_size_inches(18, 7)\n",
    "\n",
    "    # The 1st subplot is the silhouette plot\n",
    "    # The silhouette coefficient can range from -1, 1 but in this example all\n",
    "    # lie within [-0.1, 1]\n",
    "    ax1.set_xlim([-0.1, 1])\n",
    "    # The (n_clusters+1)*10 is for inserting blank space between silhouette\n",
    "    # plots of individual clusters, to demarcate them clearly.\n",
    "    ax1.set_ylim([0, len(X_scaled_new) + (n_clusters + 1) * 10])\n",
    "\n",
    "    # Initialize the clusterer with n_clusters value and a random generator\n",
    "    # seed of 10 for reproducibility.\n",
    "    clusterer = KMeans(n_clusters=n_clusters, random_state=10)\n",
    "    cluster_labels = clusterer.fit_predict( X_scaled_new )\n",
    "\n",
    "    # The silhouette_score gives the average value for all the samples.\n",
    "    # This gives a perspective into the density and separation of the formed\n",
    "    # clusters\n",
    "    silhouette_avg = silhouette_score(X_scaled_new, cluster_labels)\n",
    "    print(\"For n_clusters =\", n_clusters,\n",
    "            \"The average silhouette_score is :\", silhouette_avg)\n",
    "\n",
    "    # Compute the silhouette scores for each sample\n",
    "    sample_silhouette_values = silhouette_samples(X_scaled_new, cluster_labels)\n",
    "\n",
    "    y_lower = 10\n",
    "    for i in range(n_clusters):\n",
    "        # Aggregate the silhouette scores for samples belonging to\n",
    "        # cluster i, and sort them\n",
    "        ith_cluster_silhouette_values = \\\n",
    "        sample_silhouette_values[cluster_labels == i]\n",
    "\n",
    "        ith_cluster_silhouette_values.sort()\n",
    "\n",
    "        size_cluster_i = ith_cluster_silhouette_values.shape[0]\n",
    "        y_upper = y_lower + size_cluster_i\n",
    "\n",
    "        color = cm.spectral(float(i) / n_clusters)\n",
    "        ax1.fill_betweenx(np.arange(y_lower, y_upper),\n",
    "                            0, ith_cluster_silhouette_values,\n",
    "                            facecolor=color, edgecolor=color, alpha=0.7)\n",
    "\n",
    "        # Label the silhouette plots with their cluster numbers at the middle\n",
    "        ax1.text(-0.05, y_lower + 0.5 * size_cluster_i, str(i))\n",
    "\n",
    "        # Compute the new y_lower for next plot\n",
    "        y_lower = y_upper + 10  # 10 for the 0 samples\n",
    "\n",
    "        ax1.set_title(\"The silhouette plot for the various clusters.\")\n",
    "        ax1.set_xlabel(\"The silhouette coefficient values\")\n",
    "        ax1.set_ylabel(\"Cluster label\")\n",
    "\n",
    "        # The vertical line for average silhoutte score of all the values\n",
    "        ax1.axvline(x=silhouette_avg, color=\"red\", linestyle=\"--\")\n",
    "\n",
    "        ax1.set_yticks([])  # Clear the yaxis labels / ticks\n",
    "        ax1.set_xticks([-0.1, 0, 0.2, 0.4, 0.6, 0.8, 1])\n",
    "\n",
    "        # 2nd Plot showing the actual clusters formed\n",
    "        colors = cm.spectral(cluster_labels.astype(float) / n_clusters)\n",
    "        ax2.scatter(X_scaled_new[:, 0], X_scaled_new[:, 1], marker='.', s=30, lw=0, alpha=0.7,\n",
    "                  c=colors)\n",
    "\n",
    "        # Labeling the clusters\n",
    "        centers = clusterer.cluster_centers_\n",
    "        # Draw white circles at cluster centers\n",
    "        ax2.scatter(centers[:, 0], centers[:, 1],\n",
    "                  marker='o', c=\"white\", alpha=1, s=200)\n",
    "\n",
    "        for i, c in enumerate(centers):\n",
    "            ax2.scatter(c[0], c[1], marker='$%d$' % i, alpha=1, s=50)\n",
    "\n",
    "        ax2.set_title(\"The visualization of the clustered data.\")\n",
    "        ax2.set_xlabel(\"Feature space for the 1st feature\")\n",
    "        ax2.set_ylabel(\"Feature space for the 2nd feature\")\n",
    "\n",
    "        plt.suptitle((\"Silhouette analysis for KMeans clustering on sample data \"\n",
    "                    \"with n_clusters = %d\" % n_clusters),\n",
    "                   fontsize=14, fontweight='bold')\n",
    "\n",
    "        plt.show()\n"
   ]
  },
  {
   "cell_type": "markdown",
   "metadata": {},
   "source": [
    "### Begin clustering"
   ]
  },
  {
   "cell_type": "markdown",
   "metadata": {},
   "source": [
    "#### Set cluster number as 3"
   ]
  },
  {
   "cell_type": "code",
   "execution_count": 32,
   "metadata": {
    "collapsed": true
   },
   "outputs": [],
   "source": [
    "#kmeans = KMeans(n_clusters=3, random_state=0).fit(df_new)\n",
    "kmeans = KMeans(n_clusters=3, random_state=3425).fit(df_new)"
   ]
  },
  {
   "cell_type": "code",
   "execution_count": 33,
   "metadata": {
    "collapsed": true
   },
   "outputs": [],
   "source": [
    "l0 = [item for item in kmeans.labels_ if item == 0]\n",
    "l1 = [item for item in kmeans.labels_ if item == 1]\n",
    "l2 = [item for item in kmeans.labels_ if item == 2]"
   ]
  },
  {
   "cell_type": "code",
   "execution_count": 34,
   "metadata": {
    "collapsed": false
   },
   "outputs": [
    {
     "name": "stdout",
     "output_type": "stream",
     "text": [
      "2997\n",
      "2328\n",
      "1872\n"
     ]
    }
   ],
   "source": [
    "print len(l0)\n",
    "print len(l1)\n",
    "print len(l2)"
   ]
  },
  {
   "cell_type": "markdown",
   "metadata": {},
   "source": [
    "## Analysis of the clustering result"
   ]
  },
  {
   "cell_type": "code",
   "execution_count": 35,
   "metadata": {
    "collapsed": false
   },
   "outputs": [
    {
     "data": {
      "text/plain": [
       "array([1, 1, 1, 1, 1, 1, 1, 1, 1, 1], dtype=int32)"
      ]
     },
     "execution_count": 35,
     "metadata": {},
     "output_type": "execute_result"
    }
   ],
   "source": [
    "kmeans.labels_[0:10]"
   ]
  },
  {
   "cell_type": "code",
   "execution_count": 36,
   "metadata": {
    "collapsed": true
   },
   "outputs": [],
   "source": [
    "df_new.index = range(len(df_new))\n",
    "du.index = range(len(du))"
   ]
  },
  {
   "cell_type": "code",
   "execution_count": 37,
   "metadata": {
    "collapsed": true
   },
   "outputs": [],
   "source": [
    "g0, g1, g2 = [], [], []\n",
    "s0, s1, s2 = 0, 0, 0\n",
    "t0, t1, t2 = 0, 0, 0\n",
    "for i in range(len(df_new)):\n",
    "    if kmeans.labels_[i] == 0:\n",
    "        g0.append(i)\n",
    "        s0 += du['carousell_uniques'][i]\n",
    "        t0 += du['total_uniques'][i]\n",
    "    elif kmeans.labels_[i] == 1:\n",
    "        g1.append(i)\n",
    "        s1 += du['carousell_uniques'][i]\n",
    "        t1 += du['total_uniques'][i]\n",
    "    else:\n",
    "        g2.append(i)\n",
    "        s2 += du['carousell_uniques'][i]\n",
    "        t2 += du['total_uniques'][i]\n",
    "        "
   ]
  },
  {
   "cell_type": "code",
   "execution_count": 38,
   "metadata": {
    "collapsed": false
   },
   "outputs": [
    {
     "name": "stdout",
     "output_type": "stream",
     "text": [
      "3491 13298 0.262520679801\n",
      "4097 32288 0.126889246779\n",
      "3642 34114 0.106759688105\n",
      "0.140903387704\n"
     ]
    }
   ],
   "source": [
    "print s0,t0, float(s0)/t0  ## It seems that the first group performs best\n",
    "print s1,t1, float(s1)/t1\n",
    "print s2,t2, float(s2)/t2\n",
    "print float(sum(du['carousell_uniques']))/sum(du['total_uniques'])"
   ]
  },
  {
   "cell_type": "code",
   "execution_count": 39,
   "metadata": {
    "collapsed": false
   },
   "outputs": [],
   "source": [
    "df_new_g0 = df_new.loc[g0]\n",
    "df_new_g1 = df_new.loc[g1]\n",
    "df_new_g2 = df_new.loc[g2]"
   ]
  },
  {
   "cell_type": "code",
   "execution_count": 40,
   "metadata": {
    "collapsed": false
   },
   "outputs": [
    {
     "data": {
      "text/html": [
       "<div>\n",
       "<table border=\"1\" class=\"dataframe\">\n",
       "  <thead>\n",
       "    <tr style=\"text-align: right;\">\n",
       "      <th></th>\n",
       "      <th>brand_Asus</th>\n",
       "      <th>brand_Generic</th>\n",
       "      <th>brand_Huawei</th>\n",
       "      <th>brand_Leagoo</th>\n",
       "      <th>brand_Lenovo</th>\n",
       "      <th>brand_OPPO</th>\n",
       "      <th>brand_Others</th>\n",
       "      <th>brand_Samsung</th>\n",
       "      <th>brand_Sony</th>\n",
       "      <th>brand_Vivo</th>\n",
       "      <th>...</th>\n",
       "      <th>city_10;kajang</th>\n",
       "      <th>city_10;klang</th>\n",
       "      <th>city_10;petaling jaya</th>\n",
       "      <th>city_10;puchong</th>\n",
       "      <th>city_10;seri kembangan</th>\n",
       "      <th>city_10;shah alam</th>\n",
       "      <th>city_12;kota kinabalu</th>\n",
       "      <th>city_13;kuching</th>\n",
       "      <th>city_14;kuala lumpur</th>\n",
       "      <th>city_Others</th>\n",
       "    </tr>\n",
       "  </thead>\n",
       "  <tbody>\n",
       "    <tr>\n",
       "      <th>count</th>\n",
       "      <td>2997.000000</td>\n",
       "      <td>2997.000000</td>\n",
       "      <td>2997.000000</td>\n",
       "      <td>2997.000000</td>\n",
       "      <td>2997.000000</td>\n",
       "      <td>2997.000000</td>\n",
       "      <td>2997.000000</td>\n",
       "      <td>2997.0</td>\n",
       "      <td>2997.000000</td>\n",
       "      <td>2997.000000</td>\n",
       "      <td>...</td>\n",
       "      <td>2997.000000</td>\n",
       "      <td>2997.000000</td>\n",
       "      <td>2997.000000</td>\n",
       "      <td>2997.000000</td>\n",
       "      <td>2997.000000</td>\n",
       "      <td>2997.000000</td>\n",
       "      <td>2997.000000</td>\n",
       "      <td>2997.000000</td>\n",
       "      <td>2997.0</td>\n",
       "      <td>2997.000000</td>\n",
       "    </tr>\n",
       "    <tr>\n",
       "      <th>mean</th>\n",
       "      <td>0.113780</td>\n",
       "      <td>0.114114</td>\n",
       "      <td>0.048048</td>\n",
       "      <td>0.025359</td>\n",
       "      <td>0.283617</td>\n",
       "      <td>0.069069</td>\n",
       "      <td>0.121121</td>\n",
       "      <td>0.0</td>\n",
       "      <td>0.027027</td>\n",
       "      <td>0.050050</td>\n",
       "      <td>...</td>\n",
       "      <td>0.034034</td>\n",
       "      <td>0.048715</td>\n",
       "      <td>0.275275</td>\n",
       "      <td>0.060394</td>\n",
       "      <td>0.024358</td>\n",
       "      <td>0.146813</td>\n",
       "      <td>0.045379</td>\n",
       "      <td>0.017351</td>\n",
       "      <td>0.0</td>\n",
       "      <td>0.190858</td>\n",
       "    </tr>\n",
       "    <tr>\n",
       "      <th>std</th>\n",
       "      <td>0.317597</td>\n",
       "      <td>0.318003</td>\n",
       "      <td>0.213903</td>\n",
       "      <td>0.157238</td>\n",
       "      <td>0.450828</td>\n",
       "      <td>0.253614</td>\n",
       "      <td>0.326322</td>\n",
       "      <td>0.0</td>\n",
       "      <td>0.162189</td>\n",
       "      <td>0.218085</td>\n",
       "      <td>...</td>\n",
       "      <td>0.181347</td>\n",
       "      <td>0.215308</td>\n",
       "      <td>0.446727</td>\n",
       "      <td>0.238255</td>\n",
       "      <td>0.154183</td>\n",
       "      <td>0.353979</td>\n",
       "      <td>0.208168</td>\n",
       "      <td>0.130596</td>\n",
       "      <td>0.0</td>\n",
       "      <td>0.393043</td>\n",
       "    </tr>\n",
       "    <tr>\n",
       "      <th>min</th>\n",
       "      <td>0.000000</td>\n",
       "      <td>0.000000</td>\n",
       "      <td>0.000000</td>\n",
       "      <td>0.000000</td>\n",
       "      <td>0.000000</td>\n",
       "      <td>0.000000</td>\n",
       "      <td>0.000000</td>\n",
       "      <td>0.0</td>\n",
       "      <td>0.000000</td>\n",
       "      <td>0.000000</td>\n",
       "      <td>...</td>\n",
       "      <td>0.000000</td>\n",
       "      <td>0.000000</td>\n",
       "      <td>0.000000</td>\n",
       "      <td>0.000000</td>\n",
       "      <td>0.000000</td>\n",
       "      <td>0.000000</td>\n",
       "      <td>0.000000</td>\n",
       "      <td>0.000000</td>\n",
       "      <td>0.0</td>\n",
       "      <td>0.000000</td>\n",
       "    </tr>\n",
       "    <tr>\n",
       "      <th>25%</th>\n",
       "      <td>0.000000</td>\n",
       "      <td>0.000000</td>\n",
       "      <td>0.000000</td>\n",
       "      <td>0.000000</td>\n",
       "      <td>0.000000</td>\n",
       "      <td>0.000000</td>\n",
       "      <td>0.000000</td>\n",
       "      <td>0.0</td>\n",
       "      <td>0.000000</td>\n",
       "      <td>0.000000</td>\n",
       "      <td>...</td>\n",
       "      <td>0.000000</td>\n",
       "      <td>0.000000</td>\n",
       "      <td>0.000000</td>\n",
       "      <td>0.000000</td>\n",
       "      <td>0.000000</td>\n",
       "      <td>0.000000</td>\n",
       "      <td>0.000000</td>\n",
       "      <td>0.000000</td>\n",
       "      <td>0.0</td>\n",
       "      <td>0.000000</td>\n",
       "    </tr>\n",
       "    <tr>\n",
       "      <th>50%</th>\n",
       "      <td>0.000000</td>\n",
       "      <td>0.000000</td>\n",
       "      <td>0.000000</td>\n",
       "      <td>0.000000</td>\n",
       "      <td>0.000000</td>\n",
       "      <td>0.000000</td>\n",
       "      <td>0.000000</td>\n",
       "      <td>0.0</td>\n",
       "      <td>0.000000</td>\n",
       "      <td>0.000000</td>\n",
       "      <td>...</td>\n",
       "      <td>0.000000</td>\n",
       "      <td>0.000000</td>\n",
       "      <td>0.000000</td>\n",
       "      <td>0.000000</td>\n",
       "      <td>0.000000</td>\n",
       "      <td>0.000000</td>\n",
       "      <td>0.000000</td>\n",
       "      <td>0.000000</td>\n",
       "      <td>0.0</td>\n",
       "      <td>0.000000</td>\n",
       "    </tr>\n",
       "    <tr>\n",
       "      <th>75%</th>\n",
       "      <td>0.000000</td>\n",
       "      <td>0.000000</td>\n",
       "      <td>0.000000</td>\n",
       "      <td>0.000000</td>\n",
       "      <td>1.000000</td>\n",
       "      <td>0.000000</td>\n",
       "      <td>0.000000</td>\n",
       "      <td>0.0</td>\n",
       "      <td>0.000000</td>\n",
       "      <td>0.000000</td>\n",
       "      <td>...</td>\n",
       "      <td>0.000000</td>\n",
       "      <td>0.000000</td>\n",
       "      <td>1.000000</td>\n",
       "      <td>0.000000</td>\n",
       "      <td>0.000000</td>\n",
       "      <td>0.000000</td>\n",
       "      <td>0.000000</td>\n",
       "      <td>0.000000</td>\n",
       "      <td>0.0</td>\n",
       "      <td>0.000000</td>\n",
       "    </tr>\n",
       "    <tr>\n",
       "      <th>max</th>\n",
       "      <td>1.000000</td>\n",
       "      <td>1.000000</td>\n",
       "      <td>1.000000</td>\n",
       "      <td>1.000000</td>\n",
       "      <td>1.000000</td>\n",
       "      <td>1.000000</td>\n",
       "      <td>1.000000</td>\n",
       "      <td>0.0</td>\n",
       "      <td>1.000000</td>\n",
       "      <td>1.000000</td>\n",
       "      <td>...</td>\n",
       "      <td>1.000000</td>\n",
       "      <td>1.000000</td>\n",
       "      <td>1.000000</td>\n",
       "      <td>1.000000</td>\n",
       "      <td>1.000000</td>\n",
       "      <td>1.000000</td>\n",
       "      <td>1.000000</td>\n",
       "      <td>1.000000</td>\n",
       "      <td>0.0</td>\n",
       "      <td>1.000000</td>\n",
       "    </tr>\n",
       "  </tbody>\n",
       "</table>\n",
       "<p>8 rows × 28 columns</p>\n",
       "</div>"
      ],
      "text/plain": [
       "        brand_Asus  brand_Generic  brand_Huawei  brand_Leagoo  brand_Lenovo  \\\n",
       "count  2997.000000    2997.000000   2997.000000   2997.000000   2997.000000   \n",
       "mean      0.113780       0.114114      0.048048      0.025359      0.283617   \n",
       "std       0.317597       0.318003      0.213903      0.157238      0.450828   \n",
       "min       0.000000       0.000000      0.000000      0.000000      0.000000   \n",
       "25%       0.000000       0.000000      0.000000      0.000000      0.000000   \n",
       "50%       0.000000       0.000000      0.000000      0.000000      0.000000   \n",
       "75%       0.000000       0.000000      0.000000      0.000000      1.000000   \n",
       "max       1.000000       1.000000      1.000000      1.000000      1.000000   \n",
       "\n",
       "        brand_OPPO  brand_Others  brand_Samsung   brand_Sony   brand_Vivo  \\\n",
       "count  2997.000000   2997.000000         2997.0  2997.000000  2997.000000   \n",
       "mean      0.069069      0.121121            0.0     0.027027     0.050050   \n",
       "std       0.253614      0.326322            0.0     0.162189     0.218085   \n",
       "min       0.000000      0.000000            0.0     0.000000     0.000000   \n",
       "25%       0.000000      0.000000            0.0     0.000000     0.000000   \n",
       "50%       0.000000      0.000000            0.0     0.000000     0.000000   \n",
       "75%       0.000000      0.000000            0.0     0.000000     0.000000   \n",
       "max       1.000000      1.000000            0.0     1.000000     1.000000   \n",
       "\n",
       "          ...       city_10;kajang  city_10;klang  city_10;petaling jaya  \\\n",
       "count     ...          2997.000000    2997.000000            2997.000000   \n",
       "mean      ...             0.034034       0.048715               0.275275   \n",
       "std       ...             0.181347       0.215308               0.446727   \n",
       "min       ...             0.000000       0.000000               0.000000   \n",
       "25%       ...             0.000000       0.000000               0.000000   \n",
       "50%       ...             0.000000       0.000000               0.000000   \n",
       "75%       ...             0.000000       0.000000               1.000000   \n",
       "max       ...             1.000000       1.000000               1.000000   \n",
       "\n",
       "       city_10;puchong  city_10;seri kembangan  city_10;shah alam  \\\n",
       "count      2997.000000             2997.000000        2997.000000   \n",
       "mean          0.060394                0.024358           0.146813   \n",
       "std           0.238255                0.154183           0.353979   \n",
       "min           0.000000                0.000000           0.000000   \n",
       "25%           0.000000                0.000000           0.000000   \n",
       "50%           0.000000                0.000000           0.000000   \n",
       "75%           0.000000                0.000000           0.000000   \n",
       "max           1.000000                1.000000           1.000000   \n",
       "\n",
       "       city_12;kota kinabalu  city_13;kuching  city_14;kuala lumpur  \\\n",
       "count            2997.000000      2997.000000                2997.0   \n",
       "mean                0.045379         0.017351                   0.0   \n",
       "std                 0.208168         0.130596                   0.0   \n",
       "min                 0.000000         0.000000                   0.0   \n",
       "25%                 0.000000         0.000000                   0.0   \n",
       "50%                 0.000000         0.000000                   0.0   \n",
       "75%                 0.000000         0.000000                   0.0   \n",
       "max                 1.000000         1.000000                   0.0   \n",
       "\n",
       "       city_Others  \n",
       "count  2997.000000  \n",
       "mean      0.190858  \n",
       "std       0.393043  \n",
       "min       0.000000  \n",
       "25%       0.000000  \n",
       "50%       0.000000  \n",
       "75%       0.000000  \n",
       "max       1.000000  \n",
       "\n",
       "[8 rows x 28 columns]"
      ]
     },
     "execution_count": 40,
     "metadata": {},
     "output_type": "execute_result"
    }
   ],
   "source": [
    "df_new_g0.describe()"
   ]
  },
  {
   "cell_type": "code",
   "execution_count": 41,
   "metadata": {
    "collapsed": false
   },
   "outputs": [
    {
     "data": {
      "text/html": [
       "<div>\n",
       "<table border=\"1\" class=\"dataframe\">\n",
       "  <thead>\n",
       "    <tr style=\"text-align: right;\">\n",
       "      <th></th>\n",
       "      <th>brand_Asus</th>\n",
       "      <th>brand_Generic</th>\n",
       "      <th>brand_Huawei</th>\n",
       "      <th>brand_Leagoo</th>\n",
       "      <th>brand_Lenovo</th>\n",
       "      <th>brand_OPPO</th>\n",
       "      <th>brand_Others</th>\n",
       "      <th>brand_Samsung</th>\n",
       "      <th>brand_Sony</th>\n",
       "      <th>brand_Vivo</th>\n",
       "      <th>...</th>\n",
       "      <th>city_10;kajang</th>\n",
       "      <th>city_10;klang</th>\n",
       "      <th>city_10;petaling jaya</th>\n",
       "      <th>city_10;puchong</th>\n",
       "      <th>city_10;seri kembangan</th>\n",
       "      <th>city_10;shah alam</th>\n",
       "      <th>city_12;kota kinabalu</th>\n",
       "      <th>city_13;kuching</th>\n",
       "      <th>city_14;kuala lumpur</th>\n",
       "      <th>city_Others</th>\n",
       "    </tr>\n",
       "  </thead>\n",
       "  <tbody>\n",
       "    <tr>\n",
       "      <th>count</th>\n",
       "      <td>2328.0</td>\n",
       "      <td>2328.0</td>\n",
       "      <td>2328.0</td>\n",
       "      <td>2328.0</td>\n",
       "      <td>2328.0</td>\n",
       "      <td>2328.0</td>\n",
       "      <td>2328.0</td>\n",
       "      <td>2328.0</td>\n",
       "      <td>2328.0</td>\n",
       "      <td>2328.0</td>\n",
       "      <td>...</td>\n",
       "      <td>2328.000000</td>\n",
       "      <td>2328.000000</td>\n",
       "      <td>2328.000000</td>\n",
       "      <td>2328.000000</td>\n",
       "      <td>2328.000000</td>\n",
       "      <td>2328.000000</td>\n",
       "      <td>2328.000000</td>\n",
       "      <td>2328.000000</td>\n",
       "      <td>2328.000000</td>\n",
       "      <td>2328.000000</td>\n",
       "    </tr>\n",
       "    <tr>\n",
       "      <th>mean</th>\n",
       "      <td>0.0</td>\n",
       "      <td>0.0</td>\n",
       "      <td>0.0</td>\n",
       "      <td>0.0</td>\n",
       "      <td>0.0</td>\n",
       "      <td>0.0</td>\n",
       "      <td>0.0</td>\n",
       "      <td>1.0</td>\n",
       "      <td>0.0</td>\n",
       "      <td>0.0</td>\n",
       "      <td>...</td>\n",
       "      <td>0.023196</td>\n",
       "      <td>0.029639</td>\n",
       "      <td>0.160653</td>\n",
       "      <td>0.040378</td>\n",
       "      <td>0.015464</td>\n",
       "      <td>0.069158</td>\n",
       "      <td>0.036942</td>\n",
       "      <td>0.009450</td>\n",
       "      <td>0.359966</td>\n",
       "      <td>0.145619</td>\n",
       "    </tr>\n",
       "    <tr>\n",
       "      <th>std</th>\n",
       "      <td>0.0</td>\n",
       "      <td>0.0</td>\n",
       "      <td>0.0</td>\n",
       "      <td>0.0</td>\n",
       "      <td>0.0</td>\n",
       "      <td>0.0</td>\n",
       "      <td>0.0</td>\n",
       "      <td>0.0</td>\n",
       "      <td>0.0</td>\n",
       "      <td>0.0</td>\n",
       "      <td>...</td>\n",
       "      <td>0.150558</td>\n",
       "      <td>0.169626</td>\n",
       "      <td>0.367289</td>\n",
       "      <td>0.196886</td>\n",
       "      <td>0.123415</td>\n",
       "      <td>0.253777</td>\n",
       "      <td>0.188659</td>\n",
       "      <td>0.096772</td>\n",
       "      <td>0.480093</td>\n",
       "      <td>0.352799</td>\n",
       "    </tr>\n",
       "    <tr>\n",
       "      <th>min</th>\n",
       "      <td>0.0</td>\n",
       "      <td>0.0</td>\n",
       "      <td>0.0</td>\n",
       "      <td>0.0</td>\n",
       "      <td>0.0</td>\n",
       "      <td>0.0</td>\n",
       "      <td>0.0</td>\n",
       "      <td>1.0</td>\n",
       "      <td>0.0</td>\n",
       "      <td>0.0</td>\n",
       "      <td>...</td>\n",
       "      <td>0.000000</td>\n",
       "      <td>0.000000</td>\n",
       "      <td>0.000000</td>\n",
       "      <td>0.000000</td>\n",
       "      <td>0.000000</td>\n",
       "      <td>0.000000</td>\n",
       "      <td>0.000000</td>\n",
       "      <td>0.000000</td>\n",
       "      <td>0.000000</td>\n",
       "      <td>0.000000</td>\n",
       "    </tr>\n",
       "    <tr>\n",
       "      <th>25%</th>\n",
       "      <td>0.0</td>\n",
       "      <td>0.0</td>\n",
       "      <td>0.0</td>\n",
       "      <td>0.0</td>\n",
       "      <td>0.0</td>\n",
       "      <td>0.0</td>\n",
       "      <td>0.0</td>\n",
       "      <td>1.0</td>\n",
       "      <td>0.0</td>\n",
       "      <td>0.0</td>\n",
       "      <td>...</td>\n",
       "      <td>0.000000</td>\n",
       "      <td>0.000000</td>\n",
       "      <td>0.000000</td>\n",
       "      <td>0.000000</td>\n",
       "      <td>0.000000</td>\n",
       "      <td>0.000000</td>\n",
       "      <td>0.000000</td>\n",
       "      <td>0.000000</td>\n",
       "      <td>0.000000</td>\n",
       "      <td>0.000000</td>\n",
       "    </tr>\n",
       "    <tr>\n",
       "      <th>50%</th>\n",
       "      <td>0.0</td>\n",
       "      <td>0.0</td>\n",
       "      <td>0.0</td>\n",
       "      <td>0.0</td>\n",
       "      <td>0.0</td>\n",
       "      <td>0.0</td>\n",
       "      <td>0.0</td>\n",
       "      <td>1.0</td>\n",
       "      <td>0.0</td>\n",
       "      <td>0.0</td>\n",
       "      <td>...</td>\n",
       "      <td>0.000000</td>\n",
       "      <td>0.000000</td>\n",
       "      <td>0.000000</td>\n",
       "      <td>0.000000</td>\n",
       "      <td>0.000000</td>\n",
       "      <td>0.000000</td>\n",
       "      <td>0.000000</td>\n",
       "      <td>0.000000</td>\n",
       "      <td>0.000000</td>\n",
       "      <td>0.000000</td>\n",
       "    </tr>\n",
       "    <tr>\n",
       "      <th>75%</th>\n",
       "      <td>0.0</td>\n",
       "      <td>0.0</td>\n",
       "      <td>0.0</td>\n",
       "      <td>0.0</td>\n",
       "      <td>0.0</td>\n",
       "      <td>0.0</td>\n",
       "      <td>0.0</td>\n",
       "      <td>1.0</td>\n",
       "      <td>0.0</td>\n",
       "      <td>0.0</td>\n",
       "      <td>...</td>\n",
       "      <td>0.000000</td>\n",
       "      <td>0.000000</td>\n",
       "      <td>0.000000</td>\n",
       "      <td>0.000000</td>\n",
       "      <td>0.000000</td>\n",
       "      <td>0.000000</td>\n",
       "      <td>0.000000</td>\n",
       "      <td>0.000000</td>\n",
       "      <td>1.000000</td>\n",
       "      <td>0.000000</td>\n",
       "    </tr>\n",
       "    <tr>\n",
       "      <th>max</th>\n",
       "      <td>0.0</td>\n",
       "      <td>0.0</td>\n",
       "      <td>0.0</td>\n",
       "      <td>0.0</td>\n",
       "      <td>0.0</td>\n",
       "      <td>0.0</td>\n",
       "      <td>0.0</td>\n",
       "      <td>1.0</td>\n",
       "      <td>0.0</td>\n",
       "      <td>0.0</td>\n",
       "      <td>...</td>\n",
       "      <td>1.000000</td>\n",
       "      <td>1.000000</td>\n",
       "      <td>1.000000</td>\n",
       "      <td>1.000000</td>\n",
       "      <td>1.000000</td>\n",
       "      <td>1.000000</td>\n",
       "      <td>1.000000</td>\n",
       "      <td>1.000000</td>\n",
       "      <td>1.000000</td>\n",
       "      <td>1.000000</td>\n",
       "    </tr>\n",
       "  </tbody>\n",
       "</table>\n",
       "<p>8 rows × 28 columns</p>\n",
       "</div>"
      ],
      "text/plain": [
       "       brand_Asus  brand_Generic  brand_Huawei  brand_Leagoo  brand_Lenovo  \\\n",
       "count      2328.0         2328.0        2328.0        2328.0        2328.0   \n",
       "mean          0.0            0.0           0.0           0.0           0.0   \n",
       "std           0.0            0.0           0.0           0.0           0.0   \n",
       "min           0.0            0.0           0.0           0.0           0.0   \n",
       "25%           0.0            0.0           0.0           0.0           0.0   \n",
       "50%           0.0            0.0           0.0           0.0           0.0   \n",
       "75%           0.0            0.0           0.0           0.0           0.0   \n",
       "max           0.0            0.0           0.0           0.0           0.0   \n",
       "\n",
       "       brand_OPPO  brand_Others  brand_Samsung  brand_Sony  brand_Vivo  \\\n",
       "count      2328.0        2328.0         2328.0      2328.0      2328.0   \n",
       "mean          0.0           0.0            1.0         0.0         0.0   \n",
       "std           0.0           0.0            0.0         0.0         0.0   \n",
       "min           0.0           0.0            1.0         0.0         0.0   \n",
       "25%           0.0           0.0            1.0         0.0         0.0   \n",
       "50%           0.0           0.0            1.0         0.0         0.0   \n",
       "75%           0.0           0.0            1.0         0.0         0.0   \n",
       "max           0.0           0.0            1.0         0.0         0.0   \n",
       "\n",
       "          ...       city_10;kajang  city_10;klang  city_10;petaling jaya  \\\n",
       "count     ...          2328.000000    2328.000000            2328.000000   \n",
       "mean      ...             0.023196       0.029639               0.160653   \n",
       "std       ...             0.150558       0.169626               0.367289   \n",
       "min       ...             0.000000       0.000000               0.000000   \n",
       "25%       ...             0.000000       0.000000               0.000000   \n",
       "50%       ...             0.000000       0.000000               0.000000   \n",
       "75%       ...             0.000000       0.000000               0.000000   \n",
       "max       ...             1.000000       1.000000               1.000000   \n",
       "\n",
       "       city_10;puchong  city_10;seri kembangan  city_10;shah alam  \\\n",
       "count      2328.000000             2328.000000        2328.000000   \n",
       "mean          0.040378                0.015464           0.069158   \n",
       "std           0.196886                0.123415           0.253777   \n",
       "min           0.000000                0.000000           0.000000   \n",
       "25%           0.000000                0.000000           0.000000   \n",
       "50%           0.000000                0.000000           0.000000   \n",
       "75%           0.000000                0.000000           0.000000   \n",
       "max           1.000000                1.000000           1.000000   \n",
       "\n",
       "       city_12;kota kinabalu  city_13;kuching  city_14;kuala lumpur  \\\n",
       "count            2328.000000      2328.000000           2328.000000   \n",
       "mean                0.036942         0.009450              0.359966   \n",
       "std                 0.188659         0.096772              0.480093   \n",
       "min                 0.000000         0.000000              0.000000   \n",
       "25%                 0.000000         0.000000              0.000000   \n",
       "50%                 0.000000         0.000000              0.000000   \n",
       "75%                 0.000000         0.000000              1.000000   \n",
       "max                 1.000000         1.000000              1.000000   \n",
       "\n",
       "       city_Others  \n",
       "count  2328.000000  \n",
       "mean      0.145619  \n",
       "std       0.352799  \n",
       "min       0.000000  \n",
       "25%       0.000000  \n",
       "50%       0.000000  \n",
       "75%       0.000000  \n",
       "max       1.000000  \n",
       "\n",
       "[8 rows x 28 columns]"
      ]
     },
     "execution_count": 41,
     "metadata": {},
     "output_type": "execute_result"
    }
   ],
   "source": [
    "df_new_g1.describe()"
   ]
  },
  {
   "cell_type": "code",
   "execution_count": 42,
   "metadata": {
    "collapsed": false
   },
   "outputs": [
    {
     "data": {
      "text/html": [
       "<div>\n",
       "<table border=\"1\" class=\"dataframe\">\n",
       "  <thead>\n",
       "    <tr style=\"text-align: right;\">\n",
       "      <th></th>\n",
       "      <th>brand_Asus</th>\n",
       "      <th>brand_Generic</th>\n",
       "      <th>brand_Huawei</th>\n",
       "      <th>brand_Leagoo</th>\n",
       "      <th>brand_Lenovo</th>\n",
       "      <th>brand_OPPO</th>\n",
       "      <th>brand_Others</th>\n",
       "      <th>brand_Samsung</th>\n",
       "      <th>brand_Sony</th>\n",
       "      <th>brand_Vivo</th>\n",
       "      <th>...</th>\n",
       "      <th>city_10;kajang</th>\n",
       "      <th>city_10;klang</th>\n",
       "      <th>city_10;petaling jaya</th>\n",
       "      <th>city_10;puchong</th>\n",
       "      <th>city_10;seri kembangan</th>\n",
       "      <th>city_10;shah alam</th>\n",
       "      <th>city_12;kota kinabalu</th>\n",
       "      <th>city_13;kuching</th>\n",
       "      <th>city_14;kuala lumpur</th>\n",
       "      <th>city_Others</th>\n",
       "    </tr>\n",
       "  </thead>\n",
       "  <tbody>\n",
       "    <tr>\n",
       "      <th>count</th>\n",
       "      <td>1872.000000</td>\n",
       "      <td>1872.000000</td>\n",
       "      <td>1872.000000</td>\n",
       "      <td>1872.000000</td>\n",
       "      <td>1872.000000</td>\n",
       "      <td>1872.000000</td>\n",
       "      <td>1872.000000</td>\n",
       "      <td>1872.0</td>\n",
       "      <td>1872.000000</td>\n",
       "      <td>1872.000000</td>\n",
       "      <td>...</td>\n",
       "      <td>1872.0</td>\n",
       "      <td>1872.0</td>\n",
       "      <td>1872.0</td>\n",
       "      <td>1872.0</td>\n",
       "      <td>1872.0</td>\n",
       "      <td>1872.0</td>\n",
       "      <td>1872.0</td>\n",
       "      <td>1872.0</td>\n",
       "      <td>1872.0</td>\n",
       "      <td>1872.0</td>\n",
       "    </tr>\n",
       "    <tr>\n",
       "      <th>mean</th>\n",
       "      <td>0.103098</td>\n",
       "      <td>0.057158</td>\n",
       "      <td>0.075321</td>\n",
       "      <td>0.041667</td>\n",
       "      <td>0.299679</td>\n",
       "      <td>0.080662</td>\n",
       "      <td>0.135684</td>\n",
       "      <td>0.0</td>\n",
       "      <td>0.053953</td>\n",
       "      <td>0.059295</td>\n",
       "      <td>...</td>\n",
       "      <td>0.0</td>\n",
       "      <td>0.0</td>\n",
       "      <td>0.0</td>\n",
       "      <td>0.0</td>\n",
       "      <td>0.0</td>\n",
       "      <td>0.0</td>\n",
       "      <td>0.0</td>\n",
       "      <td>0.0</td>\n",
       "      <td>1.0</td>\n",
       "      <td>0.0</td>\n",
       "    </tr>\n",
       "    <tr>\n",
       "      <th>std</th>\n",
       "      <td>0.304168</td>\n",
       "      <td>0.232207</td>\n",
       "      <td>0.263978</td>\n",
       "      <td>0.199880</td>\n",
       "      <td>0.458240</td>\n",
       "      <td>0.272389</td>\n",
       "      <td>0.342544</td>\n",
       "      <td>0.0</td>\n",
       "      <td>0.225985</td>\n",
       "      <td>0.236239</td>\n",
       "      <td>...</td>\n",
       "      <td>0.0</td>\n",
       "      <td>0.0</td>\n",
       "      <td>0.0</td>\n",
       "      <td>0.0</td>\n",
       "      <td>0.0</td>\n",
       "      <td>0.0</td>\n",
       "      <td>0.0</td>\n",
       "      <td>0.0</td>\n",
       "      <td>0.0</td>\n",
       "      <td>0.0</td>\n",
       "    </tr>\n",
       "    <tr>\n",
       "      <th>min</th>\n",
       "      <td>0.000000</td>\n",
       "      <td>0.000000</td>\n",
       "      <td>0.000000</td>\n",
       "      <td>0.000000</td>\n",
       "      <td>0.000000</td>\n",
       "      <td>0.000000</td>\n",
       "      <td>0.000000</td>\n",
       "      <td>0.0</td>\n",
       "      <td>0.000000</td>\n",
       "      <td>0.000000</td>\n",
       "      <td>...</td>\n",
       "      <td>0.0</td>\n",
       "      <td>0.0</td>\n",
       "      <td>0.0</td>\n",
       "      <td>0.0</td>\n",
       "      <td>0.0</td>\n",
       "      <td>0.0</td>\n",
       "      <td>0.0</td>\n",
       "      <td>0.0</td>\n",
       "      <td>1.0</td>\n",
       "      <td>0.0</td>\n",
       "    </tr>\n",
       "    <tr>\n",
       "      <th>25%</th>\n",
       "      <td>0.000000</td>\n",
       "      <td>0.000000</td>\n",
       "      <td>0.000000</td>\n",
       "      <td>0.000000</td>\n",
       "      <td>0.000000</td>\n",
       "      <td>0.000000</td>\n",
       "      <td>0.000000</td>\n",
       "      <td>0.0</td>\n",
       "      <td>0.000000</td>\n",
       "      <td>0.000000</td>\n",
       "      <td>...</td>\n",
       "      <td>0.0</td>\n",
       "      <td>0.0</td>\n",
       "      <td>0.0</td>\n",
       "      <td>0.0</td>\n",
       "      <td>0.0</td>\n",
       "      <td>0.0</td>\n",
       "      <td>0.0</td>\n",
       "      <td>0.0</td>\n",
       "      <td>1.0</td>\n",
       "      <td>0.0</td>\n",
       "    </tr>\n",
       "    <tr>\n",
       "      <th>50%</th>\n",
       "      <td>0.000000</td>\n",
       "      <td>0.000000</td>\n",
       "      <td>0.000000</td>\n",
       "      <td>0.000000</td>\n",
       "      <td>0.000000</td>\n",
       "      <td>0.000000</td>\n",
       "      <td>0.000000</td>\n",
       "      <td>0.0</td>\n",
       "      <td>0.000000</td>\n",
       "      <td>0.000000</td>\n",
       "      <td>...</td>\n",
       "      <td>0.0</td>\n",
       "      <td>0.0</td>\n",
       "      <td>0.0</td>\n",
       "      <td>0.0</td>\n",
       "      <td>0.0</td>\n",
       "      <td>0.0</td>\n",
       "      <td>0.0</td>\n",
       "      <td>0.0</td>\n",
       "      <td>1.0</td>\n",
       "      <td>0.0</td>\n",
       "    </tr>\n",
       "    <tr>\n",
       "      <th>75%</th>\n",
       "      <td>0.000000</td>\n",
       "      <td>0.000000</td>\n",
       "      <td>0.000000</td>\n",
       "      <td>0.000000</td>\n",
       "      <td>1.000000</td>\n",
       "      <td>0.000000</td>\n",
       "      <td>0.000000</td>\n",
       "      <td>0.0</td>\n",
       "      <td>0.000000</td>\n",
       "      <td>0.000000</td>\n",
       "      <td>...</td>\n",
       "      <td>0.0</td>\n",
       "      <td>0.0</td>\n",
       "      <td>0.0</td>\n",
       "      <td>0.0</td>\n",
       "      <td>0.0</td>\n",
       "      <td>0.0</td>\n",
       "      <td>0.0</td>\n",
       "      <td>0.0</td>\n",
       "      <td>1.0</td>\n",
       "      <td>0.0</td>\n",
       "    </tr>\n",
       "    <tr>\n",
       "      <th>max</th>\n",
       "      <td>1.000000</td>\n",
       "      <td>1.000000</td>\n",
       "      <td>1.000000</td>\n",
       "      <td>1.000000</td>\n",
       "      <td>1.000000</td>\n",
       "      <td>1.000000</td>\n",
       "      <td>1.000000</td>\n",
       "      <td>0.0</td>\n",
       "      <td>1.000000</td>\n",
       "      <td>1.000000</td>\n",
       "      <td>...</td>\n",
       "      <td>0.0</td>\n",
       "      <td>0.0</td>\n",
       "      <td>0.0</td>\n",
       "      <td>0.0</td>\n",
       "      <td>0.0</td>\n",
       "      <td>0.0</td>\n",
       "      <td>0.0</td>\n",
       "      <td>0.0</td>\n",
       "      <td>1.0</td>\n",
       "      <td>0.0</td>\n",
       "    </tr>\n",
       "  </tbody>\n",
       "</table>\n",
       "<p>8 rows × 28 columns</p>\n",
       "</div>"
      ],
      "text/plain": [
       "        brand_Asus  brand_Generic  brand_Huawei  brand_Leagoo  brand_Lenovo  \\\n",
       "count  1872.000000    1872.000000   1872.000000   1872.000000   1872.000000   \n",
       "mean      0.103098       0.057158      0.075321      0.041667      0.299679   \n",
       "std       0.304168       0.232207      0.263978      0.199880      0.458240   \n",
       "min       0.000000       0.000000      0.000000      0.000000      0.000000   \n",
       "25%       0.000000       0.000000      0.000000      0.000000      0.000000   \n",
       "50%       0.000000       0.000000      0.000000      0.000000      0.000000   \n",
       "75%       0.000000       0.000000      0.000000      0.000000      1.000000   \n",
       "max       1.000000       1.000000      1.000000      1.000000      1.000000   \n",
       "\n",
       "        brand_OPPO  brand_Others  brand_Samsung   brand_Sony   brand_Vivo  \\\n",
       "count  1872.000000   1872.000000         1872.0  1872.000000  1872.000000   \n",
       "mean      0.080662      0.135684            0.0     0.053953     0.059295   \n",
       "std       0.272389      0.342544            0.0     0.225985     0.236239   \n",
       "min       0.000000      0.000000            0.0     0.000000     0.000000   \n",
       "25%       0.000000      0.000000            0.0     0.000000     0.000000   \n",
       "50%       0.000000      0.000000            0.0     0.000000     0.000000   \n",
       "75%       0.000000      0.000000            0.0     0.000000     0.000000   \n",
       "max       1.000000      1.000000            0.0     1.000000     1.000000   \n",
       "\n",
       "          ...       city_10;kajang  city_10;klang  city_10;petaling jaya  \\\n",
       "count     ...               1872.0         1872.0                 1872.0   \n",
       "mean      ...                  0.0            0.0                    0.0   \n",
       "std       ...                  0.0            0.0                    0.0   \n",
       "min       ...                  0.0            0.0                    0.0   \n",
       "25%       ...                  0.0            0.0                    0.0   \n",
       "50%       ...                  0.0            0.0                    0.0   \n",
       "75%       ...                  0.0            0.0                    0.0   \n",
       "max       ...                  0.0            0.0                    0.0   \n",
       "\n",
       "       city_10;puchong  city_10;seri kembangan  city_10;shah alam  \\\n",
       "count           1872.0                  1872.0             1872.0   \n",
       "mean               0.0                     0.0                0.0   \n",
       "std                0.0                     0.0                0.0   \n",
       "min                0.0                     0.0                0.0   \n",
       "25%                0.0                     0.0                0.0   \n",
       "50%                0.0                     0.0                0.0   \n",
       "75%                0.0                     0.0                0.0   \n",
       "max                0.0                     0.0                0.0   \n",
       "\n",
       "       city_12;kota kinabalu  city_13;kuching  city_14;kuala lumpur  \\\n",
       "count                 1872.0           1872.0                1872.0   \n",
       "mean                     0.0              0.0                   1.0   \n",
       "std                      0.0              0.0                   0.0   \n",
       "min                      0.0              0.0                   1.0   \n",
       "25%                      0.0              0.0                   1.0   \n",
       "50%                      0.0              0.0                   1.0   \n",
       "75%                      0.0              0.0                   1.0   \n",
       "max                      0.0              0.0                   1.0   \n",
       "\n",
       "       city_Others  \n",
       "count       1872.0  \n",
       "mean           0.0  \n",
       "std            0.0  \n",
       "min            0.0  \n",
       "25%            0.0  \n",
       "50%            0.0  \n",
       "75%            0.0  \n",
       "max            0.0  \n",
       "\n",
       "[8 rows x 28 columns]"
      ]
     },
     "execution_count": 42,
     "metadata": {},
     "output_type": "execute_result"
    }
   ],
   "source": [
    "df_new_g2.describe()"
   ]
  },
  {
   "cell_type": "markdown",
   "metadata": {},
   "source": [
    "### Sort by carousell_uniques for each group and compare the structure of three groups"
   ]
  },
  {
   "cell_type": "code",
   "execution_count": 43,
   "metadata": {
    "collapsed": true
   },
   "outputs": [],
   "source": [
    "df0 = du.ix[g0]\n",
    "df1 = du.ix[g1]\n",
    "df2 = du.ix[g2]"
   ]
  },
  {
   "cell_type": "code",
   "execution_count": 44,
   "metadata": {
    "collapsed": false
   },
   "outputs": [
    {
     "name": "stderr",
     "output_type": "stream",
     "text": [
      "/Users/carol/anaconda/lib/python2.7/site-packages/ipykernel/__main__.py:2: FutureWarning: sort(columns=....) is deprecated, use sort_values(by=.....)\n",
      "  from ipykernel import kernelapp as app\n"
     ]
    },
    {
     "data": {
      "text/html": [
       "<div>\n",
       "<table border=\"1\" class=\"dataframe\">\n",
       "  <thead>\n",
       "    <tr style=\"text-align: right;\">\n",
       "      <th></th>\n",
       "      <th></th>\n",
       "      <th>carousell_uniques</th>\n",
       "      <th>total_uniques</th>\n",
       "    </tr>\n",
       "    <tr>\n",
       "      <th>brand</th>\n",
       "      <th>city</th>\n",
       "      <th></th>\n",
       "      <th></th>\n",
       "    </tr>\n",
       "  </thead>\n",
       "  <tbody>\n",
       "    <tr>\n",
       "      <th>Lenovo</th>\n",
       "      <th>10;petaling jaya</th>\n",
       "      <td>394</td>\n",
       "      <td>3532</td>\n",
       "    </tr>\n",
       "    <tr>\n",
       "      <th>Generic</th>\n",
       "      <th>10;petaling jaya</th>\n",
       "      <td>195</td>\n",
       "      <td>1563</td>\n",
       "    </tr>\n",
       "    <tr>\n",
       "      <th>Lenovo</th>\n",
       "      <th>10;shah alam</th>\n",
       "      <td>173</td>\n",
       "      <td>1076</td>\n",
       "    </tr>\n",
       "    <tr>\n",
       "      <th>Asus</th>\n",
       "      <th>10;petaling jaya</th>\n",
       "      <td>115</td>\n",
       "      <td>870</td>\n",
       "    </tr>\n",
       "    <tr>\n",
       "      <th>Xiaomi</th>\n",
       "      <th>10;petaling jaya</th>\n",
       "      <td>101</td>\n",
       "      <td>362</td>\n",
       "    </tr>\n",
       "    <tr>\n",
       "      <th>Lenovo</th>\n",
       "      <th>10;puchong</th>\n",
       "      <td>78</td>\n",
       "      <td>333</td>\n",
       "    </tr>\n",
       "    <tr>\n",
       "      <th>OPPO</th>\n",
       "      <th>10;petaling jaya</th>\n",
       "      <td>76</td>\n",
       "      <td>349</td>\n",
       "    </tr>\n",
       "    <tr>\n",
       "      <th>Generic</th>\n",
       "      <th>10;shah alam</th>\n",
       "      <td>65</td>\n",
       "      <td>435</td>\n",
       "    </tr>\n",
       "    <tr>\n",
       "      <th>Asus</th>\n",
       "      <th>10;shah alam</th>\n",
       "      <td>58</td>\n",
       "      <td>296</td>\n",
       "    </tr>\n",
       "    <tr>\n",
       "      <th>Vivo</th>\n",
       "      <th>10;petaling jaya</th>\n",
       "      <td>54</td>\n",
       "      <td>290</td>\n",
       "    </tr>\n",
       "    <tr>\n",
       "      <th>Lenovo</th>\n",
       "      <th>10;klang</th>\n",
       "      <td>52</td>\n",
       "      <td>182</td>\n",
       "    </tr>\n",
       "    <tr>\n",
       "      <th>Xiaomi</th>\n",
       "      <th>10;shah alam</th>\n",
       "      <td>43</td>\n",
       "      <td>134</td>\n",
       "    </tr>\n",
       "    <tr>\n",
       "      <th>Huawei</th>\n",
       "      <th>10;petaling jaya</th>\n",
       "      <td>39</td>\n",
       "      <td>122</td>\n",
       "    </tr>\n",
       "    <tr>\n",
       "      <th>OPPO</th>\n",
       "      <th>10;shah alam</th>\n",
       "      <td>37</td>\n",
       "      <td>95</td>\n",
       "    </tr>\n",
       "    <tr>\n",
       "      <th>Lenovo</th>\n",
       "      <th>10;kajang</th>\n",
       "      <td>34</td>\n",
       "      <td>87</td>\n",
       "    </tr>\n",
       "    <tr>\n",
       "      <th>Xiaomi</th>\n",
       "      <th>01;johor bahru</th>\n",
       "      <td>33</td>\n",
       "      <td>52</td>\n",
       "    </tr>\n",
       "    <tr>\n",
       "      <th>Lenovo</th>\n",
       "      <th>12;kota kinabalu</th>\n",
       "      <td>29</td>\n",
       "      <td>64</td>\n",
       "    </tr>\n",
       "    <tr>\n",
       "      <th>Asus</th>\n",
       "      <th>12;kota kinabalu</th>\n",
       "      <td>29</td>\n",
       "      <td>60</td>\n",
       "    </tr>\n",
       "    <tr>\n",
       "      <th>Lenovo</th>\n",
       "      <th>10;seri kembangan</th>\n",
       "      <td>27</td>\n",
       "      <td>61</td>\n",
       "    </tr>\n",
       "    <tr>\n",
       "      <th>Vivo</th>\n",
       "      <th>10;shah alam</th>\n",
       "      <td>27</td>\n",
       "      <td>93</td>\n",
       "    </tr>\n",
       "    <tr>\n",
       "      <th>Generic</th>\n",
       "      <th>10;puchong</th>\n",
       "      <td>27</td>\n",
       "      <td>110</td>\n",
       "    </tr>\n",
       "    <tr>\n",
       "      <th>Xiaomi</th>\n",
       "      <th>10;batu caves</th>\n",
       "      <td>26</td>\n",
       "      <td>48</td>\n",
       "    </tr>\n",
       "    <tr>\n",
       "      <th>Asus</th>\n",
       "      <th>10;puchong</th>\n",
       "      <td>26</td>\n",
       "      <td>89</td>\n",
       "    </tr>\n",
       "    <tr>\n",
       "      <th>Huawei</th>\n",
       "      <th>10;shah alam</th>\n",
       "      <td>25</td>\n",
       "      <td>40</td>\n",
       "    </tr>\n",
       "    <tr>\n",
       "      <th>Xiaomi</th>\n",
       "      <th>13;kuching</th>\n",
       "      <td>24</td>\n",
       "      <td>33</td>\n",
       "    </tr>\n",
       "    <tr>\n",
       "      <th>Generic</th>\n",
       "      <th>10;klang</th>\n",
       "      <td>24</td>\n",
       "      <td>114</td>\n",
       "    </tr>\n",
       "    <tr>\n",
       "      <th>Leagoo</th>\n",
       "      <th>10;petaling jaya</th>\n",
       "      <td>24</td>\n",
       "      <td>55</td>\n",
       "    </tr>\n",
       "    <tr>\n",
       "      <th rowspan=\"2\" valign=\"top\">Generic</th>\n",
       "      <th>12;kota kinabalu</th>\n",
       "      <td>24</td>\n",
       "      <td>75</td>\n",
       "    </tr>\n",
       "    <tr>\n",
       "      <th>10;batu caves</th>\n",
       "      <td>23</td>\n",
       "      <td>70</td>\n",
       "    </tr>\n",
       "    <tr>\n",
       "      <th>Sony</th>\n",
       "      <th>10;petaling jaya</th>\n",
       "      <td>23</td>\n",
       "      <td>53</td>\n",
       "    </tr>\n",
       "    <tr>\n",
       "      <th>...</th>\n",
       "      <th>...</th>\n",
       "      <td>...</td>\n",
       "      <td>...</td>\n",
       "    </tr>\n",
       "    <tr>\n",
       "      <th rowspan=\"2\" valign=\"top\">OPPO</th>\n",
       "      <th>10;banting</th>\n",
       "      <td>1</td>\n",
       "      <td>1</td>\n",
       "    </tr>\n",
       "    <tr>\n",
       "      <th>08;bandar baru sri klebang</th>\n",
       "      <td>1</td>\n",
       "      <td>1</td>\n",
       "    </tr>\n",
       "    <tr>\n",
       "      <th>Huawei</th>\n",
       "      <th>16;putrajaya</th>\n",
       "      <td>1</td>\n",
       "      <td>1</td>\n",
       "    </tr>\n",
       "    <tr>\n",
       "      <th>Intex</th>\n",
       "      <th>10;shah alam</th>\n",
       "      <td>1</td>\n",
       "      <td>1</td>\n",
       "    </tr>\n",
       "    <tr>\n",
       "      <th>Landvo</th>\n",
       "      <th>10;petaling jaya</th>\n",
       "      <td>1</td>\n",
       "      <td>1</td>\n",
       "    </tr>\n",
       "    <tr>\n",
       "      <th>Lava</th>\n",
       "      <th>10;klang</th>\n",
       "      <td>1</td>\n",
       "      <td>2</td>\n",
       "    </tr>\n",
       "    <tr>\n",
       "      <th rowspan=\"5\" valign=\"top\">Leagoo</th>\n",
       "      <th>03;air berdang ipoh</th>\n",
       "      <td>1</td>\n",
       "      <td>1</td>\n",
       "    </tr>\n",
       "    <tr>\n",
       "      <th>05;seremban</th>\n",
       "      <td>1</td>\n",
       "      <td>1</td>\n",
       "    </tr>\n",
       "    <tr>\n",
       "      <th>08;ipoh</th>\n",
       "      <td>1</td>\n",
       "      <td>1</td>\n",
       "    </tr>\n",
       "    <tr>\n",
       "      <th>10;bandar utama</th>\n",
       "      <td>1</td>\n",
       "      <td>1</td>\n",
       "    </tr>\n",
       "    <tr>\n",
       "      <th>10;kajang</th>\n",
       "      <td>1</td>\n",
       "      <td>1</td>\n",
       "    </tr>\n",
       "    <tr>\n",
       "      <th rowspan=\"9\" valign=\"top\">Lenovo</th>\n",
       "      <th>01;universiti teknologi malaysia</th>\n",
       "      <td>1</td>\n",
       "      <td>1</td>\n",
       "    </tr>\n",
       "    <tr>\n",
       "      <th>03;bangunan yakin</th>\n",
       "      <td>1</td>\n",
       "      <td>1</td>\n",
       "    </tr>\n",
       "    <tr>\n",
       "      <th>03;kampung alor bakat</th>\n",
       "      <td>1</td>\n",
       "      <td>1</td>\n",
       "    </tr>\n",
       "    <tr>\n",
       "      <th>06;bentong</th>\n",
       "      <td>1</td>\n",
       "      <td>1</td>\n",
       "    </tr>\n",
       "    <tr>\n",
       "      <th>07;mengkuang titi</th>\n",
       "      <td>1</td>\n",
       "      <td>1</td>\n",
       "    </tr>\n",
       "    <tr>\n",
       "      <th>08;antek avenue</th>\n",
       "      <td>1</td>\n",
       "      <td>1</td>\n",
       "    </tr>\n",
       "    <tr>\n",
       "      <th>12;beaufort</th>\n",
       "      <td>1</td>\n",
       "      <td>1</td>\n",
       "    </tr>\n",
       "    <tr>\n",
       "      <th>13;sibu</th>\n",
       "      <td>1</td>\n",
       "      <td>1</td>\n",
       "    </tr>\n",
       "    <tr>\n",
       "      <th>14;batu settlement</th>\n",
       "      <td>1</td>\n",
       "      <td>1</td>\n",
       "    </tr>\n",
       "    <tr>\n",
       "      <th rowspan=\"3\" valign=\"top\">Meizu</th>\n",
       "      <th>05;seremban</th>\n",
       "      <td>1</td>\n",
       "      <td>1</td>\n",
       "    </tr>\n",
       "    <tr>\n",
       "      <th>10;seri kembangan</th>\n",
       "      <td>1</td>\n",
       "      <td>1</td>\n",
       "    </tr>\n",
       "    <tr>\n",
       "      <th>13;kuching</th>\n",
       "      <td>1</td>\n",
       "      <td>1</td>\n",
       "    </tr>\n",
       "    <tr>\n",
       "      <th>Motorola</th>\n",
       "      <th>11;kampong kuala kemaman</th>\n",
       "      <td>1</td>\n",
       "      <td>1</td>\n",
       "    </tr>\n",
       "    <tr>\n",
       "      <th rowspan=\"5\" valign=\"top\">OPPO</th>\n",
       "      <th>02;alor setar</th>\n",
       "      <td>1</td>\n",
       "      <td>1</td>\n",
       "    </tr>\n",
       "    <tr>\n",
       "      <th>02;bedong</th>\n",
       "      <td>1</td>\n",
       "      <td>1</td>\n",
       "    </tr>\n",
       "    <tr>\n",
       "      <th>03;air berdang ipoh</th>\n",
       "      <td>1</td>\n",
       "      <td>1</td>\n",
       "    </tr>\n",
       "    <tr>\n",
       "      <th>05;seremban</th>\n",
       "      <td>1</td>\n",
       "      <td>1</td>\n",
       "    </tr>\n",
       "    <tr>\n",
       "      <th>07;bukit mertajam</th>\n",
       "      <td>1</td>\n",
       "      <td>1</td>\n",
       "    </tr>\n",
       "    <tr>\n",
       "      <th>Lenovo</th>\n",
       "      <th>07;lebuh tenggiri</th>\n",
       "      <td>1</td>\n",
       "      <td>1</td>\n",
       "    </tr>\n",
       "  </tbody>\n",
       "</table>\n",
       "<p>472 rows × 2 columns</p>\n",
       "</div>"
      ],
      "text/plain": [
       "                                           carousell_uniques  total_uniques\n",
       "brand    city                                                              \n",
       "Lenovo   10;petaling jaya                                394           3532\n",
       "Generic  10;petaling jaya                                195           1563\n",
       "Lenovo   10;shah alam                                    173           1076\n",
       "Asus     10;petaling jaya                                115            870\n",
       "Xiaomi   10;petaling jaya                                101            362\n",
       "Lenovo   10;puchong                                       78            333\n",
       "OPPO     10;petaling jaya                                 76            349\n",
       "Generic  10;shah alam                                     65            435\n",
       "Asus     10;shah alam                                     58            296\n",
       "Vivo     10;petaling jaya                                 54            290\n",
       "Lenovo   10;klang                                         52            182\n",
       "Xiaomi   10;shah alam                                     43            134\n",
       "Huawei   10;petaling jaya                                 39            122\n",
       "OPPO     10;shah alam                                     37             95\n",
       "Lenovo   10;kajang                                        34             87\n",
       "Xiaomi   01;johor bahru                                   33             52\n",
       "Lenovo   12;kota kinabalu                                 29             64\n",
       "Asus     12;kota kinabalu                                 29             60\n",
       "Lenovo   10;seri kembangan                                27             61\n",
       "Vivo     10;shah alam                                     27             93\n",
       "Generic  10;puchong                                       27            110\n",
       "Xiaomi   10;batu caves                                    26             48\n",
       "Asus     10;puchong                                       26             89\n",
       "Huawei   10;shah alam                                     25             40\n",
       "Xiaomi   13;kuching                                       24             33\n",
       "Generic  10;klang                                         24            114\n",
       "Leagoo   10;petaling jaya                                 24             55\n",
       "Generic  12;kota kinabalu                                 24             75\n",
       "         10;batu caves                                    23             70\n",
       "Sony     10;petaling jaya                                 23             53\n",
       "...                                                      ...            ...\n",
       "OPPO     10;banting                                        1              1\n",
       "         08;bandar baru sri klebang                        1              1\n",
       "Huawei   16;putrajaya                                      1              1\n",
       "Intex    10;shah alam                                      1              1\n",
       "Landvo   10;petaling jaya                                  1              1\n",
       "Lava     10;klang                                          1              2\n",
       "Leagoo   03;air berdang ipoh                               1              1\n",
       "         05;seremban                                       1              1\n",
       "         08;ipoh                                           1              1\n",
       "         10;bandar utama                                   1              1\n",
       "         10;kajang                                         1              1\n",
       "Lenovo   01;universiti teknologi malaysia                  1              1\n",
       "         03;bangunan yakin                                 1              1\n",
       "         03;kampung alor bakat                             1              1\n",
       "         06;bentong                                        1              1\n",
       "         07;mengkuang titi                                 1              1\n",
       "         08;antek avenue                                   1              1\n",
       "         12;beaufort                                       1              1\n",
       "         13;sibu                                           1              1\n",
       "         14;batu settlement                                1              1\n",
       "Meizu    05;seremban                                       1              1\n",
       "         10;seri kembangan                                 1              1\n",
       "         13;kuching                                        1              1\n",
       "Motorola 11;kampong kuala kemaman                          1              1\n",
       "OPPO     02;alor setar                                     1              1\n",
       "         02;bedong                                         1              1\n",
       "         03;air berdang ipoh                               1              1\n",
       "         05;seremban                                       1              1\n",
       "         07;bukit mertajam                                 1              1\n",
       "Lenovo   07;lebuh tenggiri                                 1              1\n",
       "\n",
       "[472 rows x 2 columns]"
      ]
     },
     "execution_count": 44,
     "metadata": {},
     "output_type": "execute_result"
    }
   ],
   "source": [
    "df0g = df0.groupby(['brand', 'city'])['carousell_uniques', 'total_uniques'].sum()\n",
    "df0g.sort('carousell_uniques', ascending = False)"
   ]
  },
  {
   "cell_type": "code",
   "execution_count": 45,
   "metadata": {
    "collapsed": false
   },
   "outputs": [
    {
     "name": "stderr",
     "output_type": "stream",
     "text": [
      "/Users/carol/anaconda/lib/python2.7/site-packages/ipykernel/__main__.py:2: FutureWarning: sort(columns=....) is deprecated, use sort_values(by=.....)\n",
      "  from ipykernel import kernelapp as app\n"
     ]
    },
    {
     "data": {
      "text/html": [
       "<div>\n",
       "<table border=\"1\" class=\"dataframe\">\n",
       "  <thead>\n",
       "    <tr style=\"text-align: right;\">\n",
       "      <th></th>\n",
       "      <th></th>\n",
       "      <th>carousell_uniques</th>\n",
       "      <th>total_uniques</th>\n",
       "    </tr>\n",
       "    <tr>\n",
       "      <th>brand</th>\n",
       "      <th>city</th>\n",
       "      <th></th>\n",
       "      <th></th>\n",
       "    </tr>\n",
       "  </thead>\n",
       "  <tbody>\n",
       "    <tr>\n",
       "      <th rowspan=\"61\" valign=\"top\">Samsung</th>\n",
       "      <th>14;kuala lumpur</th>\n",
       "      <td>2187</td>\n",
       "      <td>22901</td>\n",
       "    </tr>\n",
       "    <tr>\n",
       "      <th>10;petaling jaya</th>\n",
       "      <td>632</td>\n",
       "      <td>4792</td>\n",
       "    </tr>\n",
       "    <tr>\n",
       "      <th>10;shah alam</th>\n",
       "      <td>213</td>\n",
       "      <td>1406</td>\n",
       "    </tr>\n",
       "    <tr>\n",
       "      <th>10;puchong</th>\n",
       "      <td>121</td>\n",
       "      <td>553</td>\n",
       "    </tr>\n",
       "    <tr>\n",
       "      <th>10;batu caves</th>\n",
       "      <td>112</td>\n",
       "      <td>458</td>\n",
       "    </tr>\n",
       "    <tr>\n",
       "      <th>12;kota kinabalu</th>\n",
       "      <td>101</td>\n",
       "      <td>415</td>\n",
       "    </tr>\n",
       "    <tr>\n",
       "      <th>10;klang</th>\n",
       "      <td>76</td>\n",
       "      <td>309</td>\n",
       "    </tr>\n",
       "    <tr>\n",
       "      <th>10;kajang</th>\n",
       "      <td>66</td>\n",
       "      <td>227</td>\n",
       "    </tr>\n",
       "    <tr>\n",
       "      <th>01;johor bahru</th>\n",
       "      <td>53</td>\n",
       "      <td>190</td>\n",
       "    </tr>\n",
       "    <tr>\n",
       "      <th>06;kuantan</th>\n",
       "      <td>43</td>\n",
       "      <td>112</td>\n",
       "    </tr>\n",
       "    <tr>\n",
       "      <th>05;seremban</th>\n",
       "      <td>38</td>\n",
       "      <td>108</td>\n",
       "    </tr>\n",
       "    <tr>\n",
       "      <th>10;seri kembangan</th>\n",
       "      <td>36</td>\n",
       "      <td>72</td>\n",
       "    </tr>\n",
       "    <tr>\n",
       "      <th>10;jalan tasik selatan</th>\n",
       "      <td>33</td>\n",
       "      <td>60</td>\n",
       "    </tr>\n",
       "    <tr>\n",
       "      <th>10;bandar utama</th>\n",
       "      <td>32</td>\n",
       "      <td>66</td>\n",
       "    </tr>\n",
       "    <tr>\n",
       "      <th>07;lebuh downing</th>\n",
       "      <td>25</td>\n",
       "      <td>55</td>\n",
       "    </tr>\n",
       "    <tr>\n",
       "      <th>08;ipoh</th>\n",
       "      <td>24</td>\n",
       "      <td>39</td>\n",
       "    </tr>\n",
       "    <tr>\n",
       "      <th>13;kuching</th>\n",
       "      <td>23</td>\n",
       "      <td>76</td>\n",
       "    </tr>\n",
       "    <tr>\n",
       "      <th>04;melaka</th>\n",
       "      <td>22</td>\n",
       "      <td>64</td>\n",
       "    </tr>\n",
       "    <tr>\n",
       "      <th>10;ampang</th>\n",
       "      <td>20</td>\n",
       "      <td>30</td>\n",
       "    </tr>\n",
       "    <tr>\n",
       "      <th>10;jalan sp 20</th>\n",
       "      <td>19</td>\n",
       "      <td>34</td>\n",
       "    </tr>\n",
       "    <tr>\n",
       "      <th>11;kuala terengganu</th>\n",
       "      <td>16</td>\n",
       "      <td>29</td>\n",
       "    </tr>\n",
       "    <tr>\n",
       "      <th>03;kota bharu</th>\n",
       "      <td>16</td>\n",
       "      <td>26</td>\n",
       "    </tr>\n",
       "    <tr>\n",
       "      <th>02;alor setar</th>\n",
       "      <td>15</td>\n",
       "      <td>20</td>\n",
       "    </tr>\n",
       "    <tr>\n",
       "      <th>05;nilai</th>\n",
       "      <td>14</td>\n",
       "      <td>23</td>\n",
       "    </tr>\n",
       "    <tr>\n",
       "      <th>13;bintulu</th>\n",
       "      <td>14</td>\n",
       "      <td>32</td>\n",
       "    </tr>\n",
       "    <tr>\n",
       "      <th>02;sungai petani</th>\n",
       "      <td>13</td>\n",
       "      <td>14</td>\n",
       "    </tr>\n",
       "    <tr>\n",
       "      <th>10;subang jaya - usj 19 - 24</th>\n",
       "      <td>12</td>\n",
       "      <td>32</td>\n",
       "    </tr>\n",
       "    <tr>\n",
       "      <th>13;miri</th>\n",
       "      <td>12</td>\n",
       "      <td>16</td>\n",
       "    </tr>\n",
       "    <tr>\n",
       "      <th>07;bayan lepas</th>\n",
       "      <td>8</td>\n",
       "      <td>12</td>\n",
       "    </tr>\n",
       "    <tr>\n",
       "      <th>10;cheras</th>\n",
       "      <td>7</td>\n",
       "      <td>13</td>\n",
       "    </tr>\n",
       "    <tr>\n",
       "      <th>...</th>\n",
       "      <td>...</td>\n",
       "      <td>...</td>\n",
       "    </tr>\n",
       "    <tr>\n",
       "      <th>07;lebuh tunku kudin 2</th>\n",
       "      <td>2</td>\n",
       "      <td>2</td>\n",
       "    </tr>\n",
       "    <tr>\n",
       "      <th>01;pontian</th>\n",
       "      <td>2</td>\n",
       "      <td>2</td>\n",
       "    </tr>\n",
       "    <tr>\n",
       "      <th>01;ulu tiram</th>\n",
       "      <td>2</td>\n",
       "      <td>2</td>\n",
       "    </tr>\n",
       "    <tr>\n",
       "      <th>02;changloon</th>\n",
       "      <td>2</td>\n",
       "      <td>2</td>\n",
       "    </tr>\n",
       "    <tr>\n",
       "      <th>04;jalan teratai</th>\n",
       "      <td>2</td>\n",
       "      <td>2</td>\n",
       "    </tr>\n",
       "    <tr>\n",
       "      <th>09;kangar</th>\n",
       "      <td>1</td>\n",
       "      <td>1</td>\n",
       "    </tr>\n",
       "    <tr>\n",
       "      <th>11;dungun</th>\n",
       "      <td>1</td>\n",
       "      <td>1</td>\n",
       "    </tr>\n",
       "    <tr>\n",
       "      <th>11;alor gali</th>\n",
       "      <td>1</td>\n",
       "      <td>1</td>\n",
       "    </tr>\n",
       "    <tr>\n",
       "      <th>11;bukit payong</th>\n",
       "      <td>1</td>\n",
       "      <td>2</td>\n",
       "    </tr>\n",
       "    <tr>\n",
       "      <th>12;sandakan</th>\n",
       "      <td>1</td>\n",
       "      <td>1</td>\n",
       "    </tr>\n",
       "    <tr>\n",
       "      <th>02;kampung pulau chengai</th>\n",
       "      <td>1</td>\n",
       "      <td>1</td>\n",
       "    </tr>\n",
       "    <tr>\n",
       "      <th>02;kuah</th>\n",
       "      <td>1</td>\n",
       "      <td>1</td>\n",
       "    </tr>\n",
       "    <tr>\n",
       "      <th>01;pasir gudang</th>\n",
       "      <td>1</td>\n",
       "      <td>1</td>\n",
       "    </tr>\n",
       "    <tr>\n",
       "      <th>01;kulai</th>\n",
       "      <td>1</td>\n",
       "      <td>1</td>\n",
       "    </tr>\n",
       "    <tr>\n",
       "      <th>10;subang jaya - usj 5 - 8</th>\n",
       "      <td>1</td>\n",
       "      <td>1</td>\n",
       "    </tr>\n",
       "    <tr>\n",
       "      <th>03;bakat</th>\n",
       "      <td>1</td>\n",
       "      <td>1</td>\n",
       "    </tr>\n",
       "    <tr>\n",
       "      <th>10;subang jaya - usj 12 - 18</th>\n",
       "      <td>1</td>\n",
       "      <td>1</td>\n",
       "    </tr>\n",
       "    <tr>\n",
       "      <th>08;taiping</th>\n",
       "      <td>1</td>\n",
       "      <td>3</td>\n",
       "    </tr>\n",
       "    <tr>\n",
       "      <th>10;rawang</th>\n",
       "      <td>1</td>\n",
       "      <td>1</td>\n",
       "    </tr>\n",
       "    <tr>\n",
       "      <th>06;bentong</th>\n",
       "      <td>1</td>\n",
       "      <td>1</td>\n",
       "    </tr>\n",
       "    <tr>\n",
       "      <th>06;kampung baru</th>\n",
       "      <td>1</td>\n",
       "      <td>1</td>\n",
       "    </tr>\n",
       "    <tr>\n",
       "      <th>06;kuala pahang</th>\n",
       "      <td>1</td>\n",
       "      <td>1</td>\n",
       "    </tr>\n",
       "    <tr>\n",
       "      <th>06;temerloh</th>\n",
       "      <td>1</td>\n",
       "      <td>1</td>\n",
       "    </tr>\n",
       "    <tr>\n",
       "      <th>07;george town</th>\n",
       "      <td>1</td>\n",
       "      <td>1</td>\n",
       "    </tr>\n",
       "    <tr>\n",
       "      <th>07;lebuh tenggiri</th>\n",
       "      <td>1</td>\n",
       "      <td>1</td>\n",
       "    </tr>\n",
       "    <tr>\n",
       "      <th>10;jalan sri tasik barat</th>\n",
       "      <td>1</td>\n",
       "      <td>1</td>\n",
       "    </tr>\n",
       "    <tr>\n",
       "      <th>07;lebuhraya codrington</th>\n",
       "      <td>1</td>\n",
       "      <td>1</td>\n",
       "    </tr>\n",
       "    <tr>\n",
       "      <th>07;perai</th>\n",
       "      <td>1</td>\n",
       "      <td>1</td>\n",
       "    </tr>\n",
       "    <tr>\n",
       "      <th>01;bandar universiti</th>\n",
       "      <td>1</td>\n",
       "      <td>1</td>\n",
       "    </tr>\n",
       "    <tr>\n",
       "      <th>08;arena perpaduan sentosa</th>\n",
       "      <td>1</td>\n",
       "      <td>1</td>\n",
       "    </tr>\n",
       "  </tbody>\n",
       "</table>\n",
       "<p>78 rows × 2 columns</p>\n",
       "</div>"
      ],
      "text/plain": [
       "                                      carousell_uniques  total_uniques\n",
       "brand   city                                                          \n",
       "Samsung 14;kuala lumpur                            2187          22901\n",
       "        10;petaling jaya                            632           4792\n",
       "        10;shah alam                                213           1406\n",
       "        10;puchong                                  121            553\n",
       "        10;batu caves                               112            458\n",
       "        12;kota kinabalu                            101            415\n",
       "        10;klang                                     76            309\n",
       "        10;kajang                                    66            227\n",
       "        01;johor bahru                               53            190\n",
       "        06;kuantan                                   43            112\n",
       "        05;seremban                                  38            108\n",
       "        10;seri kembangan                            36             72\n",
       "        10;jalan tasik selatan                       33             60\n",
       "        10;bandar utama                              32             66\n",
       "        07;lebuh downing                             25             55\n",
       "        08;ipoh                                      24             39\n",
       "        13;kuching                                   23             76\n",
       "        04;melaka                                    22             64\n",
       "        10;ampang                                    20             30\n",
       "        10;jalan sp 20                               19             34\n",
       "        11;kuala terengganu                          16             29\n",
       "        03;kota bharu                                16             26\n",
       "        02;alor setar                                15             20\n",
       "        05;nilai                                     14             23\n",
       "        13;bintulu                                   14             32\n",
       "        02;sungai petani                             13             14\n",
       "        10;subang jaya - usj 19 - 24                 12             32\n",
       "        13;miri                                      12             16\n",
       "        07;bayan lepas                                8             12\n",
       "        10;cheras                                     7             13\n",
       "...                                                 ...            ...\n",
       "        07;lebuh tunku kudin 2                        2              2\n",
       "        01;pontian                                    2              2\n",
       "        01;ulu tiram                                  2              2\n",
       "        02;changloon                                  2              2\n",
       "        04;jalan teratai                              2              2\n",
       "        09;kangar                                     1              1\n",
       "        11;dungun                                     1              1\n",
       "        11;alor gali                                  1              1\n",
       "        11;bukit payong                               1              2\n",
       "        12;sandakan                                   1              1\n",
       "        02;kampung pulau chengai                      1              1\n",
       "        02;kuah                                       1              1\n",
       "        01;pasir gudang                               1              1\n",
       "        01;kulai                                      1              1\n",
       "        10;subang jaya - usj 5 - 8                    1              1\n",
       "        03;bakat                                      1              1\n",
       "        10;subang jaya - usj 12 - 18                  1              1\n",
       "        08;taiping                                    1              3\n",
       "        10;rawang                                     1              1\n",
       "        06;bentong                                    1              1\n",
       "        06;kampung baru                               1              1\n",
       "        06;kuala pahang                               1              1\n",
       "        06;temerloh                                   1              1\n",
       "        07;george town                                1              1\n",
       "        07;lebuh tenggiri                             1              1\n",
       "        10;jalan sri tasik barat                      1              1\n",
       "        07;lebuhraya codrington                       1              1\n",
       "        07;perai                                      1              1\n",
       "        01;bandar universiti                          1              1\n",
       "        08;arena perpaduan sentosa                    1              1\n",
       "\n",
       "[78 rows x 2 columns]"
      ]
     },
     "execution_count": 45,
     "metadata": {},
     "output_type": "execute_result"
    }
   ],
   "source": [
    "df1g = df1.groupby(['brand', 'city'])['carousell_uniques', 'total_uniques'].sum()\n",
    "df1g.sort('carousell_uniques', ascending = False)"
   ]
  },
  {
   "cell_type": "code",
   "execution_count": 46,
   "metadata": {
    "collapsed": false
   },
   "outputs": [
    {
     "name": "stderr",
     "output_type": "stream",
     "text": [
      "/Users/carol/anaconda/lib/python2.7/site-packages/ipykernel/__main__.py:2: FutureWarning: sort(columns=....) is deprecated, use sort_values(by=.....)\n",
      "  from ipykernel import kernelapp as app\n"
     ]
    },
    {
     "data": {
      "text/html": [
       "<div>\n",
       "<table border=\"1\" class=\"dataframe\">\n",
       "  <thead>\n",
       "    <tr style=\"text-align: right;\">\n",
       "      <th></th>\n",
       "      <th></th>\n",
       "      <th>carousell_uniques</th>\n",
       "      <th>total_uniques</th>\n",
       "    </tr>\n",
       "    <tr>\n",
       "      <th>brand</th>\n",
       "      <th>city</th>\n",
       "      <th></th>\n",
       "      <th></th>\n",
       "    </tr>\n",
       "  </thead>\n",
       "  <tbody>\n",
       "    <tr>\n",
       "      <th>Lenovo</th>\n",
       "      <th>14;kuala lumpur</th>\n",
       "      <td>1303</td>\n",
       "      <td>15688</td>\n",
       "    </tr>\n",
       "    <tr>\n",
       "      <th>Generic</th>\n",
       "      <th>14;kuala lumpur</th>\n",
       "      <td>481</td>\n",
       "      <td>5639</td>\n",
       "    </tr>\n",
       "    <tr>\n",
       "      <th>Asus</th>\n",
       "      <th>14;kuala lumpur</th>\n",
       "      <td>365</td>\n",
       "      <td>4225</td>\n",
       "    </tr>\n",
       "    <tr>\n",
       "      <th>Xiaomi</th>\n",
       "      <th>14;kuala lumpur</th>\n",
       "      <td>303</td>\n",
       "      <td>1430</td>\n",
       "    </tr>\n",
       "    <tr>\n",
       "      <th>OPPO</th>\n",
       "      <th>14;kuala lumpur</th>\n",
       "      <td>251</td>\n",
       "      <td>1900</td>\n",
       "    </tr>\n",
       "    <tr>\n",
       "      <th>Vivo</th>\n",
       "      <th>14;kuala lumpur</th>\n",
       "      <td>178</td>\n",
       "      <td>1576</td>\n",
       "    </tr>\n",
       "    <tr>\n",
       "      <th>Huawei</th>\n",
       "      <th>14;kuala lumpur</th>\n",
       "      <td>162</td>\n",
       "      <td>772</td>\n",
       "    </tr>\n",
       "    <tr>\n",
       "      <th>Sony</th>\n",
       "      <th>14;kuala lumpur</th>\n",
       "      <td>115</td>\n",
       "      <td>508</td>\n",
       "    </tr>\n",
       "    <tr>\n",
       "      <th>Leagoo</th>\n",
       "      <th>14;kuala lumpur</th>\n",
       "      <td>96</td>\n",
       "      <td>520</td>\n",
       "    </tr>\n",
       "    <tr>\n",
       "      <th>ZTE</th>\n",
       "      <th>14;kuala lumpur</th>\n",
       "      <td>80</td>\n",
       "      <td>451</td>\n",
       "    </tr>\n",
       "    <tr>\n",
       "      <th>HTC</th>\n",
       "      <th>14;kuala lumpur</th>\n",
       "      <td>50</td>\n",
       "      <td>134</td>\n",
       "    </tr>\n",
       "    <tr>\n",
       "      <th>Alcatel</th>\n",
       "      <th>14;kuala lumpur</th>\n",
       "      <td>36</td>\n",
       "      <td>493</td>\n",
       "    </tr>\n",
       "    <tr>\n",
       "      <th>China Phone</th>\n",
       "      <th>14;kuala lumpur</th>\n",
       "      <td>30</td>\n",
       "      <td>53</td>\n",
       "    </tr>\n",
       "    <tr>\n",
       "      <th>SonyEricsson</th>\n",
       "      <th>14;kuala lumpur</th>\n",
       "      <td>27</td>\n",
       "      <td>185</td>\n",
       "    </tr>\n",
       "    <tr>\n",
       "      <th>ExMobile</th>\n",
       "      <th>14;kuala lumpur</th>\n",
       "      <td>17</td>\n",
       "      <td>43</td>\n",
       "    </tr>\n",
       "    <tr>\n",
       "      <th>OnePlus</th>\n",
       "      <th>14;kuala lumpur</th>\n",
       "      <td>16</td>\n",
       "      <td>62</td>\n",
       "    </tr>\n",
       "    <tr>\n",
       "      <th>Acer</th>\n",
       "      <th>14;kuala lumpur</th>\n",
       "      <td>14</td>\n",
       "      <td>27</td>\n",
       "    </tr>\n",
       "    <tr>\n",
       "      <th>iZoom</th>\n",
       "      <th>14;kuala lumpur</th>\n",
       "      <td>14</td>\n",
       "      <td>167</td>\n",
       "    </tr>\n",
       "    <tr>\n",
       "      <th>Google</th>\n",
       "      <th>14;kuala lumpur</th>\n",
       "      <td>12</td>\n",
       "      <td>22</td>\n",
       "    </tr>\n",
       "    <tr>\n",
       "      <th>DOOGEE</th>\n",
       "      <th>14;kuala lumpur</th>\n",
       "      <td>11</td>\n",
       "      <td>21</td>\n",
       "    </tr>\n",
       "    <tr>\n",
       "      <th>Winds</th>\n",
       "      <th>14;kuala lumpur</th>\n",
       "      <td>10</td>\n",
       "      <td>38</td>\n",
       "    </tr>\n",
       "    <tr>\n",
       "      <th>Meizu</th>\n",
       "      <th>14;kuala lumpur</th>\n",
       "      <td>10</td>\n",
       "      <td>21</td>\n",
       "    </tr>\n",
       "    <tr>\n",
       "      <th>LG</th>\n",
       "      <th>14;kuala lumpur</th>\n",
       "      <td>8</td>\n",
       "      <td>8</td>\n",
       "    </tr>\n",
       "    <tr>\n",
       "      <th>Wiko</th>\n",
       "      <th>14;kuala lumpur</th>\n",
       "      <td>7</td>\n",
       "      <td>13</td>\n",
       "    </tr>\n",
       "    <tr>\n",
       "      <th>Lava</th>\n",
       "      <th>14;kuala lumpur</th>\n",
       "      <td>6</td>\n",
       "      <td>33</td>\n",
       "    </tr>\n",
       "    <tr>\n",
       "      <th>KingSing</th>\n",
       "      <th>14;kuala lumpur</th>\n",
       "      <td>6</td>\n",
       "      <td>19</td>\n",
       "    </tr>\n",
       "    <tr>\n",
       "      <th>InFocus</th>\n",
       "      <th>14;kuala lumpur</th>\n",
       "      <td>3</td>\n",
       "      <td>8</td>\n",
       "    </tr>\n",
       "    <tr>\n",
       "      <th>Blackview</th>\n",
       "      <th>14;kuala lumpur</th>\n",
       "      <td>3</td>\n",
       "      <td>8</td>\n",
       "    </tr>\n",
       "    <tr>\n",
       "      <th>Jiayu</th>\n",
       "      <th>14;kuala lumpur</th>\n",
       "      <td>3</td>\n",
       "      <td>3</td>\n",
       "    </tr>\n",
       "    <tr>\n",
       "      <th>Kyocera</th>\n",
       "      <th>14;kuala lumpur</th>\n",
       "      <td>3</td>\n",
       "      <td>6</td>\n",
       "    </tr>\n",
       "    <tr>\n",
       "      <th>Phicomm</th>\n",
       "      <th>14;kuala lumpur</th>\n",
       "      <td>2</td>\n",
       "      <td>2</td>\n",
       "    </tr>\n",
       "    <tr>\n",
       "      <th>Motorola</th>\n",
       "      <th>14;kuala lumpur</th>\n",
       "      <td>2</td>\n",
       "      <td>4</td>\n",
       "    </tr>\n",
       "    <tr>\n",
       "      <th>Elephone</th>\n",
       "      <th>14;kuala lumpur</th>\n",
       "      <td>2</td>\n",
       "      <td>2</td>\n",
       "    </tr>\n",
       "    <tr>\n",
       "      <th>Symphony</th>\n",
       "      <th>14;kuala lumpur</th>\n",
       "      <td>2</td>\n",
       "      <td>2</td>\n",
       "    </tr>\n",
       "    <tr>\n",
       "      <th>YES</th>\n",
       "      <th>14;kuala lumpur</th>\n",
       "      <td>2</td>\n",
       "      <td>11</td>\n",
       "    </tr>\n",
       "    <tr>\n",
       "      <th>Xgody</th>\n",
       "      <th>14;kuala lumpur</th>\n",
       "      <td>2</td>\n",
       "      <td>2</td>\n",
       "    </tr>\n",
       "    <tr>\n",
       "      <th>Intex</th>\n",
       "      <th>14;kuala lumpur</th>\n",
       "      <td>1</td>\n",
       "      <td>1</td>\n",
       "    </tr>\n",
       "    <tr>\n",
       "      <th>ZOPO</th>\n",
       "      <th>14;kuala lumpur</th>\n",
       "      <td>1</td>\n",
       "      <td>2</td>\n",
       "    </tr>\n",
       "    <tr>\n",
       "      <th>Cubot</th>\n",
       "      <th>14;kuala lumpur</th>\n",
       "      <td>1</td>\n",
       "      <td>1</td>\n",
       "    </tr>\n",
       "    <tr>\n",
       "      <th>HOMTOM</th>\n",
       "      <th>14;kuala lumpur</th>\n",
       "      <td>1</td>\n",
       "      <td>1</td>\n",
       "    </tr>\n",
       "    <tr>\n",
       "      <th>Advan</th>\n",
       "      <th>14;kuala lumpur</th>\n",
       "      <td>1</td>\n",
       "      <td>1</td>\n",
       "    </tr>\n",
       "    <tr>\n",
       "      <th>Oukitel</th>\n",
       "      <th>14;kuala lumpur</th>\n",
       "      <td>1</td>\n",
       "      <td>1</td>\n",
       "    </tr>\n",
       "    <tr>\n",
       "      <th>VC</th>\n",
       "      <th>14;kuala lumpur</th>\n",
       "      <td>1</td>\n",
       "      <td>8</td>\n",
       "    </tr>\n",
       "    <tr>\n",
       "      <th>Melrose</th>\n",
       "      <th>14;kuala lumpur</th>\n",
       "      <td>1</td>\n",
       "      <td>1</td>\n",
       "    </tr>\n",
       "    <tr>\n",
       "      <th>Solotab</th>\n",
       "      <th>14;kuala lumpur</th>\n",
       "      <td>1</td>\n",
       "      <td>1</td>\n",
       "    </tr>\n",
       "    <tr>\n",
       "      <th>Meitu</th>\n",
       "      <th>14;kuala lumpur</th>\n",
       "      <td>1</td>\n",
       "      <td>1</td>\n",
       "    </tr>\n",
       "  </tbody>\n",
       "</table>\n",
       "</div>"
      ],
      "text/plain": [
       "                              carousell_uniques  total_uniques\n",
       "brand        city                                             \n",
       "Lenovo       14;kuala lumpur               1303          15688\n",
       "Generic      14;kuala lumpur                481           5639\n",
       "Asus         14;kuala lumpur                365           4225\n",
       "Xiaomi       14;kuala lumpur                303           1430\n",
       "OPPO         14;kuala lumpur                251           1900\n",
       "Vivo         14;kuala lumpur                178           1576\n",
       "Huawei       14;kuala lumpur                162            772\n",
       "Sony         14;kuala lumpur                115            508\n",
       "Leagoo       14;kuala lumpur                 96            520\n",
       "ZTE          14;kuala lumpur                 80            451\n",
       "HTC          14;kuala lumpur                 50            134\n",
       "Alcatel      14;kuala lumpur                 36            493\n",
       "China Phone  14;kuala lumpur                 30             53\n",
       "SonyEricsson 14;kuala lumpur                 27            185\n",
       "ExMobile     14;kuala lumpur                 17             43\n",
       "OnePlus      14;kuala lumpur                 16             62\n",
       "Acer         14;kuala lumpur                 14             27\n",
       "iZoom        14;kuala lumpur                 14            167\n",
       "Google       14;kuala lumpur                 12             22\n",
       "DOOGEE       14;kuala lumpur                 11             21\n",
       "Winds        14;kuala lumpur                 10             38\n",
       "Meizu        14;kuala lumpur                 10             21\n",
       "LG           14;kuala lumpur                  8              8\n",
       "Wiko         14;kuala lumpur                  7             13\n",
       "Lava         14;kuala lumpur                  6             33\n",
       "KingSing     14;kuala lumpur                  6             19\n",
       "InFocus      14;kuala lumpur                  3              8\n",
       "Blackview    14;kuala lumpur                  3              8\n",
       "Jiayu        14;kuala lumpur                  3              3\n",
       "Kyocera      14;kuala lumpur                  3              6\n",
       "Phicomm      14;kuala lumpur                  2              2\n",
       "Motorola     14;kuala lumpur                  2              4\n",
       "Elephone     14;kuala lumpur                  2              2\n",
       "Symphony     14;kuala lumpur                  2              2\n",
       "YES          14;kuala lumpur                  2             11\n",
       "Xgody        14;kuala lumpur                  2              2\n",
       "Intex        14;kuala lumpur                  1              1\n",
       "ZOPO         14;kuala lumpur                  1              2\n",
       "Cubot        14;kuala lumpur                  1              1\n",
       "HOMTOM       14;kuala lumpur                  1              1\n",
       "Advan        14;kuala lumpur                  1              1\n",
       "Oukitel      14;kuala lumpur                  1              1\n",
       "VC           14;kuala lumpur                  1              8\n",
       "Melrose      14;kuala lumpur                  1              1\n",
       "Solotab      14;kuala lumpur                  1              1\n",
       "Meitu        14;kuala lumpur                  1              1"
      ]
     },
     "execution_count": 46,
     "metadata": {},
     "output_type": "execute_result"
    }
   ],
   "source": [
    "df2g = df2.groupby(['brand', 'city'])['carousell_uniques', 'total_uniques'].sum()\n",
    "df2g.sort('carousell_uniques', ascending = False)"
   ]
  },
  {
   "cell_type": "code",
   "execution_count": null,
   "metadata": {
    "collapsed": true
   },
   "outputs": [],
   "source": []
  },
  {
   "cell_type": "code",
   "execution_count": null,
   "metadata": {
    "collapsed": true
   },
   "outputs": [],
   "source": []
  },
  {
   "cell_type": "code",
   "execution_count": null,
   "metadata": {
    "collapsed": true
   },
   "outputs": [],
   "source": []
  },
  {
   "cell_type": "code",
   "execution_count": null,
   "metadata": {
    "collapsed": true
   },
   "outputs": [],
   "source": []
  },
  {
   "cell_type": "code",
   "execution_count": null,
   "metadata": {
    "collapsed": true
   },
   "outputs": [],
   "source": []
  },
  {
   "cell_type": "code",
   "execution_count": null,
   "metadata": {
    "collapsed": true
   },
   "outputs": [],
   "source": []
  }
 ],
 "metadata": {
  "kernelspec": {
   "display_name": "Python 2",
   "language": "python",
   "name": "python2"
  },
  "language_info": {
   "codemirror_mode": {
    "name": "ipython",
    "version": 2
   },
   "file_extension": ".py",
   "mimetype": "text/x-python",
   "name": "python",
   "nbconvert_exporter": "python",
   "pygments_lexer": "ipython2",
   "version": "2.7.13"
  }
 },
 "nbformat": 4,
 "nbformat_minor": 2
}
